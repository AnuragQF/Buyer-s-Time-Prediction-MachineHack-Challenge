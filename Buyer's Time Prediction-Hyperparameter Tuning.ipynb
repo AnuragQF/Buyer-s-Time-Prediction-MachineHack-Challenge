{
 "cells": [
  {
   "cell_type": "code",
   "execution_count": 115,
   "metadata": {},
   "outputs": [],
   "source": [
    "import pandas as pd\n",
    "import numpy as np\n",
    "import seaborn as sns\n",
    "import matplotlib.pyplot as plt"
   ]
  },
  {
   "cell_type": "code",
   "execution_count": 116,
   "metadata": {},
   "outputs": [
    {
     "data": {
      "text/html": [
       "<div>\n",
       "<style scoped>\n",
       "    .dataframe tbody tr th:only-of-type {\n",
       "        vertical-align: middle;\n",
       "    }\n",
       "\n",
       "    .dataframe tbody tr th {\n",
       "        vertical-align: top;\n",
       "    }\n",
       "\n",
       "    .dataframe thead th {\n",
       "        text-align: right;\n",
       "    }\n",
       "</style>\n",
       "<table border=\"1\" class=\"dataframe\">\n",
       "  <thead>\n",
       "    <tr style=\"text-align: right;\">\n",
       "      <th></th>\n",
       "      <th>session_id</th>\n",
       "      <th>session_number</th>\n",
       "      <th>client_agent</th>\n",
       "      <th>device_details</th>\n",
       "      <th>date</th>\n",
       "      <th>purchased</th>\n",
       "      <th>added_in_cart</th>\n",
       "      <th>checked_out</th>\n",
       "      <th>time_spent</th>\n",
       "    </tr>\n",
       "  </thead>\n",
       "  <tbody>\n",
       "    <tr>\n",
       "      <td>0</td>\n",
       "      <td>57f879e70d3c5fc2a98102d64c9fd84e</td>\n",
       "      <td>715</td>\n",
       "      <td>Mozilla/5.0 (Windows NT 6.1; WOW64) AppleWebKi...</td>\n",
       "      <td>Desktop - Chrome</td>\n",
       "      <td>2020-01-22</td>\n",
       "      <td>1</td>\n",
       "      <td>0</td>\n",
       "      <td>0</td>\n",
       "      <td>236.886</td>\n",
       "    </tr>\n",
       "    <tr>\n",
       "      <td>1</td>\n",
       "      <td>a5442b0c7c33d0a811e7661e556b2de8</td>\n",
       "      <td>55</td>\n",
       "      <td>Product/8.0 iPhone/8.1.3</td>\n",
       "      <td>iPhone - iOS</td>\n",
       "      <td>2020-02-27</td>\n",
       "      <td>1</td>\n",
       "      <td>0</td>\n",
       "      <td>0</td>\n",
       "      <td>1277.455</td>\n",
       "    </tr>\n",
       "    <tr>\n",
       "      <td>2</td>\n",
       "      <td>305cb1486ed8610c00b37007926cb2c4</td>\n",
       "      <td>11</td>\n",
       "      <td>Mozilla/5.0 (iPhone; CPU iPhone OS 7_1_2 like ...</td>\n",
       "      <td>iPhone - MobileWeb</td>\n",
       "      <td>2019-08-01</td>\n",
       "      <td>0</td>\n",
       "      <td>0</td>\n",
       "      <td>0</td>\n",
       "      <td>21.704</td>\n",
       "    </tr>\n",
       "    <tr>\n",
       "      <td>3</td>\n",
       "      <td>f2c1ecc9993f0071df91ba178450498c</td>\n",
       "      <td>2794</td>\n",
       "      <td>Mozilla/5.0 (compatible; MSIE 9.0; Windows NT ...</td>\n",
       "      <td>Desktop - IE</td>\n",
       "      <td>2019-12-30</td>\n",
       "      <td>0</td>\n",
       "      <td>1</td>\n",
       "      <td>0</td>\n",
       "      <td>455.201</td>\n",
       "    </tr>\n",
       "    <tr>\n",
       "      <td>4</td>\n",
       "      <td>e460830ae295e55d2216ebdc761ab9a6</td>\n",
       "      <td>3674</td>\n",
       "      <td>Mozilla/5.0 (iPhone; CPU iPhone OS 7_1_1 like ...</td>\n",
       "      <td>iPhone - Web</td>\n",
       "      <td>2019-09-10</td>\n",
       "      <td>0</td>\n",
       "      <td>0</td>\n",
       "      <td>0</td>\n",
       "      <td>1164.877</td>\n",
       "    </tr>\n",
       "  </tbody>\n",
       "</table>\n",
       "</div>"
      ],
      "text/plain": [
       "                         session_id  session_number  \\\n",
       "0  57f879e70d3c5fc2a98102d64c9fd84e             715   \n",
       "1  a5442b0c7c33d0a811e7661e556b2de8              55   \n",
       "2  305cb1486ed8610c00b37007926cb2c4              11   \n",
       "3  f2c1ecc9993f0071df91ba178450498c            2794   \n",
       "4  e460830ae295e55d2216ebdc761ab9a6            3674   \n",
       "\n",
       "                                        client_agent      device_details  \\\n",
       "0  Mozilla/5.0 (Windows NT 6.1; WOW64) AppleWebKi...    Desktop - Chrome   \n",
       "1                           Product/8.0 iPhone/8.1.3        iPhone - iOS   \n",
       "2  Mozilla/5.0 (iPhone; CPU iPhone OS 7_1_2 like ...  iPhone - MobileWeb   \n",
       "3  Mozilla/5.0 (compatible; MSIE 9.0; Windows NT ...        Desktop - IE   \n",
       "4  Mozilla/5.0 (iPhone; CPU iPhone OS 7_1_1 like ...        iPhone - Web   \n",
       "\n",
       "         date  purchased  added_in_cart  checked_out  time_spent  \n",
       "0  2020-01-22          1              0            0     236.886  \n",
       "1  2020-02-27          1              0            0    1277.455  \n",
       "2  2019-08-01          0              0            0      21.704  \n",
       "3  2019-12-30          0              1            0     455.201  \n",
       "4  2019-09-10          0              0            0    1164.877  "
      ]
     },
     "execution_count": 116,
     "metadata": {},
     "output_type": "execute_result"
    }
   ],
   "source": [
    "df = pd.read_csv(\"C:/Users/91899/Desktop/Machine Hack/Buyer's Time Prediction Challenge/ParticipantData_BTPC/train.csv\")\n",
    "df.head()"
   ]
  },
  {
   "cell_type": "code",
   "execution_count": 117,
   "metadata": {},
   "outputs": [
    {
     "data": {
      "text/html": [
       "<div>\n",
       "<style scoped>\n",
       "    .dataframe tbody tr th:only-of-type {\n",
       "        vertical-align: middle;\n",
       "    }\n",
       "\n",
       "    .dataframe tbody tr th {\n",
       "        vertical-align: top;\n",
       "    }\n",
       "\n",
       "    .dataframe thead th {\n",
       "        text-align: right;\n",
       "    }\n",
       "</style>\n",
       "<table border=\"1\" class=\"dataframe\">\n",
       "  <thead>\n",
       "    <tr style=\"text-align: right;\">\n",
       "      <th></th>\n",
       "      <th>session_id</th>\n",
       "      <th>session_number</th>\n",
       "      <th>client_agent</th>\n",
       "      <th>device_details</th>\n",
       "      <th>date</th>\n",
       "      <th>purchased</th>\n",
       "      <th>added_in_cart</th>\n",
       "      <th>checked_out</th>\n",
       "    </tr>\n",
       "  </thead>\n",
       "  <tbody>\n",
       "    <tr>\n",
       "      <td>0</td>\n",
       "      <td>0bf72b05b2cf70dc5e28c3c09f9c4f97</td>\n",
       "      <td>99</td>\n",
       "      <td>Mozilla/5.0 (Windows NT 6.1; WOW64; Trident/7....</td>\n",
       "      <td>Desktop - IE</td>\n",
       "      <td>2020-01-07</td>\n",
       "      <td>1</td>\n",
       "      <td>0</td>\n",
       "      <td>0</td>\n",
       "    </tr>\n",
       "    <tr>\n",
       "      <td>1</td>\n",
       "      <td>6bc696d99954e4f1367e845465186aef</td>\n",
       "      <td>935</td>\n",
       "      <td>Product/160393 Android/4.3 Device/samsung_GT-I...</td>\n",
       "      <td>Android Phone - Android</td>\n",
       "      <td>2020-02-13</td>\n",
       "      <td>0</td>\n",
       "      <td>0</td>\n",
       "      <td>0</td>\n",
       "    </tr>\n",
       "    <tr>\n",
       "      <td>2</td>\n",
       "      <td>3d8611a5ea0f621d205b67f09f663a89</td>\n",
       "      <td>902</td>\n",
       "      <td>Product/4.2.2 iPhone/7.1.2</td>\n",
       "      <td>iPhone - iOS</td>\n",
       "      <td>2019-10-14</td>\n",
       "      <td>1</td>\n",
       "      <td>0</td>\n",
       "      <td>0</td>\n",
       "    </tr>\n",
       "    <tr>\n",
       "      <td>3</td>\n",
       "      <td>a0351545c032fd0da36289410c6c3354</td>\n",
       "      <td>3223</td>\n",
       "      <td>Mozilla/5.0 (compatible; MSIE 9.0; Windows NT ...</td>\n",
       "      <td>Desktop - IE</td>\n",
       "      <td>2020-01-26</td>\n",
       "      <td>0</td>\n",
       "      <td>0</td>\n",
       "      <td>0</td>\n",
       "    </tr>\n",
       "    <tr>\n",
       "      <td>4</td>\n",
       "      <td>dd8999772b0ab27225fb05e5df2f1da6</td>\n",
       "      <td>231</td>\n",
       "      <td>Mozilla/5.0 (Windows NT 6.3; WOW64) AppleWebKi...</td>\n",
       "      <td>Desktop - Chrome</td>\n",
       "      <td>2020-01-29</td>\n",
       "      <td>0</td>\n",
       "      <td>0</td>\n",
       "      <td>0</td>\n",
       "    </tr>\n",
       "  </tbody>\n",
       "</table>\n",
       "</div>"
      ],
      "text/plain": [
       "                         session_id  session_number  \\\n",
       "0  0bf72b05b2cf70dc5e28c3c09f9c4f97              99   \n",
       "1  6bc696d99954e4f1367e845465186aef             935   \n",
       "2  3d8611a5ea0f621d205b67f09f663a89             902   \n",
       "3  a0351545c032fd0da36289410c6c3354            3223   \n",
       "4  dd8999772b0ab27225fb05e5df2f1da6             231   \n",
       "\n",
       "                                        client_agent           device_details  \\\n",
       "0  Mozilla/5.0 (Windows NT 6.1; WOW64; Trident/7....             Desktop - IE   \n",
       "1  Product/160393 Android/4.3 Device/samsung_GT-I...  Android Phone - Android   \n",
       "2                         Product/4.2.2 iPhone/7.1.2             iPhone - iOS   \n",
       "3  Mozilla/5.0 (compatible; MSIE 9.0; Windows NT ...             Desktop - IE   \n",
       "4  Mozilla/5.0 (Windows NT 6.3; WOW64) AppleWebKi...         Desktop - Chrome   \n",
       "\n",
       "         date  purchased  added_in_cart  checked_out  \n",
       "0  2020-01-07          1              0            0  \n",
       "1  2020-02-13          0              0            0  \n",
       "2  2019-10-14          1              0            0  \n",
       "3  2020-01-26          0              0            0  \n",
       "4  2020-01-29          0              0            0  "
      ]
     },
     "execution_count": 117,
     "metadata": {},
     "output_type": "execute_result"
    }
   ],
   "source": [
    "test = pd.read_csv(\"C:/Users/91899/Desktop/Machine Hack/Buyer's Time Prediction Challenge/ParticipantData_BTPC/test.csv\")\n",
    "test.head()"
   ]
  },
  {
   "cell_type": "code",
   "execution_count": 118,
   "metadata": {},
   "outputs": [
    {
     "name": "stdout",
     "output_type": "stream",
     "text": [
      "<class 'pandas.core.frame.DataFrame'>\n",
      "RangeIndex: 5429 entries, 0 to 5428\n",
      "Data columns (total 9 columns):\n",
      "session_id        5429 non-null object\n",
      "session_number    5429 non-null int64\n",
      "client_agent      5269 non-null object\n",
      "device_details    5429 non-null object\n",
      "date              5429 non-null object\n",
      "purchased         5429 non-null int64\n",
      "added_in_cart     5429 non-null int64\n",
      "checked_out       5429 non-null int64\n",
      "time_spent        5429 non-null float64\n",
      "dtypes: float64(1), int64(4), object(4)\n",
      "memory usage: 381.9+ KB\n"
     ]
    }
   ],
   "source": [
    "df.info()"
   ]
  },
  {
   "cell_type": "code",
   "execution_count": 119,
   "metadata": {},
   "outputs": [
    {
     "data": {
      "text/html": [
       "<div>\n",
       "<style scoped>\n",
       "    .dataframe tbody tr th:only-of-type {\n",
       "        vertical-align: middle;\n",
       "    }\n",
       "\n",
       "    .dataframe tbody tr th {\n",
       "        vertical-align: top;\n",
       "    }\n",
       "\n",
       "    .dataframe thead th {\n",
       "        text-align: right;\n",
       "    }\n",
       "</style>\n",
       "<table border=\"1\" class=\"dataframe\">\n",
       "  <thead>\n",
       "    <tr style=\"text-align: right;\">\n",
       "      <th></th>\n",
       "      <th>session_number</th>\n",
       "      <th>purchased</th>\n",
       "      <th>added_in_cart</th>\n",
       "      <th>checked_out</th>\n",
       "      <th>time_spent</th>\n",
       "    </tr>\n",
       "  </thead>\n",
       "  <tbody>\n",
       "    <tr>\n",
       "      <td>count</td>\n",
       "      <td>5429.000000</td>\n",
       "      <td>5429.000000</td>\n",
       "      <td>5429.000000</td>\n",
       "      <td>5429.000000</td>\n",
       "      <td>5429.000000</td>\n",
       "    </tr>\n",
       "    <tr>\n",
       "      <td>mean</td>\n",
       "      <td>1072.835329</td>\n",
       "      <td>0.159145</td>\n",
       "      <td>0.162092</td>\n",
       "      <td>0.017499</td>\n",
       "      <td>663.194292</td>\n",
       "    </tr>\n",
       "    <tr>\n",
       "      <td>std</td>\n",
       "      <td>1436.351474</td>\n",
       "      <td>0.365845</td>\n",
       "      <td>0.368570</td>\n",
       "      <td>0.131132</td>\n",
       "      <td>1713.671664</td>\n",
       "    </tr>\n",
       "    <tr>\n",
       "      <td>min</td>\n",
       "      <td>11.000000</td>\n",
       "      <td>0.000000</td>\n",
       "      <td>0.000000</td>\n",
       "      <td>0.000000</td>\n",
       "      <td>14.400000</td>\n",
       "    </tr>\n",
       "    <tr>\n",
       "      <td>25%</td>\n",
       "      <td>121.000000</td>\n",
       "      <td>0.000000</td>\n",
       "      <td>0.000000</td>\n",
       "      <td>0.000000</td>\n",
       "      <td>22.699000</td>\n",
       "    </tr>\n",
       "    <tr>\n",
       "      <td>50%</td>\n",
       "      <td>517.000000</td>\n",
       "      <td>0.000000</td>\n",
       "      <td>0.000000</td>\n",
       "      <td>0.000000</td>\n",
       "      <td>98.312000</td>\n",
       "    </tr>\n",
       "    <tr>\n",
       "      <td>75%</td>\n",
       "      <td>1397.000000</td>\n",
       "      <td>0.000000</td>\n",
       "      <td>0.000000</td>\n",
       "      <td>0.000000</td>\n",
       "      <td>600.463000</td>\n",
       "    </tr>\n",
       "    <tr>\n",
       "      <td>max</td>\n",
       "      <td>7722.000000</td>\n",
       "      <td>1.000000</td>\n",
       "      <td>1.000000</td>\n",
       "      <td>1.000000</td>\n",
       "      <td>38494.025000</td>\n",
       "    </tr>\n",
       "  </tbody>\n",
       "</table>\n",
       "</div>"
      ],
      "text/plain": [
       "       session_number    purchased  added_in_cart  checked_out    time_spent\n",
       "count     5429.000000  5429.000000    5429.000000  5429.000000   5429.000000\n",
       "mean      1072.835329     0.159145       0.162092     0.017499    663.194292\n",
       "std       1436.351474     0.365845       0.368570     0.131132   1713.671664\n",
       "min         11.000000     0.000000       0.000000     0.000000     14.400000\n",
       "25%        121.000000     0.000000       0.000000     0.000000     22.699000\n",
       "50%        517.000000     0.000000       0.000000     0.000000     98.312000\n",
       "75%       1397.000000     0.000000       0.000000     0.000000    600.463000\n",
       "max       7722.000000     1.000000       1.000000     1.000000  38494.025000"
      ]
     },
     "execution_count": 119,
     "metadata": {},
     "output_type": "execute_result"
    }
   ],
   "source": [
    "df.describe()"
   ]
  },
  {
   "cell_type": "code",
   "execution_count": 120,
   "metadata": {},
   "outputs": [
    {
     "data": {
      "text/plain": [
       "iPhone - iOS                  1515\n",
       "Desktop - Chrome               815\n",
       "iPhone - Web                   665\n",
       "Android Phone - Android        326\n",
       "Desktop - Safari               313\n",
       "Desktop - IE                   292\n",
       "iPad - Web                     289\n",
       "iPhone - MobileWeb             277\n",
       "Desktop - Firefox              234\n",
       "Android Tablet - Web           203\n",
       "Other - Other                  185\n",
       "Unknown - MobileWeb             87\n",
       "Android Phone - Web             86\n",
       "iPad - iOS                      77\n",
       "Android Phone - MobileWeb       54\n",
       "Android Tablet - Android         9\n",
       "Android Tablet - MobileWeb       2\n",
       "Name: device_details, dtype: int64"
      ]
     },
     "execution_count": 120,
     "metadata": {},
     "output_type": "execute_result"
    }
   ],
   "source": [
    "df['device_details'].value_counts()"
   ]
  },
  {
   "cell_type": "code",
   "execution_count": 121,
   "metadata": {},
   "outputs": [
    {
     "data": {
      "text/plain": [
       "0    4565\n",
       "1     864\n",
       "Name: purchased, dtype: int64"
      ]
     },
     "execution_count": 121,
     "metadata": {},
     "output_type": "execute_result"
    }
   ],
   "source": [
    "df['purchased'].value_counts()"
   ]
  },
  {
   "cell_type": "code",
   "execution_count": 122,
   "metadata": {},
   "outputs": [
    {
     "data": {
      "text/plain": [
       "iPhone - iOS                 615\n",
       "Desktop - Chrome             366\n",
       "iPhone - Web                 279\n",
       "iPhone - MobileWeb           152\n",
       "Desktop - IE                 137\n",
       "Desktop - Safari             130\n",
       "Android Phone - Android      125\n",
       "iPad - Web                   124\n",
       "Android Tablet - Web          96\n",
       "Desktop - Firefox             93\n",
       "Other - Other                 82\n",
       "iPad - iOS                    44\n",
       "Unknown - MobileWeb           35\n",
       "Android Phone - Web           26\n",
       "Android Phone - MobileWeb     18\n",
       "Android Tablet - Android       5\n",
       "Name: device_details, dtype: int64"
      ]
     },
     "execution_count": 122,
     "metadata": {},
     "output_type": "execute_result"
    }
   ],
   "source": [
    "test['device_details'].value_counts()"
   ]
  },
  {
   "cell_type": "code",
   "execution_count": 123,
   "metadata": {},
   "outputs": [
    {
     "data": {
      "text/plain": [
       "0    4549\n",
       "1     880\n",
       "Name: added_in_cart, dtype: int64"
      ]
     },
     "execution_count": 123,
     "metadata": {},
     "output_type": "execute_result"
    }
   ],
   "source": [
    "df['added_in_cart'].value_counts()"
   ]
  },
  {
   "cell_type": "code",
   "execution_count": 124,
   "metadata": {},
   "outputs": [
    {
     "data": {
      "text/plain": [
       "493453c906e2c7ba6a54b857dc1b4149    1\n",
       "4045b6d72bbd15e669cf6d19a909a841    1\n",
       "e881712086daf46e4a36ef0c6d0d13cb    1\n",
       "233fb00159c57d58a28393d98a54603a    1\n",
       "10baab658ec619668cec9ac9b0466510    1\n",
       "                                   ..\n",
       "d879bed3cff833e01d29b2a1da098517    1\n",
       "a1ad9c394037c1a6217d9ff54c06135a    1\n",
       "5143e531c3ea9432b0478b324f29c967    1\n",
       "bc242239cd82cd905f3e6c17b7f6e248    1\n",
       "54c0ac23f66ff1ce0074af7a0133a1e0    1\n",
       "Name: session_id, Length: 5429, dtype: int64"
      ]
     },
     "execution_count": 124,
     "metadata": {},
     "output_type": "execute_result"
    }
   ],
   "source": [
    "df['session_id'].value_counts()"
   ]
  },
  {
   "cell_type": "code",
   "execution_count": 125,
   "metadata": {},
   "outputs": [
    {
     "data": {
      "text/plain": [
       "11      437\n",
       "22      192\n",
       "33      132\n",
       "44      101\n",
       "55       93\n",
       "       ... \n",
       "3949      1\n",
       "3696      1\n",
       "5962      1\n",
       "7601      1\n",
       "6083      1\n",
       "Name: session_number, Length: 610, dtype: int64"
      ]
     },
     "execution_count": 125,
     "metadata": {},
     "output_type": "execute_result"
    }
   ],
   "source": [
    "df['session_number'].value_counts()"
   ]
  },
  {
   "cell_type": "code",
   "execution_count": 126,
   "metadata": {},
   "outputs": [
    {
     "data": {
      "text/plain": [
       "160"
      ]
     },
     "execution_count": 126,
     "metadata": {},
     "output_type": "execute_result"
    }
   ],
   "source": [
    "df['client_agent'].isna().sum()"
   ]
  },
  {
   "cell_type": "code",
   "execution_count": 127,
   "metadata": {},
   "outputs": [],
   "source": [
    "df['client_agent'].fillna(method = 'bfill', inplace = True, limit = 1)\n",
    "df['client_agent'].fillna(method = 'ffill', inplace = True, limit = 1)\n",
    "test['client_agent'].fillna(method = 'bfill', inplace = True, limit = 1)\n",
    "test['client_agent'].fillna(method = 'ffill', inplace = True, limit = 1)"
   ]
  },
  {
   "cell_type": "code",
   "execution_count": 128,
   "metadata": {},
   "outputs": [
    {
     "data": {
      "text/plain": [
       "0"
      ]
     },
     "execution_count": 128,
     "metadata": {},
     "output_type": "execute_result"
    }
   ],
   "source": [
    "df['client_agent'].isnull().sum()"
   ]
  },
  {
   "cell_type": "code",
   "execution_count": 129,
   "metadata": {},
   "outputs": [
    {
     "data": {
      "text/plain": [
       "0"
      ]
     },
     "execution_count": 129,
     "metadata": {},
     "output_type": "execute_result"
    }
   ],
   "source": [
    "test['client_agent'].isnull().sum()"
   ]
  },
  {
   "cell_type": "code",
   "execution_count": 103,
   "metadata": {},
   "outputs": [],
   "source": [
    "# df['session_number'].isnull().sum()"
   ]
  },
  {
   "cell_type": "code",
   "execution_count": 104,
   "metadata": {},
   "outputs": [],
   "source": [
    "# df['client_agent'].unique()"
   ]
  },
  {
   "cell_type": "code",
   "execution_count": 105,
   "metadata": {},
   "outputs": [
    {
     "data": {
      "text/plain": [
       "array(['Mozilla/', 'Product/', 'Typhoeus', 'Opera/9.', '-unknown',\n",
       "       'Safari/6', 'Dalvik/2'], dtype=object)"
      ]
     },
     "execution_count": 105,
     "metadata": {},
     "output_type": "execute_result"
    }
   ],
   "source": [
    "df['client_agent'].str[0:8].unique()"
   ]
  },
  {
   "cell_type": "code",
   "execution_count": 106,
   "metadata": {},
   "outputs": [
    {
     "data": {
      "text/plain": [
       "array(['Mozilla/', 'Product/', nan, 'Opera/9.', 'Typhoeus', '-unknown'],\n",
       "      dtype=object)"
      ]
     },
     "execution_count": 106,
     "metadata": {},
     "output_type": "execute_result"
    }
   ],
   "source": [
    "test['client_agent'].str[0:8].unique()"
   ]
  },
  {
   "cell_type": "code",
   "execution_count": 107,
   "metadata": {},
   "outputs": [],
   "source": [
    "#  df['client_agent'].str[0:8].value_counts()"
   ]
  },
  {
   "cell_type": "code",
   "execution_count": 130,
   "metadata": {},
   "outputs": [
    {
     "data": {
      "text/html": [
       "<div>\n",
       "<style scoped>\n",
       "    .dataframe tbody tr th:only-of-type {\n",
       "        vertical-align: middle;\n",
       "    }\n",
       "\n",
       "    .dataframe tbody tr th {\n",
       "        vertical-align: top;\n",
       "    }\n",
       "\n",
       "    .dataframe thead th {\n",
       "        text-align: right;\n",
       "    }\n",
       "</style>\n",
       "<table border=\"1\" class=\"dataframe\">\n",
       "  <thead>\n",
       "    <tr style=\"text-align: right;\">\n",
       "      <th></th>\n",
       "      <th>session_number</th>\n",
       "      <th>purchased</th>\n",
       "      <th>added_in_cart</th>\n",
       "      <th>checked_out</th>\n",
       "      <th>time_spent</th>\n",
       "    </tr>\n",
       "  </thead>\n",
       "  <tbody>\n",
       "    <tr>\n",
       "      <td>session_number</td>\n",
       "      <td>1.000000</td>\n",
       "      <td>-0.213733</td>\n",
       "      <td>0.003013</td>\n",
       "      <td>-0.054500</td>\n",
       "      <td>0.078437</td>\n",
       "    </tr>\n",
       "    <tr>\n",
       "      <td>purchased</td>\n",
       "      <td>-0.213733</td>\n",
       "      <td>1.000000</td>\n",
       "      <td>0.045022</td>\n",
       "      <td>0.168513</td>\n",
       "      <td>0.200762</td>\n",
       "    </tr>\n",
       "    <tr>\n",
       "      <td>added_in_cart</td>\n",
       "      <td>0.003013</td>\n",
       "      <td>0.045022</td>\n",
       "      <td>1.000000</td>\n",
       "      <td>0.215754</td>\n",
       "      <td>0.209807</td>\n",
       "    </tr>\n",
       "    <tr>\n",
       "      <td>checked_out</td>\n",
       "      <td>-0.054500</td>\n",
       "      <td>0.168513</td>\n",
       "      <td>0.215754</td>\n",
       "      <td>1.000000</td>\n",
       "      <td>0.157765</td>\n",
       "    </tr>\n",
       "    <tr>\n",
       "      <td>time_spent</td>\n",
       "      <td>0.078437</td>\n",
       "      <td>0.200762</td>\n",
       "      <td>0.209807</td>\n",
       "      <td>0.157765</td>\n",
       "      <td>1.000000</td>\n",
       "    </tr>\n",
       "  </tbody>\n",
       "</table>\n",
       "</div>"
      ],
      "text/plain": [
       "                session_number  purchased  added_in_cart  checked_out  \\\n",
       "session_number        1.000000  -0.213733       0.003013    -0.054500   \n",
       "purchased            -0.213733   1.000000       0.045022     0.168513   \n",
       "added_in_cart         0.003013   0.045022       1.000000     0.215754   \n",
       "checked_out          -0.054500   0.168513       0.215754     1.000000   \n",
       "time_spent            0.078437   0.200762       0.209807     0.157765   \n",
       "\n",
       "                time_spent  \n",
       "session_number    0.078437  \n",
       "purchased         0.200762  \n",
       "added_in_cart     0.209807  \n",
       "checked_out       0.157765  \n",
       "time_spent        1.000000  "
      ]
     },
     "execution_count": 130,
     "metadata": {},
     "output_type": "execute_result"
    }
   ],
   "source": [
    "df.corr()"
   ]
  },
  {
   "cell_type": "code",
   "execution_count": 131,
   "metadata": {},
   "outputs": [
    {
     "data": {
      "text/plain": [
       "session_number    2.151535\n",
       "purchased         1.864068\n",
       "added_in_cart     1.834292\n",
       "checked_out       7.361734\n",
       "time_spent        8.037562\n",
       "dtype: float64"
      ]
     },
     "execution_count": 131,
     "metadata": {},
     "output_type": "execute_result"
    }
   ],
   "source": [
    "df.skew()"
   ]
  },
  {
   "cell_type": "code",
   "execution_count": 132,
   "metadata": {},
   "outputs": [
    {
     "data": {
      "image/png": "[encoded data removed]",
      "text/plain": [
       "<Figure size 432x288 with 1 Axes>"
      ]
     },
     "metadata": {
      "needs_background": "light"
     },
     "output_type": "display_data"
    }
   ],
   "source": [
    "sns.distplot(df['session_number'])\n",
    "plt.show()"
   ]
  },
  {
   "cell_type": "code",
   "execution_count": 133,
   "metadata": {},
   "outputs": [],
   "source": [
    "from sklearn.preprocessing import LabelEncoder\n",
    "lb = LabelEncoder()\n",
    "df[\"session_id\"] = lb.fit_transform(df[\"session_id\"])\n",
    "test[\"session_id\"] = lb.fit_transform(test[\"session_id\"])"
   ]
  },
  {
   "cell_type": "code",
   "execution_count": 134,
   "metadata": {},
   "outputs": [],
   "source": [
    "df[\"client_agent\"] = lb.fit_transform(df[\"client_agent\"])\n",
    "test[\"client_agent\"] = lb.fit_transform(test[\"client_agent\"])"
   ]
  },
  {
   "cell_type": "code",
   "execution_count": 135,
   "metadata": {},
   "outputs": [
    {
     "data": {
      "text/html": [
       "<div>\n",
       "<style scoped>\n",
       "    .dataframe tbody tr th:only-of-type {\n",
       "        vertical-align: middle;\n",
       "    }\n",
       "\n",
       "    .dataframe tbody tr th {\n",
       "        vertical-align: top;\n",
       "    }\n",
       "\n",
       "    .dataframe thead th {\n",
       "        text-align: right;\n",
       "    }\n",
       "</style>\n",
       "<table border=\"1\" class=\"dataframe\">\n",
       "  <thead>\n",
       "    <tr style=\"text-align: right;\">\n",
       "      <th></th>\n",
       "      <th>Android Phone - MobileWeb</th>\n",
       "      <th>Android Phone - Web</th>\n",
       "      <th>Android Tablet - Android</th>\n",
       "      <th>Android Tablet - MobileWeb</th>\n",
       "      <th>Android Tablet - Web</th>\n",
       "      <th>Desktop - Chrome</th>\n",
       "      <th>Desktop - Firefox</th>\n",
       "      <th>Desktop - IE</th>\n",
       "      <th>Desktop - Safari</th>\n",
       "      <th>Other - Other</th>\n",
       "      <th>Unknown - MobileWeb</th>\n",
       "      <th>iPad - Web</th>\n",
       "      <th>iPad - iOS</th>\n",
       "      <th>iPhone - MobileWeb</th>\n",
       "      <th>iPhone - Web</th>\n",
       "      <th>iPhone - iOS</th>\n",
       "    </tr>\n",
       "  </thead>\n",
       "  <tbody>\n",
       "    <tr>\n",
       "      <td>0</td>\n",
       "      <td>0</td>\n",
       "      <td>0</td>\n",
       "      <td>0</td>\n",
       "      <td>0</td>\n",
       "      <td>0</td>\n",
       "      <td>1</td>\n",
       "      <td>0</td>\n",
       "      <td>0</td>\n",
       "      <td>0</td>\n",
       "      <td>0</td>\n",
       "      <td>0</td>\n",
       "      <td>0</td>\n",
       "      <td>0</td>\n",
       "      <td>0</td>\n",
       "      <td>0</td>\n",
       "      <td>0</td>\n",
       "    </tr>\n",
       "    <tr>\n",
       "      <td>1</td>\n",
       "      <td>0</td>\n",
       "      <td>0</td>\n",
       "      <td>0</td>\n",
       "      <td>0</td>\n",
       "      <td>0</td>\n",
       "      <td>0</td>\n",
       "      <td>0</td>\n",
       "      <td>0</td>\n",
       "      <td>0</td>\n",
       "      <td>0</td>\n",
       "      <td>0</td>\n",
       "      <td>0</td>\n",
       "      <td>0</td>\n",
       "      <td>0</td>\n",
       "      <td>0</td>\n",
       "      <td>1</td>\n",
       "    </tr>\n",
       "    <tr>\n",
       "      <td>2</td>\n",
       "      <td>0</td>\n",
       "      <td>0</td>\n",
       "      <td>0</td>\n",
       "      <td>0</td>\n",
       "      <td>0</td>\n",
       "      <td>0</td>\n",
       "      <td>0</td>\n",
       "      <td>0</td>\n",
       "      <td>0</td>\n",
       "      <td>0</td>\n",
       "      <td>0</td>\n",
       "      <td>0</td>\n",
       "      <td>0</td>\n",
       "      <td>1</td>\n",
       "      <td>0</td>\n",
       "      <td>0</td>\n",
       "    </tr>\n",
       "    <tr>\n",
       "      <td>3</td>\n",
       "      <td>0</td>\n",
       "      <td>0</td>\n",
       "      <td>0</td>\n",
       "      <td>0</td>\n",
       "      <td>0</td>\n",
       "      <td>0</td>\n",
       "      <td>0</td>\n",
       "      <td>1</td>\n",
       "      <td>0</td>\n",
       "      <td>0</td>\n",
       "      <td>0</td>\n",
       "      <td>0</td>\n",
       "      <td>0</td>\n",
       "      <td>0</td>\n",
       "      <td>0</td>\n",
       "      <td>0</td>\n",
       "    </tr>\n",
       "    <tr>\n",
       "      <td>4</td>\n",
       "      <td>0</td>\n",
       "      <td>0</td>\n",
       "      <td>0</td>\n",
       "      <td>0</td>\n",
       "      <td>0</td>\n",
       "      <td>0</td>\n",
       "      <td>0</td>\n",
       "      <td>0</td>\n",
       "      <td>0</td>\n",
       "      <td>0</td>\n",
       "      <td>0</td>\n",
       "      <td>0</td>\n",
       "      <td>0</td>\n",
       "      <td>0</td>\n",
       "      <td>1</td>\n",
       "      <td>0</td>\n",
       "    </tr>\n",
       "  </tbody>\n",
       "</table>\n",
       "</div>"
      ],
      "text/plain": [
       "   Android Phone - MobileWeb  Android Phone - Web  Android Tablet - Android  \\\n",
       "0                          0                    0                         0   \n",
       "1                          0                    0                         0   \n",
       "2                          0                    0                         0   \n",
       "3                          0                    0                         0   \n",
       "4                          0                    0                         0   \n",
       "\n",
       "   Android Tablet - MobileWeb  Android Tablet - Web  Desktop - Chrome  \\\n",
       "0                           0                     0                 1   \n",
       "1                           0                     0                 0   \n",
       "2                           0                     0                 0   \n",
       "3                           0                     0                 0   \n",
       "4                           0                     0                 0   \n",
       "\n",
       "   Desktop - Firefox  Desktop - IE  Desktop - Safari  Other - Other  \\\n",
       "0                  0             0                 0              0   \n",
       "1                  0             0                 0              0   \n",
       "2                  0             0                 0              0   \n",
       "3                  0             1                 0              0   \n",
       "4                  0             0                 0              0   \n",
       "\n",
       "   Unknown - MobileWeb  iPad - Web  iPad - iOS  iPhone - MobileWeb  \\\n",
       "0                    0           0           0                   0   \n",
       "1                    0           0           0                   0   \n",
       "2                    0           0           0                   1   \n",
       "3                    0           0           0                   0   \n",
       "4                    0           0           0                   0   \n",
       "\n",
       "   iPhone - Web  iPhone - iOS  \n",
       "0             0             0  \n",
       "1             0             1  \n",
       "2             0             0  \n",
       "3             0             0  \n",
       "4             1             0  "
      ]
     },
     "execution_count": 135,
     "metadata": {},
     "output_type": "execute_result"
    }
   ],
   "source": [
    "device_detail = df[\"device_details\"]\n",
    "device_detail = pd.get_dummies(device_detail, drop_first = True)\n",
    "device_detail.head()"
   ]
  },
  {
   "cell_type": "code",
   "execution_count": 136,
   "metadata": {},
   "outputs": [
    {
     "data": {
      "text/html": [
       "<div>\n",
       "<style scoped>\n",
       "    .dataframe tbody tr th:only-of-type {\n",
       "        vertical-align: middle;\n",
       "    }\n",
       "\n",
       "    .dataframe tbody tr th {\n",
       "        vertical-align: top;\n",
       "    }\n",
       "\n",
       "    .dataframe thead th {\n",
       "        text-align: right;\n",
       "    }\n",
       "</style>\n",
       "<table border=\"1\" class=\"dataframe\">\n",
       "  <thead>\n",
       "    <tr style=\"text-align: right;\">\n",
       "      <th></th>\n",
       "      <th>session_id</th>\n",
       "      <th>session_number</th>\n",
       "      <th>client_agent</th>\n",
       "      <th>date</th>\n",
       "      <th>purchased</th>\n",
       "      <th>added_in_cart</th>\n",
       "      <th>checked_out</th>\n",
       "      <th>time_spent</th>\n",
       "      <th>Android Phone - MobileWeb</th>\n",
       "      <th>Android Phone - Web</th>\n",
       "      <th>...</th>\n",
       "      <th>Desktop - Firefox</th>\n",
       "      <th>Desktop - IE</th>\n",
       "      <th>Desktop - Safari</th>\n",
       "      <th>Other - Other</th>\n",
       "      <th>Unknown - MobileWeb</th>\n",
       "      <th>iPad - Web</th>\n",
       "      <th>iPad - iOS</th>\n",
       "      <th>iPhone - MobileWeb</th>\n",
       "      <th>iPhone - Web</th>\n",
       "      <th>iPhone - iOS</th>\n",
       "    </tr>\n",
       "  </thead>\n",
       "  <tbody>\n",
       "    <tr>\n",
       "      <td>0</td>\n",
       "      <td>1912</td>\n",
       "      <td>715</td>\n",
       "      <td>269</td>\n",
       "      <td>2020-01-22</td>\n",
       "      <td>1</td>\n",
       "      <td>0</td>\n",
       "      <td>0</td>\n",
       "      <td>236.886</td>\n",
       "      <td>0</td>\n",
       "      <td>0</td>\n",
       "      <td>...</td>\n",
       "      <td>0</td>\n",
       "      <td>0</td>\n",
       "      <td>0</td>\n",
       "      <td>0</td>\n",
       "      <td>0</td>\n",
       "      <td>0</td>\n",
       "      <td>0</td>\n",
       "      <td>0</td>\n",
       "      <td>0</td>\n",
       "      <td>0</td>\n",
       "    </tr>\n",
       "    <tr>\n",
       "      <td>1</td>\n",
       "      <td>3520</td>\n",
       "      <td>55</td>\n",
       "      <td>688</td>\n",
       "      <td>2020-02-27</td>\n",
       "      <td>1</td>\n",
       "      <td>0</td>\n",
       "      <td>0</td>\n",
       "      <td>1277.455</td>\n",
       "      <td>0</td>\n",
       "      <td>0</td>\n",
       "      <td>...</td>\n",
       "      <td>0</td>\n",
       "      <td>0</td>\n",
       "      <td>0</td>\n",
       "      <td>0</td>\n",
       "      <td>0</td>\n",
       "      <td>0</td>\n",
       "      <td>0</td>\n",
       "      <td>0</td>\n",
       "      <td>0</td>\n",
       "      <td>1</td>\n",
       "    </tr>\n",
       "    <tr>\n",
       "      <td>2</td>\n",
       "      <td>1063</td>\n",
       "      <td>11</td>\n",
       "      <td>412</td>\n",
       "      <td>2019-08-01</td>\n",
       "      <td>0</td>\n",
       "      <td>0</td>\n",
       "      <td>0</td>\n",
       "      <td>21.704</td>\n",
       "      <td>0</td>\n",
       "      <td>0</td>\n",
       "      <td>...</td>\n",
       "      <td>0</td>\n",
       "      <td>0</td>\n",
       "      <td>0</td>\n",
       "      <td>0</td>\n",
       "      <td>0</td>\n",
       "      <td>0</td>\n",
       "      <td>0</td>\n",
       "      <td>1</td>\n",
       "      <td>0</td>\n",
       "      <td>0</td>\n",
       "    </tr>\n",
       "    <tr>\n",
       "      <td>3</td>\n",
       "      <td>5142</td>\n",
       "      <td>2794</td>\n",
       "      <td>355</td>\n",
       "      <td>2019-12-30</td>\n",
       "      <td>0</td>\n",
       "      <td>1</td>\n",
       "      <td>0</td>\n",
       "      <td>455.201</td>\n",
       "      <td>0</td>\n",
       "      <td>0</td>\n",
       "      <td>...</td>\n",
       "      <td>0</td>\n",
       "      <td>1</td>\n",
       "      <td>0</td>\n",
       "      <td>0</td>\n",
       "      <td>0</td>\n",
       "      <td>0</td>\n",
       "      <td>0</td>\n",
       "      <td>0</td>\n",
       "      <td>0</td>\n",
       "      <td>0</td>\n",
       "    </tr>\n",
       "    <tr>\n",
       "      <td>4</td>\n",
       "      <td>4858</td>\n",
       "      <td>3674</td>\n",
       "      <td>407</td>\n",
       "      <td>2019-09-10</td>\n",
       "      <td>0</td>\n",
       "      <td>0</td>\n",
       "      <td>0</td>\n",
       "      <td>1164.877</td>\n",
       "      <td>0</td>\n",
       "      <td>0</td>\n",
       "      <td>...</td>\n",
       "      <td>0</td>\n",
       "      <td>0</td>\n",
       "      <td>0</td>\n",
       "      <td>0</td>\n",
       "      <td>0</td>\n",
       "      <td>0</td>\n",
       "      <td>0</td>\n",
       "      <td>0</td>\n",
       "      <td>1</td>\n",
       "      <td>0</td>\n",
       "    </tr>\n",
       "  </tbody>\n",
       "</table>\n",
       "<p>5 rows × 24 columns</p>\n",
       "</div>"
      ],
      "text/plain": [
       "   session_id  session_number  client_agent        date  purchased  \\\n",
       "0        1912             715           269  2020-01-22          1   \n",
       "1        3520              55           688  2020-02-27          1   \n",
       "2        1063              11           412  2019-08-01          0   \n",
       "3        5142            2794           355  2019-12-30          0   \n",
       "4        4858            3674           407  2019-09-10          0   \n",
       "\n",
       "   added_in_cart  checked_out  time_spent  Android Phone - MobileWeb  \\\n",
       "0              0            0     236.886                          0   \n",
       "1              0            0    1277.455                          0   \n",
       "2              0            0      21.704                          0   \n",
       "3              1            0     455.201                          0   \n",
       "4              0            0    1164.877                          0   \n",
       "\n",
       "   Android Phone - Web  ...  Desktop - Firefox  Desktop - IE  \\\n",
       "0                    0  ...                  0             0   \n",
       "1                    0  ...                  0             0   \n",
       "2                    0  ...                  0             0   \n",
       "3                    0  ...                  0             1   \n",
       "4                    0  ...                  0             0   \n",
       "\n",
       "   Desktop - Safari  Other - Other  Unknown - MobileWeb  iPad - Web  \\\n",
       "0                 0              0                    0           0   \n",
       "1                 0              0                    0           0   \n",
       "2                 0              0                    0           0   \n",
       "3                 0              0                    0           0   \n",
       "4                 0              0                    0           0   \n",
       "\n",
       "   iPad - iOS  iPhone - MobileWeb  iPhone - Web  iPhone - iOS  \n",
       "0           0                   0             0             0  \n",
       "1           0                   0             0             1  \n",
       "2           0                   1             0             0  \n",
       "3           0                   0             0             0  \n",
       "4           0                   0             1             0  \n",
       "\n",
       "[5 rows x 24 columns]"
      ]
     },
     "execution_count": 136,
     "metadata": {},
     "output_type": "execute_result"
    }
   ],
   "source": [
    "df = pd.concat([df,device_detail], axis = 1)\n",
    "df = df.drop(['device_details'],axis = 1, inplace = False)\n",
    "df.head()"
   ]
  },
  {
   "cell_type": "code",
   "execution_count": 137,
   "metadata": {},
   "outputs": [
    {
     "data": {
      "text/html": [
       "<div>\n",
       "<style scoped>\n",
       "    .dataframe tbody tr th:only-of-type {\n",
       "        vertical-align: middle;\n",
       "    }\n",
       "\n",
       "    .dataframe tbody tr th {\n",
       "        vertical-align: top;\n",
       "    }\n",
       "\n",
       "    .dataframe thead th {\n",
       "        text-align: right;\n",
       "    }\n",
       "</style>\n",
       "<table border=\"1\" class=\"dataframe\">\n",
       "  <thead>\n",
       "    <tr style=\"text-align: right;\">\n",
       "      <th></th>\n",
       "      <th>Android Phone - MobileWeb</th>\n",
       "      <th>Android Phone - Web</th>\n",
       "      <th>Android Tablet - Android</th>\n",
       "      <th>Android Tablet - Web</th>\n",
       "      <th>Desktop - Chrome</th>\n",
       "      <th>Desktop - Firefox</th>\n",
       "      <th>Desktop - IE</th>\n",
       "      <th>Desktop - Safari</th>\n",
       "      <th>Other - Other</th>\n",
       "      <th>Unknown - MobileWeb</th>\n",
       "      <th>iPad - Web</th>\n",
       "      <th>iPad - iOS</th>\n",
       "      <th>iPhone - MobileWeb</th>\n",
       "      <th>iPhone - Web</th>\n",
       "      <th>iPhone - iOS</th>\n",
       "    </tr>\n",
       "  </thead>\n",
       "  <tbody>\n",
       "    <tr>\n",
       "      <td>0</td>\n",
       "      <td>0</td>\n",
       "      <td>0</td>\n",
       "      <td>0</td>\n",
       "      <td>0</td>\n",
       "      <td>0</td>\n",
       "      <td>0</td>\n",
       "      <td>1</td>\n",
       "      <td>0</td>\n",
       "      <td>0</td>\n",
       "      <td>0</td>\n",
       "      <td>0</td>\n",
       "      <td>0</td>\n",
       "      <td>0</td>\n",
       "      <td>0</td>\n",
       "      <td>0</td>\n",
       "    </tr>\n",
       "    <tr>\n",
       "      <td>1</td>\n",
       "      <td>0</td>\n",
       "      <td>0</td>\n",
       "      <td>0</td>\n",
       "      <td>0</td>\n",
       "      <td>0</td>\n",
       "      <td>0</td>\n",
       "      <td>0</td>\n",
       "      <td>0</td>\n",
       "      <td>0</td>\n",
       "      <td>0</td>\n",
       "      <td>0</td>\n",
       "      <td>0</td>\n",
       "      <td>0</td>\n",
       "      <td>0</td>\n",
       "      <td>0</td>\n",
       "    </tr>\n",
       "    <tr>\n",
       "      <td>2</td>\n",
       "      <td>0</td>\n",
       "      <td>0</td>\n",
       "      <td>0</td>\n",
       "      <td>0</td>\n",
       "      <td>0</td>\n",
       "      <td>0</td>\n",
       "      <td>0</td>\n",
       "      <td>0</td>\n",
       "      <td>0</td>\n",
       "      <td>0</td>\n",
       "      <td>0</td>\n",
       "      <td>0</td>\n",
       "      <td>0</td>\n",
       "      <td>0</td>\n",
       "      <td>1</td>\n",
       "    </tr>\n",
       "    <tr>\n",
       "      <td>3</td>\n",
       "      <td>0</td>\n",
       "      <td>0</td>\n",
       "      <td>0</td>\n",
       "      <td>0</td>\n",
       "      <td>0</td>\n",
       "      <td>0</td>\n",
       "      <td>1</td>\n",
       "      <td>0</td>\n",
       "      <td>0</td>\n",
       "      <td>0</td>\n",
       "      <td>0</td>\n",
       "      <td>0</td>\n",
       "      <td>0</td>\n",
       "      <td>0</td>\n",
       "      <td>0</td>\n",
       "    </tr>\n",
       "    <tr>\n",
       "      <td>4</td>\n",
       "      <td>0</td>\n",
       "      <td>0</td>\n",
       "      <td>0</td>\n",
       "      <td>0</td>\n",
       "      <td>1</td>\n",
       "      <td>0</td>\n",
       "      <td>0</td>\n",
       "      <td>0</td>\n",
       "      <td>0</td>\n",
       "      <td>0</td>\n",
       "      <td>0</td>\n",
       "      <td>0</td>\n",
       "      <td>0</td>\n",
       "      <td>0</td>\n",
       "      <td>0</td>\n",
       "    </tr>\n",
       "  </tbody>\n",
       "</table>\n",
       "</div>"
      ],
      "text/plain": [
       "   Android Phone - MobileWeb  Android Phone - Web  Android Tablet - Android  \\\n",
       "0                          0                    0                         0   \n",
       "1                          0                    0                         0   \n",
       "2                          0                    0                         0   \n",
       "3                          0                    0                         0   \n",
       "4                          0                    0                         0   \n",
       "\n",
       "   Android Tablet - Web  Desktop - Chrome  Desktop - Firefox  Desktop - IE  \\\n",
       "0                     0                 0                  0             1   \n",
       "1                     0                 0                  0             0   \n",
       "2                     0                 0                  0             0   \n",
       "3                     0                 0                  0             1   \n",
       "4                     0                 1                  0             0   \n",
       "\n",
       "   Desktop - Safari  Other - Other  Unknown - MobileWeb  iPad - Web  \\\n",
       "0                 0              0                    0           0   \n",
       "1                 0              0                    0           0   \n",
       "2                 0              0                    0           0   \n",
       "3                 0              0                    0           0   \n",
       "4                 0              0                    0           0   \n",
       "\n",
       "   iPad - iOS  iPhone - MobileWeb  iPhone - Web  iPhone - iOS  \n",
       "0           0                   0             0             0  \n",
       "1           0                   0             0             0  \n",
       "2           0                   0             0             1  \n",
       "3           0                   0             0             0  \n",
       "4           0                   0             0             0  "
      ]
     },
     "execution_count": 137,
     "metadata": {},
     "output_type": "execute_result"
    }
   ],
   "source": [
    "device_det = test['device_details']\n",
    "device_det = pd.get_dummies(device_det, drop_first = True)\n",
    "device_det.head()"
   ]
  },
  {
   "cell_type": "code",
   "execution_count": 138,
   "metadata": {},
   "outputs": [
    {
     "data": {
      "text/html": [
       "<div>\n",
       "<style scoped>\n",
       "    .dataframe tbody tr th:only-of-type {\n",
       "        vertical-align: middle;\n",
       "    }\n",
       "\n",
       "    .dataframe tbody tr th {\n",
       "        vertical-align: top;\n",
       "    }\n",
       "\n",
       "    .dataframe thead th {\n",
       "        text-align: right;\n",
       "    }\n",
       "</style>\n",
       "<table border=\"1\" class=\"dataframe\">\n",
       "  <thead>\n",
       "    <tr style=\"text-align: right;\">\n",
       "      <th></th>\n",
       "      <th>session_id</th>\n",
       "      <th>session_number</th>\n",
       "      <th>client_agent</th>\n",
       "      <th>date</th>\n",
       "      <th>purchased</th>\n",
       "      <th>added_in_cart</th>\n",
       "      <th>checked_out</th>\n",
       "      <th>Android Phone - MobileWeb</th>\n",
       "      <th>Android Phone - Web</th>\n",
       "      <th>Android Tablet - Android</th>\n",
       "      <th>...</th>\n",
       "      <th>Desktop - Firefox</th>\n",
       "      <th>Desktop - IE</th>\n",
       "      <th>Desktop - Safari</th>\n",
       "      <th>Other - Other</th>\n",
       "      <th>Unknown - MobileWeb</th>\n",
       "      <th>iPad - Web</th>\n",
       "      <th>iPad - iOS</th>\n",
       "      <th>iPhone - MobileWeb</th>\n",
       "      <th>iPhone - Web</th>\n",
       "      <th>iPhone - iOS</th>\n",
       "    </tr>\n",
       "  </thead>\n",
       "  <tbody>\n",
       "    <tr>\n",
       "      <td>0</td>\n",
       "      <td>106</td>\n",
       "      <td>99</td>\n",
       "      <td>174</td>\n",
       "      <td>2020-01-07</td>\n",
       "      <td>1</td>\n",
       "      <td>0</td>\n",
       "      <td>0</td>\n",
       "      <td>0</td>\n",
       "      <td>0</td>\n",
       "      <td>0</td>\n",
       "      <td>...</td>\n",
       "      <td>0</td>\n",
       "      <td>1</td>\n",
       "      <td>0</td>\n",
       "      <td>0</td>\n",
       "      <td>0</td>\n",
       "      <td>0</td>\n",
       "      <td>0</td>\n",
       "      <td>0</td>\n",
       "      <td>0</td>\n",
       "      <td>0</td>\n",
       "    </tr>\n",
       "    <tr>\n",
       "      <td>1</td>\n",
       "      <td>950</td>\n",
       "      <td>935</td>\n",
       "      <td>355</td>\n",
       "      <td>2020-02-13</td>\n",
       "      <td>0</td>\n",
       "      <td>0</td>\n",
       "      <td>0</td>\n",
       "      <td>0</td>\n",
       "      <td>0</td>\n",
       "      <td>0</td>\n",
       "      <td>...</td>\n",
       "      <td>0</td>\n",
       "      <td>0</td>\n",
       "      <td>0</td>\n",
       "      <td>0</td>\n",
       "      <td>0</td>\n",
       "      <td>0</td>\n",
       "      <td>0</td>\n",
       "      <td>0</td>\n",
       "      <td>0</td>\n",
       "      <td>0</td>\n",
       "    </tr>\n",
       "    <tr>\n",
       "      <td>2</td>\n",
       "      <td>542</td>\n",
       "      <td>902</td>\n",
       "      <td>418</td>\n",
       "      <td>2019-10-14</td>\n",
       "      <td>1</td>\n",
       "      <td>0</td>\n",
       "      <td>0</td>\n",
       "      <td>0</td>\n",
       "      <td>0</td>\n",
       "      <td>0</td>\n",
       "      <td>...</td>\n",
       "      <td>0</td>\n",
       "      <td>0</td>\n",
       "      <td>0</td>\n",
       "      <td>0</td>\n",
       "      <td>0</td>\n",
       "      <td>0</td>\n",
       "      <td>0</td>\n",
       "      <td>0</td>\n",
       "      <td>0</td>\n",
       "      <td>1</td>\n",
       "    </tr>\n",
       "    <tr>\n",
       "      <td>3</td>\n",
       "      <td>1421</td>\n",
       "      <td>3223</td>\n",
       "      <td>238</td>\n",
       "      <td>2020-01-26</td>\n",
       "      <td>0</td>\n",
       "      <td>0</td>\n",
       "      <td>0</td>\n",
       "      <td>0</td>\n",
       "      <td>0</td>\n",
       "      <td>0</td>\n",
       "      <td>...</td>\n",
       "      <td>0</td>\n",
       "      <td>1</td>\n",
       "      <td>0</td>\n",
       "      <td>0</td>\n",
       "      <td>0</td>\n",
       "      <td>0</td>\n",
       "      <td>0</td>\n",
       "      <td>0</td>\n",
       "      <td>0</td>\n",
       "      <td>0</td>\n",
       "    </tr>\n",
       "    <tr>\n",
       "      <td>4</td>\n",
       "      <td>1993</td>\n",
       "      <td>231</td>\n",
       "      <td>202</td>\n",
       "      <td>2020-01-29</td>\n",
       "      <td>0</td>\n",
       "      <td>0</td>\n",
       "      <td>0</td>\n",
       "      <td>0</td>\n",
       "      <td>0</td>\n",
       "      <td>0</td>\n",
       "      <td>...</td>\n",
       "      <td>0</td>\n",
       "      <td>0</td>\n",
       "      <td>0</td>\n",
       "      <td>0</td>\n",
       "      <td>0</td>\n",
       "      <td>0</td>\n",
       "      <td>0</td>\n",
       "      <td>0</td>\n",
       "      <td>0</td>\n",
       "      <td>0</td>\n",
       "    </tr>\n",
       "  </tbody>\n",
       "</table>\n",
       "<p>5 rows × 22 columns</p>\n",
       "</div>"
      ],
      "text/plain": [
       "   session_id  session_number  client_agent        date  purchased  \\\n",
       "0         106              99           174  2020-01-07          1   \n",
       "1         950             935           355  2020-02-13          0   \n",
       "2         542             902           418  2019-10-14          1   \n",
       "3        1421            3223           238  2020-01-26          0   \n",
       "4        1993             231           202  2020-01-29          0   \n",
       "\n",
       "   added_in_cart  checked_out  Android Phone - MobileWeb  Android Phone - Web  \\\n",
       "0              0            0                          0                    0   \n",
       "1              0            0                          0                    0   \n",
       "2              0            0                          0                    0   \n",
       "3              0            0                          0                    0   \n",
       "4              0            0                          0                    0   \n",
       "\n",
       "   Android Tablet - Android  ...  Desktop - Firefox  Desktop - IE  \\\n",
       "0                         0  ...                  0             1   \n",
       "1                         0  ...                  0             0   \n",
       "2                         0  ...                  0             0   \n",
       "3                         0  ...                  0             1   \n",
       "4                         0  ...                  0             0   \n",
       "\n",
       "   Desktop - Safari  Other - Other  Unknown - MobileWeb  iPad - Web  \\\n",
       "0                 0              0                    0           0   \n",
       "1                 0              0                    0           0   \n",
       "2                 0              0                    0           0   \n",
       "3                 0              0                    0           0   \n",
       "4                 0              0                    0           0   \n",
       "\n",
       "   iPad - iOS  iPhone - MobileWeb  iPhone - Web  iPhone - iOS  \n",
       "0           0                   0             0             0  \n",
       "1           0                   0             0             0  \n",
       "2           0                   0             0             1  \n",
       "3           0                   0             0             0  \n",
       "4           0                   0             0             0  \n",
       "\n",
       "[5 rows x 22 columns]"
      ]
     },
     "execution_count": 138,
     "metadata": {},
     "output_type": "execute_result"
    }
   ],
   "source": [
    "df_test = pd.concat([test,device_det], axis = 1)\n",
    "df_test = df_test.drop(['device_details'],axis = 1, inplace = False)\n",
    "df_test.head()"
   ]
  },
  {
   "cell_type": "code",
   "execution_count": 139,
   "metadata": {},
   "outputs": [],
   "source": [
    "df['year'] = pd.DatetimeIndex(df['date']).year\n",
    "df['month'] = pd.DatetimeIndex(df['date']).month\n",
    "df['day'] = pd.DatetimeIndex(df['date']).day"
   ]
  },
  {
   "cell_type": "code",
   "execution_count": 140,
   "metadata": {},
   "outputs": [],
   "source": [
    "df_test['year'] = pd.DatetimeIndex(df_test['date']).year\n",
    "df_test['month'] = pd.DatetimeIndex(df_test['date']).month\n",
    "df_test['day'] = pd.DatetimeIndex(df_test['date']).day"
   ]
  },
  {
   "cell_type": "code",
   "execution_count": 141,
   "metadata": {},
   "outputs": [
    {
     "data": {
      "image/png": "[encoded data removed]",
      "text/plain": [
       "<Figure size 432x288 with 1 Axes>"
      ]
     },
     "metadata": {
      "needs_background": "light"
     },
     "output_type": "display_data"
    }
   ],
   "source": [
    "sns.distplot(df['time_spent'])\n",
    "plt.show()"
   ]
  },
  {
   "cell_type": "code",
   "execution_count": 142,
   "metadata": {},
   "outputs": [
    {
     "data": {
      "image/png": "[encoded data removed]",
      "text/plain": [
       "<Figure size 432x288 with 1 Axes>"
      ]
     },
     "metadata": {
      "needs_background": "light"
     },
     "output_type": "display_data"
    }
   ],
   "source": [
    "sns.boxplot(df['time_spent'], whis = 50)\n",
    "plt.show()"
   ]
  },
  {
   "cell_type": "code",
   "execution_count": 143,
   "metadata": {},
   "outputs": [
    {
     "data": {
      "text/plain": [
       "577.7640000000002"
      ]
     },
     "execution_count": 143,
     "metadata": {},
     "output_type": "execute_result"
    }
   ],
   "source": [
    "q1 = df['time_spent'].quantile(0.25)\n",
    "q3 = df['time_spent'].quantile(0.75)\n",
    "IQR = q3 - q1\n",
    "IQR"
   ]
  },
  {
   "cell_type": "code",
   "execution_count": 144,
   "metadata": {},
   "outputs": [
    {
     "data": {
      "text/plain": [
       "29488.66300000001"
      ]
     },
     "execution_count": 144,
     "metadata": {},
     "output_type": "execute_result"
    }
   ],
   "source": [
    "upper_limit = q3 + 50*IQR\n",
    "upper_limit"
   ]
  },
  {
   "cell_type": "code",
   "execution_count": 145,
   "metadata": {},
   "outputs": [
    {
     "data": {
      "text/plain": [
       "-843.9470000000005"
      ]
     },
     "execution_count": 145,
     "metadata": {},
     "output_type": "execute_result"
    }
   ],
   "source": [
    "lower_limit = q1 - 1.5*IQR\n",
    "lower_limit"
   ]
  },
  {
   "cell_type": "code",
   "execution_count": 146,
   "metadata": {},
   "outputs": [
    {
     "data": {
      "text/html": [
       "<div>\n",
       "<style scoped>\n",
       "    .dataframe tbody tr th:only-of-type {\n",
       "        vertical-align: middle;\n",
       "    }\n",
       "\n",
       "    .dataframe tbody tr th {\n",
       "        vertical-align: top;\n",
       "    }\n",
       "\n",
       "    .dataframe thead th {\n",
       "        text-align: right;\n",
       "    }\n",
       "</style>\n",
       "<table border=\"1\" class=\"dataframe\">\n",
       "  <thead>\n",
       "    <tr style=\"text-align: right;\">\n",
       "      <th></th>\n",
       "      <th>session_id</th>\n",
       "      <th>session_number</th>\n",
       "      <th>client_agent</th>\n",
       "      <th>date</th>\n",
       "      <th>purchased</th>\n",
       "      <th>added_in_cart</th>\n",
       "      <th>checked_out</th>\n",
       "      <th>time_spent</th>\n",
       "      <th>Android Phone - MobileWeb</th>\n",
       "      <th>Android Phone - Web</th>\n",
       "      <th>...</th>\n",
       "      <th>Other - Other</th>\n",
       "      <th>Unknown - MobileWeb</th>\n",
       "      <th>iPad - Web</th>\n",
       "      <th>iPad - iOS</th>\n",
       "      <th>iPhone - MobileWeb</th>\n",
       "      <th>iPhone - Web</th>\n",
       "      <th>iPhone - iOS</th>\n",
       "      <th>year</th>\n",
       "      <th>month</th>\n",
       "      <th>day</th>\n",
       "    </tr>\n",
       "  </thead>\n",
       "  <tbody>\n",
       "    <tr>\n",
       "      <td>964</td>\n",
       "      <td>4337</td>\n",
       "      <td>5676</td>\n",
       "      <td>611</td>\n",
       "      <td>2019-09-18</td>\n",
       "      <td>0</td>\n",
       "      <td>1</td>\n",
       "      <td>0</td>\n",
       "      <td>38494.025</td>\n",
       "      <td>0</td>\n",
       "      <td>0</td>\n",
       "      <td>...</td>\n",
       "      <td>0</td>\n",
       "      <td>0</td>\n",
       "      <td>0</td>\n",
       "      <td>0</td>\n",
       "      <td>0</td>\n",
       "      <td>0</td>\n",
       "      <td>1</td>\n",
       "      <td>2019</td>\n",
       "      <td>9</td>\n",
       "      <td>18</td>\n",
       "    </tr>\n",
       "  </tbody>\n",
       "</table>\n",
       "<p>1 rows × 27 columns</p>\n",
       "</div>"
      ],
      "text/plain": [
       "     session_id  session_number  client_agent        date  purchased  \\\n",
       "964        4337            5676           611  2019-09-18          0   \n",
       "\n",
       "     added_in_cart  checked_out  time_spent  Android Phone - MobileWeb  \\\n",
       "964              1            0   38494.025                          0   \n",
       "\n",
       "     Android Phone - Web  ...  Other - Other  Unknown - MobileWeb  iPad - Web  \\\n",
       "964                    0  ...              0                    0           0   \n",
       "\n",
       "     iPad - iOS  iPhone - MobileWeb  iPhone - Web  iPhone - iOS  year  month  \\\n",
       "964           0                   0             0             1  2019      9   \n",
       "\n",
       "     day  \n",
       "964   18  \n",
       "\n",
       "[1 rows x 27 columns]"
      ]
     },
     "execution_count": 146,
     "metadata": {},
     "output_type": "execute_result"
    }
   ],
   "source": [
    "df[df['time_spent'] > upper_limit]"
   ]
  },
  {
   "cell_type": "code",
   "execution_count": 147,
   "metadata": {},
   "outputs": [],
   "source": [
    "df.drop(df[df['time_spent'] > upper_limit].index, axis =0, inplace = True)"
   ]
  },
  {
   "cell_type": "code",
   "execution_count": 148,
   "metadata": {},
   "outputs": [],
   "source": [
    "y = df['time_spent']"
   ]
  },
  {
   "cell_type": "code",
   "execution_count": 149,
   "metadata": {},
   "outputs": [],
   "source": [
    "X = df.drop([ 'date', 'time_spent'], axis = 1,inplace = False)"
   ]
  },
  {
   "cell_type": "code",
   "execution_count": 150,
   "metadata": {},
   "outputs": [
    {
     "data": {
      "text/html": [
       "<div>\n",
       "<style scoped>\n",
       "    .dataframe tbody tr th:only-of-type {\n",
       "        vertical-align: middle;\n",
       "    }\n",
       "\n",
       "    .dataframe tbody tr th {\n",
       "        vertical-align: top;\n",
       "    }\n",
       "\n",
       "    .dataframe thead th {\n",
       "        text-align: right;\n",
       "    }\n",
       "</style>\n",
       "<table border=\"1\" class=\"dataframe\">\n",
       "  <thead>\n",
       "    <tr style=\"text-align: right;\">\n",
       "      <th></th>\n",
       "      <th>session_id</th>\n",
       "      <th>session_number</th>\n",
       "      <th>client_agent</th>\n",
       "      <th>purchased</th>\n",
       "      <th>added_in_cart</th>\n",
       "      <th>checked_out</th>\n",
       "      <th>Android Phone - MobileWeb</th>\n",
       "      <th>Android Phone - Web</th>\n",
       "      <th>Android Tablet - Android</th>\n",
       "      <th>Android Tablet - MobileWeb</th>\n",
       "      <th>...</th>\n",
       "      <th>Other - Other</th>\n",
       "      <th>Unknown - MobileWeb</th>\n",
       "      <th>iPad - Web</th>\n",
       "      <th>iPad - iOS</th>\n",
       "      <th>iPhone - MobileWeb</th>\n",
       "      <th>iPhone - Web</th>\n",
       "      <th>iPhone - iOS</th>\n",
       "      <th>year</th>\n",
       "      <th>month</th>\n",
       "      <th>day</th>\n",
       "    </tr>\n",
       "  </thead>\n",
       "  <tbody>\n",
       "    <tr>\n",
       "      <td>0</td>\n",
       "      <td>1912</td>\n",
       "      <td>715</td>\n",
       "      <td>269</td>\n",
       "      <td>1</td>\n",
       "      <td>0</td>\n",
       "      <td>0</td>\n",
       "      <td>0</td>\n",
       "      <td>0</td>\n",
       "      <td>0</td>\n",
       "      <td>0</td>\n",
       "      <td>...</td>\n",
       "      <td>0</td>\n",
       "      <td>0</td>\n",
       "      <td>0</td>\n",
       "      <td>0</td>\n",
       "      <td>0</td>\n",
       "      <td>0</td>\n",
       "      <td>0</td>\n",
       "      <td>2020</td>\n",
       "      <td>1</td>\n",
       "      <td>22</td>\n",
       "    </tr>\n",
       "    <tr>\n",
       "      <td>1</td>\n",
       "      <td>3520</td>\n",
       "      <td>55</td>\n",
       "      <td>688</td>\n",
       "      <td>1</td>\n",
       "      <td>0</td>\n",
       "      <td>0</td>\n",
       "      <td>0</td>\n",
       "      <td>0</td>\n",
       "      <td>0</td>\n",
       "      <td>0</td>\n",
       "      <td>...</td>\n",
       "      <td>0</td>\n",
       "      <td>0</td>\n",
       "      <td>0</td>\n",
       "      <td>0</td>\n",
       "      <td>0</td>\n",
       "      <td>0</td>\n",
       "      <td>1</td>\n",
       "      <td>2020</td>\n",
       "      <td>2</td>\n",
       "      <td>27</td>\n",
       "    </tr>\n",
       "    <tr>\n",
       "      <td>2</td>\n",
       "      <td>1063</td>\n",
       "      <td>11</td>\n",
       "      <td>412</td>\n",
       "      <td>0</td>\n",
       "      <td>0</td>\n",
       "      <td>0</td>\n",
       "      <td>0</td>\n",
       "      <td>0</td>\n",
       "      <td>0</td>\n",
       "      <td>0</td>\n",
       "      <td>...</td>\n",
       "      <td>0</td>\n",
       "      <td>0</td>\n",
       "      <td>0</td>\n",
       "      <td>0</td>\n",
       "      <td>1</td>\n",
       "      <td>0</td>\n",
       "      <td>0</td>\n",
       "      <td>2019</td>\n",
       "      <td>8</td>\n",
       "      <td>1</td>\n",
       "    </tr>\n",
       "    <tr>\n",
       "      <td>3</td>\n",
       "      <td>5142</td>\n",
       "      <td>2794</td>\n",
       "      <td>355</td>\n",
       "      <td>0</td>\n",
       "      <td>1</td>\n",
       "      <td>0</td>\n",
       "      <td>0</td>\n",
       "      <td>0</td>\n",
       "      <td>0</td>\n",
       "      <td>0</td>\n",
       "      <td>...</td>\n",
       "      <td>0</td>\n",
       "      <td>0</td>\n",
       "      <td>0</td>\n",
       "      <td>0</td>\n",
       "      <td>0</td>\n",
       "      <td>0</td>\n",
       "      <td>0</td>\n",
       "      <td>2019</td>\n",
       "      <td>12</td>\n",
       "      <td>30</td>\n",
       "    </tr>\n",
       "    <tr>\n",
       "      <td>4</td>\n",
       "      <td>4858</td>\n",
       "      <td>3674</td>\n",
       "      <td>407</td>\n",
       "      <td>0</td>\n",
       "      <td>0</td>\n",
       "      <td>0</td>\n",
       "      <td>0</td>\n",
       "      <td>0</td>\n",
       "      <td>0</td>\n",
       "      <td>0</td>\n",
       "      <td>...</td>\n",
       "      <td>0</td>\n",
       "      <td>0</td>\n",
       "      <td>0</td>\n",
       "      <td>0</td>\n",
       "      <td>0</td>\n",
       "      <td>1</td>\n",
       "      <td>0</td>\n",
       "      <td>2019</td>\n",
       "      <td>9</td>\n",
       "      <td>10</td>\n",
       "    </tr>\n",
       "  </tbody>\n",
       "</table>\n",
       "<p>5 rows × 25 columns</p>\n",
       "</div>"
      ],
      "text/plain": [
       "   session_id  session_number  client_agent  purchased  added_in_cart  \\\n",
       "0        1912             715           269          1              0   \n",
       "1        3520              55           688          1              0   \n",
       "2        1063              11           412          0              0   \n",
       "3        5142            2794           355          0              1   \n",
       "4        4858            3674           407          0              0   \n",
       "\n",
       "   checked_out  Android Phone - MobileWeb  Android Phone - Web  \\\n",
       "0            0                          0                    0   \n",
       "1            0                          0                    0   \n",
       "2            0                          0                    0   \n",
       "3            0                          0                    0   \n",
       "4            0                          0                    0   \n",
       "\n",
       "   Android Tablet - Android  Android Tablet - MobileWeb  ...  Other - Other  \\\n",
       "0                         0                           0  ...              0   \n",
       "1                         0                           0  ...              0   \n",
       "2                         0                           0  ...              0   \n",
       "3                         0                           0  ...              0   \n",
       "4                         0                           0  ...              0   \n",
       "\n",
       "   Unknown - MobileWeb  iPad - Web  iPad - iOS  iPhone - MobileWeb  \\\n",
       "0                    0           0           0                   0   \n",
       "1                    0           0           0                   0   \n",
       "2                    0           0           0                   1   \n",
       "3                    0           0           0                   0   \n",
       "4                    0           0           0                   0   \n",
       "\n",
       "   iPhone - Web  iPhone - iOS  year  month  day  \n",
       "0             0             0  2020      1   22  \n",
       "1             0             1  2020      2   27  \n",
       "2             0             0  2019      8    1  \n",
       "3             0             0  2019     12   30  \n",
       "4             1             0  2019      9   10  \n",
       "\n",
       "[5 rows x 25 columns]"
      ]
     },
     "execution_count": 150,
     "metadata": {},
     "output_type": "execute_result"
    }
   ],
   "source": [
    "X.head()"
   ]
  },
  {
   "cell_type": "code",
   "execution_count": 151,
   "metadata": {},
   "outputs": [],
   "source": [
    "df_test['Android Tablet - MobileWeb'] = 0"
   ]
  },
  {
   "cell_type": "code",
   "execution_count": 152,
   "metadata": {},
   "outputs": [],
   "source": [
    "df_test = df_test.drop([ 'date'], axis = 1,inplace = False)"
   ]
  },
  {
   "cell_type": "code",
   "execution_count": 153,
   "metadata": {},
   "outputs": [
    {
     "data": {
      "text/html": [
       "<div>\n",
       "<style scoped>\n",
       "    .dataframe tbody tr th:only-of-type {\n",
       "        vertical-align: middle;\n",
       "    }\n",
       "\n",
       "    .dataframe tbody tr th {\n",
       "        vertical-align: top;\n",
       "    }\n",
       "\n",
       "    .dataframe thead th {\n",
       "        text-align: right;\n",
       "    }\n",
       "</style>\n",
       "<table border=\"1\" class=\"dataframe\">\n",
       "  <thead>\n",
       "    <tr style=\"text-align: right;\">\n",
       "      <th></th>\n",
       "      <th>session_id</th>\n",
       "      <th>session_number</th>\n",
       "      <th>client_agent</th>\n",
       "      <th>purchased</th>\n",
       "      <th>added_in_cart</th>\n",
       "      <th>checked_out</th>\n",
       "      <th>Android Phone - MobileWeb</th>\n",
       "      <th>Android Phone - Web</th>\n",
       "      <th>Android Tablet - Android</th>\n",
       "      <th>Android Tablet - Web</th>\n",
       "      <th>...</th>\n",
       "      <th>Unknown - MobileWeb</th>\n",
       "      <th>iPad - Web</th>\n",
       "      <th>iPad - iOS</th>\n",
       "      <th>iPhone - MobileWeb</th>\n",
       "      <th>iPhone - Web</th>\n",
       "      <th>iPhone - iOS</th>\n",
       "      <th>year</th>\n",
       "      <th>month</th>\n",
       "      <th>day</th>\n",
       "      <th>Android Tablet - MobileWeb</th>\n",
       "    </tr>\n",
       "  </thead>\n",
       "  <tbody>\n",
       "    <tr>\n",
       "      <td>0</td>\n",
       "      <td>106</td>\n",
       "      <td>99</td>\n",
       "      <td>174</td>\n",
       "      <td>1</td>\n",
       "      <td>0</td>\n",
       "      <td>0</td>\n",
       "      <td>0</td>\n",
       "      <td>0</td>\n",
       "      <td>0</td>\n",
       "      <td>0</td>\n",
       "      <td>...</td>\n",
       "      <td>0</td>\n",
       "      <td>0</td>\n",
       "      <td>0</td>\n",
       "      <td>0</td>\n",
       "      <td>0</td>\n",
       "      <td>0</td>\n",
       "      <td>2020</td>\n",
       "      <td>1</td>\n",
       "      <td>7</td>\n",
       "      <td>0</td>\n",
       "    </tr>\n",
       "    <tr>\n",
       "      <td>1</td>\n",
       "      <td>950</td>\n",
       "      <td>935</td>\n",
       "      <td>355</td>\n",
       "      <td>0</td>\n",
       "      <td>0</td>\n",
       "      <td>0</td>\n",
       "      <td>0</td>\n",
       "      <td>0</td>\n",
       "      <td>0</td>\n",
       "      <td>0</td>\n",
       "      <td>...</td>\n",
       "      <td>0</td>\n",
       "      <td>0</td>\n",
       "      <td>0</td>\n",
       "      <td>0</td>\n",
       "      <td>0</td>\n",
       "      <td>0</td>\n",
       "      <td>2020</td>\n",
       "      <td>2</td>\n",
       "      <td>13</td>\n",
       "      <td>0</td>\n",
       "    </tr>\n",
       "    <tr>\n",
       "      <td>2</td>\n",
       "      <td>542</td>\n",
       "      <td>902</td>\n",
       "      <td>418</td>\n",
       "      <td>1</td>\n",
       "      <td>0</td>\n",
       "      <td>0</td>\n",
       "      <td>0</td>\n",
       "      <td>0</td>\n",
       "      <td>0</td>\n",
       "      <td>0</td>\n",
       "      <td>...</td>\n",
       "      <td>0</td>\n",
       "      <td>0</td>\n",
       "      <td>0</td>\n",
       "      <td>0</td>\n",
       "      <td>0</td>\n",
       "      <td>1</td>\n",
       "      <td>2019</td>\n",
       "      <td>10</td>\n",
       "      <td>14</td>\n",
       "      <td>0</td>\n",
       "    </tr>\n",
       "    <tr>\n",
       "      <td>3</td>\n",
       "      <td>1421</td>\n",
       "      <td>3223</td>\n",
       "      <td>238</td>\n",
       "      <td>0</td>\n",
       "      <td>0</td>\n",
       "      <td>0</td>\n",
       "      <td>0</td>\n",
       "      <td>0</td>\n",
       "      <td>0</td>\n",
       "      <td>0</td>\n",
       "      <td>...</td>\n",
       "      <td>0</td>\n",
       "      <td>0</td>\n",
       "      <td>0</td>\n",
       "      <td>0</td>\n",
       "      <td>0</td>\n",
       "      <td>0</td>\n",
       "      <td>2020</td>\n",
       "      <td>1</td>\n",
       "      <td>26</td>\n",
       "      <td>0</td>\n",
       "    </tr>\n",
       "    <tr>\n",
       "      <td>4</td>\n",
       "      <td>1993</td>\n",
       "      <td>231</td>\n",
       "      <td>202</td>\n",
       "      <td>0</td>\n",
       "      <td>0</td>\n",
       "      <td>0</td>\n",
       "      <td>0</td>\n",
       "      <td>0</td>\n",
       "      <td>0</td>\n",
       "      <td>0</td>\n",
       "      <td>...</td>\n",
       "      <td>0</td>\n",
       "      <td>0</td>\n",
       "      <td>0</td>\n",
       "      <td>0</td>\n",
       "      <td>0</td>\n",
       "      <td>0</td>\n",
       "      <td>2020</td>\n",
       "      <td>1</td>\n",
       "      <td>29</td>\n",
       "      <td>0</td>\n",
       "    </tr>\n",
       "  </tbody>\n",
       "</table>\n",
       "<p>5 rows × 25 columns</p>\n",
       "</div>"
      ],
      "text/plain": [
       "   session_id  session_number  client_agent  purchased  added_in_cart  \\\n",
       "0         106              99           174          1              0   \n",
       "1         950             935           355          0              0   \n",
       "2         542             902           418          1              0   \n",
       "3        1421            3223           238          0              0   \n",
       "4        1993             231           202          0              0   \n",
       "\n",
       "   checked_out  Android Phone - MobileWeb  Android Phone - Web  \\\n",
       "0            0                          0                    0   \n",
       "1            0                          0                    0   \n",
       "2            0                          0                    0   \n",
       "3            0                          0                    0   \n",
       "4            0                          0                    0   \n",
       "\n",
       "   Android Tablet - Android  Android Tablet - Web  ...  Unknown - MobileWeb  \\\n",
       "0                         0                     0  ...                    0   \n",
       "1                         0                     0  ...                    0   \n",
       "2                         0                     0  ...                    0   \n",
       "3                         0                     0  ...                    0   \n",
       "4                         0                     0  ...                    0   \n",
       "\n",
       "   iPad - Web  iPad - iOS  iPhone - MobileWeb  iPhone - Web  iPhone - iOS  \\\n",
       "0           0           0                   0             0             0   \n",
       "1           0           0                   0             0             0   \n",
       "2           0           0                   0             0             1   \n",
       "3           0           0                   0             0             0   \n",
       "4           0           0                   0             0             0   \n",
       "\n",
       "   year  month  day  Android Tablet - MobileWeb  \n",
       "0  2020      1    7                           0  \n",
       "1  2020      2   13                           0  \n",
       "2  2019     10   14                           0  \n",
       "3  2020      1   26                           0  \n",
       "4  2020      1   29                           0  \n",
       "\n",
       "[5 rows x 25 columns]"
      ]
     },
     "execution_count": 153,
     "metadata": {},
     "output_type": "execute_result"
    }
   ],
   "source": [
    "df_test.head()"
   ]
  },
  {
   "cell_type": "code",
   "execution_count": 154,
   "metadata": {},
   "outputs": [],
   "source": [
    "from sklearn.preprocessing import PowerTransformer\n",
    "y = y.values.reshape((len(y),1))\n",
    "boxci = PowerTransformer(method='yeo-johnson', standardize=True)\n",
    "y = boxci.fit_transform(y)"
   ]
  },
  {
   "cell_type": "code",
   "execution_count": 155,
   "metadata": {},
   "outputs": [],
   "source": [
    "from sklearn.linear_model import LinearRegression\n",
    "from sklearn.tree import DecisionTreeRegressor\n",
    "from sklearn.ensemble import ExtraTreesRegressor\n",
    "from sklearn.ensemble import RandomForestRegressor\n",
    "import xgboost\n",
    "from lightgbm import LGBMRegressor\n",
    "from sklearn.ensemble import VotingRegressor\n",
    "from sklearn.ensemble import AdaBoostRegressor\n",
    "from sklearn.ensemble import GradientBoostingRegressor\n",
    "from sklearn.neighbors import KNeighborsRegressor\n",
    "from sklearn.linear_model import ElasticNet\n",
    "from catboost import CatBoostRegressor\n",
    "from lightgbm import LGBMRegressor\n",
    "from sklearn.pipeline import Pipeline\n",
    "from sklearn.metrics import mean_squared_error\n",
    "from sklearn import metrics"
   ]
  },
  {
   "cell_type": "code",
   "execution_count": 156,
   "metadata": {},
   "outputs": [],
   "source": [
    "from sklearn.model_selection import train_test_split\n",
    "X_train, X_test, y_train, y_test = train_test_split(X, y, test_size = 0.2, random_state = 42)"
   ]
  },
  {
   "cell_type": "code",
   "execution_count": 157,
   "metadata": {},
   "outputs": [],
   "source": [
    "et = ExtraTreesRegressor(n_jobs=-1,n_estimators=500)\n",
    "rf = RandomForestRegressor(max_depth=8,bootstrap=True,n_jobs=-1,n_estimators=200,max_features='sqrt')\n",
    "xgb = xgboost.XGBRegressor(n_jobs=-1,colsample_bytree=0.7, learning_rate=0.07,\n",
    "                           max_depth=5, min_child_weight=4, n_estimators=500,nthread=4, subsample=0.7)\n",
    "gbr = GradientBoostingRegressor(random_state=0)\n",
    "xgb = xgboost.XGBRegressor(n_jobs=-1)\n",
    "et = ExtraTreesRegressor(n_jobs=-1)\n",
    "rf = RandomForestRegressor(n_jobs=-1)\n",
    "ds = DecisionTreeRegressor()\n",
    "catboost_reg = CatBoostRegressor()"
   ]
  },
  {
   "cell_type": "code",
   "execution_count": 158,
   "metadata": {},
   "outputs": [],
   "source": [
    "pipelines = {\n",
    "\"LinearRegression\": LinearRegression(),\n",
    "\"AdaBoostRegressor\":AdaBoostRegressor(random_state=0, n_estimators=100),\n",
    "\"ElasticNet\":ElasticNet(random_state=0),\n",
    "\"GradientBoostingRegressor\":GradientBoostingRegressor(random_state=0),\n",
    "\"DecisionTreeRegressor\": DecisionTreeRegressor(),\n",
    "\"ExtraTreesRegressor\": ExtraTreesRegressor(n_jobs=-1),\n",
    "\"RandomForestRegressor\": RandomForestRegressor(n_jobs=-1),\n",
    "\"XGBRegressor\":xgboost.XGBRegressor(n_jobs=-1),\n",
    "\"CatBoostRegressor\":CatBoostRegressor(iterations=900, depth=5, learning_rate=0.05,loss_function = 'RMSE')\n",
    "}"
   ]
  },
  {
   "cell_type": "code",
   "execution_count": 159,
   "metadata": {},
   "outputs": [
    {
     "name": "stdout",
     "output_type": "stream",
     "text": [
      "--------------------------------------------------------------\n",
      "Model: LinearRegression\n",
      "-----Training Data Evalution-----\n",
      "Train Score: 0.35241737215595015\n",
      "Test Score: 0.40661776352457757\n",
      "RMSE on train data:  0.8036867514414713\n",
      "RMSE on test data:  0.7740212544422155\n"
     ]
    },
    {
     "name": "stderr",
     "output_type": "stream",
     "text": [
      "C:\\ProgramData\\Anaconda3\\lib\\site-packages\\sklearn\\utils\\validation.py:724: DataConversionWarning: A column-vector y was passed when a 1d array was expected. Please change the shape of y to (n_samples, ), for example using ravel().\n",
      "  y = column_or_1d(y, warn=True)\n"
     ]
    },
    {
     "name": "stdout",
     "output_type": "stream",
     "text": [
      "--------------------------------------------------------------\n",
      "Model: AdaBoostRegressor\n",
      "-----Training Data Evalution-----\n",
      "Train Score: 0.28997172660653614\n",
      "Test Score: 0.3274277175790955\n",
      "RMSE on train data:  0.8415444024603546\n",
      "RMSE on test data:  0.8240529124906293\n",
      "--------------------------------------------------------------\n",
      "Model: ElasticNet\n",
      "-----Training Data Evalution-----\n",
      "Train Score: 0.013190598644242768\n",
      "Test Score: 0.014193405123153369\n",
      "RMSE on train data:  0.9921009224848516\n",
      "RMSE on test data:  0.9976575086125095\n"
     ]
    },
    {
     "name": "stderr",
     "output_type": "stream",
     "text": [
      "C:\\ProgramData\\Anaconda3\\lib\\site-packages\\sklearn\\ensemble\\gradient_boosting.py:1450: DataConversionWarning: A column-vector y was passed when a 1d array was expected. Please change the shape of y to (n_samples, ), for example using ravel().\n",
      "  y = column_or_1d(y, warn=True)\n"
     ]
    },
    {
     "name": "stdout",
     "output_type": "stream",
     "text": [
      "--------------------------------------------------------------\n",
      "Model: GradientBoostingRegressor\n",
      "-----Training Data Evalution-----\n",
      "Train Score: 0.44875075673018494\n",
      "Test Score: 0.459618844063132\n",
      "RMSE on train data:  0.7415035206871988\n",
      "RMSE on test data:  0.7386449175798573\n",
      "--------------------------------------------------------------\n",
      "Model: DecisionTreeRegressor\n",
      "-----Training Data Evalution-----\n",
      "Train Score: 0.9999999997173261\n",
      "Test Score: -0.07509433545364574\n",
      "RMSE on train data:  1.679121246636249e-05\n",
      "RMSE on test data:  1.0418588921269916\n"
     ]
    },
    {
     "name": "stderr",
     "output_type": "stream",
     "text": [
      "C:\\ProgramData\\Anaconda3\\lib\\site-packages\\sklearn\\ensemble\\forest.py:245: FutureWarning: The default value of n_estimators will change from 10 in version 0.20 to 100 in 0.22.\n",
      "  \"10 in version 0.20 to 100 in 0.22.\", FutureWarning)\n",
      "C:\\ProgramData\\Anaconda3\\lib\\site-packages\\ipykernel_launcher.py:6: DataConversionWarning: A column-vector y was passed when a 1d array was expected. Please change the shape of y to (n_samples,), for example using ravel().\n",
      "  \n"
     ]
    },
    {
     "name": "stdout",
     "output_type": "stream",
     "text": [
      "--------------------------------------------------------------\n",
      "Model: ExtraTreesRegressor\n",
      "-----Training Data Evalution-----\n",
      "Train Score: 0.9999999999854928\n",
      "Test Score: 0.3495085052140424\n",
      "RMSE on train data:  3.803918833112039e-06\n",
      "RMSE on test data:  0.8104130525404902\n"
     ]
    },
    {
     "name": "stderr",
     "output_type": "stream",
     "text": [
      "C:\\ProgramData\\Anaconda3\\lib\\site-packages\\sklearn\\ensemble\\forest.py:245: FutureWarning: The default value of n_estimators will change from 10 in version 0.20 to 100 in 0.22.\n",
      "  \"10 in version 0.20 to 100 in 0.22.\", FutureWarning)\n",
      "C:\\ProgramData\\Anaconda3\\lib\\site-packages\\ipykernel_launcher.py:6: DataConversionWarning: A column-vector y was passed when a 1d array was expected. Please change the shape of y to (n_samples,), for example using ravel().\n",
      "  \n"
     ]
    },
    {
     "name": "stdout",
     "output_type": "stream",
     "text": [
      "--------------------------------------------------------------\n",
      "Model: RandomForestRegressor\n",
      "-----Training Data Evalution-----\n",
      "Train Score: 0.8774292795065434\n",
      "Test Score: 0.3878532273537385\n",
      "RMSE on train data:  0.3496492361038184\n",
      "RMSE on test data:  0.7861644439600945\n",
      "--------------------------------------------------------------\n",
      "Model: XGBRegressor\n",
      "-----Training Data Evalution-----\n",
      "Train Score: 0.8266022775129231\n",
      "Test Score: 0.4101016835374589\n",
      "RMSE on train data:  0.4158731756405108\n",
      "RMSE on test data:  0.771745657189941\n",
      "--------------------------------------------------------------\n",
      "Model: CatBoostRegressor\n",
      "-----Training Data Evalution-----\n",
      "Train Score: -6317.252019813012\n",
      "Test Score: -1570.722955617457\n",
      "RMSE on train data:  0.6378837978724472\n",
      "RMSE on test data:  0.7284706163019898\n"
     ]
    }
   ],
   "source": [
    "dic =  {\"Model\":[],\"R2_Train\":[],\"RMSE_Train\":[]}\n",
    "for name, model in pipelines.items():\n",
    "    if name == 'CatBoostRegressor':\n",
    "        model.fit(X_train, y_train,verbose=False)\n",
    "    else:\n",
    "        model.fit(X_train, y_train)\n",
    "    #y_test_pre = model.predict(test_df)\n",
    "    predict_train = model.predict(X_train)\n",
    "    predict_test  = model.predict(X_test)\n",
    "    print(\"--------------------------------------------------------------\")\n",
    "    print(\"Model:\", name)\n",
    "    print(\"-----Training Data Evalution-----\")\n",
    "    print(\"Train Score:\",model.score(X_train, y_train))\n",
    "    print(\"Test Score:\",model.score(X_test, y_test))\n",
    "    print('RMSE on train data: ', np.sqrt(metrics.mean_squared_error(y_train, predict_train)))\n",
    "    print('RMSE on test data: ',  np.sqrt(metrics.mean_squared_error(y_test, predict_test)))\n",
    "    dic[\"Model\"].append(name)"
   ]
  },
  {
   "cell_type": "code",
   "execution_count": 48,
   "metadata": {},
   "outputs": [
    {
     "name": "stderr",
     "output_type": "stream",
     "text": [
      "C:\\ProgramData\\Anaconda3\\lib\\site-packages\\ipykernel_launcher.py:2: DataConversionWarning: A column-vector y was passed when a 1d array was expected. Please change the shape of y to (n_samples,), for example using ravel().\n",
      "  \n"
     ]
    },
    {
     "data": {
      "text/plain": [
       "RandomForestRegressor(bootstrap=True, criterion='mse', max_depth=None,\n",
       "                      max_features='auto', max_leaf_nodes=None,\n",
       "                      min_impurity_decrease=0.0, min_impurity_split=None,\n",
       "                      min_samples_leaf=1, min_samples_split=2,\n",
       "                      min_weight_fraction_leaf=0.0, n_estimators=100,\n",
       "                      n_jobs=None, oob_score=False, random_state=None,\n",
       "                      verbose=0, warm_start=False)"
      ]
     },
     "execution_count": 48,
     "metadata": {},
     "output_type": "execute_result"
    }
   ],
   "source": [
    "reg_rf = RandomForestRegressor(n_estimators=100)\n",
    "reg_rf.fit(X_train, y_train)"
   ]
  },
  {
   "cell_type": "code",
   "execution_count": 49,
   "metadata": {},
   "outputs": [
    {
     "name": "stdout",
     "output_type": "stream",
     "text": [
      "0.9088582055506899\n",
      "0.43767971273160833\n"
     ]
    }
   ],
   "source": [
    "y_pred = reg_rf.predict(X_test)\n",
    "print(reg_rf.score(X_train, y_train))\n",
    "print(reg_rf.score(X_test, y_test))"
   ]
  },
  {
   "cell_type": "code",
   "execution_count": 50,
   "metadata": {},
   "outputs": [],
   "source": [
    "predict_train = reg_rf.predict(X_train)\n",
    "predict_test  = reg_rf.predict(X_test)"
   ]
  },
  {
   "cell_type": "code",
   "execution_count": 51,
   "metadata": {},
   "outputs": [
    {
     "name": "stdout",
     "output_type": "stream",
     "text": [
      "RMSE on train data:  0.30150741812012555\n",
      "RMSE on test data:  0.7534899984141943\n"
     ]
    }
   ],
   "source": [
    "from sklearn.metrics import mean_squared_error\n",
    "from sklearn import metrics\n",
    "print('RMSE on train data: ', np.sqrt(metrics.mean_squared_error(y_train, predict_train)))\n",
    "print('RMSE on test data: ',  np.sqrt(metrics.mean_squared_error(y_test, predict_test)))"
   ]
  },
  {
   "cell_type": "code",
   "execution_count": 52,
   "metadata": {},
   "outputs": [
    {
     "data": {
      "text/plain": [
       "XGBRegressor(base_score=0.5, booster='gbtree', colsample_bylevel=1,\n",
       "             colsample_bynode=1, colsample_bytree=1, gamma=0, gpu_id=-1,\n",
       "             importance_type='gain', interaction_constraints='',\n",
       "             learning_rate=0.300000012, max_delta_step=0, max_depth=6,\n",
       "             min_child_weight=1, missing=nan, monotone_constraints='()',\n",
       "             n_estimators=100, n_jobs=-1, num_parallel_tree=1,\n",
       "             objective='reg:squarederror', random_state=0, reg_alpha=0,\n",
       "             reg_lambda=1, scale_pos_weight=1, subsample=1, tree_method='exact',\n",
       "             validate_parameters=1, verbosity=None)"
      ]
     },
     "execution_count": 52,
     "metadata": {},
     "output_type": "execute_result"
    }
   ],
   "source": [
    "xgboost_red = xgboost.XGBRegressor(n_jobs=-1)\n",
    "xgboost_red.fit(X_train, y_train)"
   ]
  },
  {
   "cell_type": "code",
   "execution_count": 53,
   "metadata": {},
   "outputs": [],
   "source": [
    "y_pred = xgboost_red.predict(X_test)"
   ]
  },
  {
   "cell_type": "code",
   "execution_count": 54,
   "metadata": {},
   "outputs": [
    {
     "data": {
      "text/plain": [
       "0.8101256242012271"
      ]
     },
     "execution_count": 54,
     "metadata": {},
     "output_type": "execute_result"
    }
   ],
   "source": [
    "xgboost_red.score(X_train, y_train)"
   ]
  },
  {
   "cell_type": "code",
   "execution_count": 55,
   "metadata": {},
   "outputs": [
    {
     "data": {
      "text/plain": [
       "0.40905199351422117"
      ]
     },
     "execution_count": 55,
     "metadata": {},
     "output_type": "execute_result"
    }
   ],
   "source": [
    "xgboost_red.score(X_test, y_test)"
   ]
  },
  {
   "cell_type": "code",
   "execution_count": 56,
   "metadata": {},
   "outputs": [],
   "source": [
    "predict_train = xgboost_red.predict(X_train)\n",
    "predict_test  = xgboost_red.predict(X_test)"
   ]
  },
  {
   "cell_type": "code",
   "execution_count": 57,
   "metadata": {},
   "outputs": [
    {
     "name": "stdout",
     "output_type": "stream",
     "text": [
      "RMSE on train data:  0.43518347308094735\n",
      "RMSE on test data:  0.772431990440735\n"
     ]
    }
   ],
   "source": [
    "from sklearn.metrics import mean_squared_error\n",
    "from sklearn import metrics\n",
    "print('RMSE on train data: ', np.sqrt(metrics.mean_squared_error(y_train, predict_train)))\n",
    "print('RMSE on test data: ',  np.sqrt(metrics.mean_squared_error(y_test, predict_test)))"
   ]
  },
  {
   "cell_type": "code",
   "execution_count": 58,
   "metadata": {},
   "outputs": [
    {
     "data": {
      "text/plain": [
       "LinearRegression(copy_X=True, fit_intercept=True, n_jobs=None, normalize=False)"
      ]
     },
     "execution_count": 58,
     "metadata": {},
     "output_type": "execute_result"
    }
   ],
   "source": [
    "from sklearn.linear_model import LinearRegression\n",
    "linear_reg = LinearRegression()\n",
    "linear_reg.fit(X_train, y_train)"
   ]
  },
  {
   "cell_type": "code",
   "execution_count": 59,
   "metadata": {},
   "outputs": [
    {
     "name": "stdout",
     "output_type": "stream",
     "text": [
      "0.3512257368801388\n",
      "0.4080496895361937\n"
     ]
    }
   ],
   "source": [
    "y_pred = linear_reg.predict(X_test)\n",
    "print(linear_reg.score(X_train, y_train))\n",
    "print(linear_reg.score(X_test, y_test))"
   ]
  },
  {
   "cell_type": "code",
   "execution_count": 60,
   "metadata": {},
   "outputs": [],
   "source": [
    "predict_train = linear_reg.predict(X_train)\n",
    "predict_test  = linear_reg.predict(X_test)"
   ]
  },
  {
   "cell_type": "code",
   "execution_count": 61,
   "metadata": {},
   "outputs": [
    {
     "name": "stdout",
     "output_type": "stream",
     "text": [
      "RMSE on train data:  0.8044258550507967\n",
      "RMSE on test data:  0.773086771946257\n"
     ]
    }
   ],
   "source": [
    "from sklearn.metrics import mean_squared_error\n",
    "from sklearn import metrics\n",
    "print('RMSE on train data: ', np.sqrt(metrics.mean_squared_error(y_train, predict_train)))\n",
    "print('RMSE on test data: ',  np.sqrt(metrics.mean_squared_error(y_test, predict_test)))"
   ]
  },
  {
   "cell_type": "code",
   "execution_count": 62,
   "metadata": {},
   "outputs": [
    {
     "name": "stdout",
     "output_type": "stream",
     "text": [
      "Learning rate set to 0.050689\n",
      "0:\tlearn: 0.9831285\ttotal: 56ms\tremaining: 56s\n",
      "1:\tlearn: 0.9689602\ttotal: 58.7ms\tremaining: 29.3s\n",
      "2:\tlearn: 0.9565678\ttotal: 60.8ms\tremaining: 20.2s\n",
      "3:\tlearn: 0.9443406\ttotal: 64.4ms\tremaining: 16s\n",
      "4:\tlearn: 0.9338067\ttotal: 65.9ms\tremaining: 13.1s\n",
      "5:\tlearn: 0.9242031\ttotal: 67.5ms\tremaining: 11.2s\n",
      "6:\tlearn: 0.9155076\ttotal: 69.2ms\tremaining: 9.82s\n",
      "7:\tlearn: 0.9069533\ttotal: 71.9ms\tremaining: 8.91s\n",
      "8:\tlearn: 0.8990020\ttotal: 74.4ms\tremaining: 8.19s\n",
      "9:\tlearn: 0.8915711\ttotal: 77ms\tremaining: 7.62s\n",
      "10:\tlearn: 0.8833599\ttotal: 80ms\tremaining: 7.19s\n",
      "11:\tlearn: 0.8778381\ttotal: 81.4ms\tremaining: 6.71s\n",
      "12:\tlearn: 0.8714864\ttotal: 84ms\tremaining: 6.37s\n",
      "13:\tlearn: 0.8650399\ttotal: 86.6ms\tremaining: 6.1s\n",
      "14:\tlearn: 0.8606048\ttotal: 88.6ms\tremaining: 5.82s\n",
      "15:\tlearn: 0.8563621\ttotal: 90.3ms\tremaining: 5.55s\n",
      "16:\tlearn: 0.8525624\ttotal: 92.8ms\tremaining: 5.37s\n",
      "17:\tlearn: 0.8475726\ttotal: 95.6ms\tremaining: 5.21s\n",
      "18:\tlearn: 0.8435196\ttotal: 98.2ms\tremaining: 5.07s\n",
      "19:\tlearn: 0.8402662\ttotal: 101ms\tremaining: 4.93s\n",
      "20:\tlearn: 0.8369689\ttotal: 103ms\tremaining: 4.81s\n",
      "21:\tlearn: 0.8347629\ttotal: 106ms\tremaining: 4.7s\n",
      "22:\tlearn: 0.8317498\ttotal: 109ms\tremaining: 4.61s\n",
      "23:\tlearn: 0.8289510\ttotal: 111ms\tremaining: 4.53s\n",
      "24:\tlearn: 0.8257896\ttotal: 114ms\tremaining: 4.45s\n",
      "25:\tlearn: 0.8243569\ttotal: 116ms\tremaining: 4.33s\n",
      "26:\tlearn: 0.8224689\ttotal: 118ms\tremaining: 4.26s\n",
      "27:\tlearn: 0.8204112\ttotal: 121ms\tremaining: 4.19s\n",
      "28:\tlearn: 0.8182196\ttotal: 123ms\tremaining: 4.13s\n",
      "29:\tlearn: 0.8166438\ttotal: 126ms\tremaining: 4.07s\n",
      "30:\tlearn: 0.8145382\ttotal: 129ms\tremaining: 4.02s\n",
      "31:\tlearn: 0.8123610\ttotal: 131ms\tremaining: 3.97s\n",
      "32:\tlearn: 0.8105164\ttotal: 134ms\tremaining: 3.92s\n",
      "33:\tlearn: 0.8095189\ttotal: 136ms\tremaining: 3.87s\n",
      "34:\tlearn: 0.8083659\ttotal: 139ms\tremaining: 3.83s\n",
      "35:\tlearn: 0.8071742\ttotal: 142ms\tremaining: 3.79s\n",
      "36:\tlearn: 0.8059071\ttotal: 144ms\tremaining: 3.75s\n",
      "37:\tlearn: 0.8047642\ttotal: 147ms\tremaining: 3.71s\n",
      "38:\tlearn: 0.8036062\ttotal: 149ms\tremaining: 3.68s\n",
      "39:\tlearn: 0.8019893\ttotal: 152ms\tremaining: 3.64s\n",
      "40:\tlearn: 0.8011081\ttotal: 154ms\tremaining: 3.61s\n",
      "41:\tlearn: 0.8000486\ttotal: 157ms\tremaining: 3.58s\n",
      "42:\tlearn: 0.7996694\ttotal: 159ms\tremaining: 3.54s\n",
      "43:\tlearn: 0.7988567\ttotal: 162ms\tremaining: 3.51s\n",
      "44:\tlearn: 0.7980634\ttotal: 164ms\tremaining: 3.48s\n",
      "45:\tlearn: 0.7972411\ttotal: 167ms\tremaining: 3.46s\n",
      "46:\tlearn: 0.7961924\ttotal: 170ms\tremaining: 3.44s\n",
      "47:\tlearn: 0.7950303\ttotal: 174ms\tremaining: 3.46s\n",
      "48:\tlearn: 0.7944843\ttotal: 177ms\tremaining: 3.43s\n",
      "49:\tlearn: 0.7938508\ttotal: 179ms\tremaining: 3.4s\n",
      "50:\tlearn: 0.7929656\ttotal: 182ms\tremaining: 3.38s\n",
      "51:\tlearn: 0.7919140\ttotal: 184ms\tremaining: 3.36s\n",
      "52:\tlearn: 0.7915108\ttotal: 187ms\tremaining: 3.34s\n",
      "53:\tlearn: 0.7912903\ttotal: 188ms\tremaining: 3.29s\n",
      "54:\tlearn: 0.7905308\ttotal: 191ms\tremaining: 3.27s\n",
      "55:\tlearn: 0.7898973\ttotal: 193ms\tremaining: 3.25s\n",
      "56:\tlearn: 0.7890918\ttotal: 196ms\tremaining: 3.24s\n",
      "57:\tlearn: 0.7884785\ttotal: 199ms\tremaining: 3.23s\n",
      "58:\tlearn: 0.7877375\ttotal: 202ms\tremaining: 3.22s\n",
      "59:\tlearn: 0.7869602\ttotal: 204ms\tremaining: 3.2s\n",
      "60:\tlearn: 0.7861493\ttotal: 207ms\tremaining: 3.18s\n",
      "61:\tlearn: 0.7854421\ttotal: 209ms\tremaining: 3.16s\n",
      "62:\tlearn: 0.7850091\ttotal: 211ms\tremaining: 3.14s\n",
      "63:\tlearn: 0.7843990\ttotal: 214ms\tremaining: 3.13s\n",
      "64:\tlearn: 0.7839010\ttotal: 216ms\tremaining: 3.11s\n",
      "65:\tlearn: 0.7832751\ttotal: 219ms\tremaining: 3.1s\n",
      "66:\tlearn: 0.7821989\ttotal: 221ms\tremaining: 3.08s\n",
      "67:\tlearn: 0.7816388\ttotal: 224ms\tremaining: 3.06s\n",
      "68:\tlearn: 0.7812129\ttotal: 226ms\tremaining: 3.05s\n",
      "69:\tlearn: 0.7807196\ttotal: 228ms\tremaining: 3.03s\n",
      "70:\tlearn: 0.7805637\ttotal: 230ms\tremaining: 3s\n",
      "71:\tlearn: 0.7799053\ttotal: 232ms\tremaining: 2.99s\n",
      "72:\tlearn: 0.7794963\ttotal: 235ms\tremaining: 2.98s\n",
      "73:\tlearn: 0.7787642\ttotal: 237ms\tremaining: 2.96s\n",
      "74:\tlearn: 0.7782319\ttotal: 239ms\tremaining: 2.95s\n",
      "75:\tlearn: 0.7779591\ttotal: 242ms\tremaining: 2.94s\n",
      "76:\tlearn: 0.7774545\ttotal: 244ms\tremaining: 2.92s\n",
      "77:\tlearn: 0.7770041\ttotal: 246ms\tremaining: 2.91s\n",
      "78:\tlearn: 0.7769554\ttotal: 248ms\tremaining: 2.89s\n",
      "79:\tlearn: 0.7762252\ttotal: 250ms\tremaining: 2.87s\n",
      "80:\tlearn: 0.7754774\ttotal: 252ms\tremaining: 2.86s\n",
      "81:\tlearn: 0.7751766\ttotal: 255ms\tremaining: 2.85s\n",
      "82:\tlearn: 0.7746260\ttotal: 257ms\tremaining: 2.84s\n",
      "83:\tlearn: 0.7741435\ttotal: 259ms\tremaining: 2.83s\n",
      "84:\tlearn: 0.7736706\ttotal: 262ms\tremaining: 2.82s\n",
      "85:\tlearn: 0.7733329\ttotal: 264ms\tremaining: 2.81s\n",
      "86:\tlearn: 0.7729335\ttotal: 266ms\tremaining: 2.79s\n",
      "87:\tlearn: 0.7724710\ttotal: 269ms\tremaining: 2.79s\n",
      "88:\tlearn: 0.7720934\ttotal: 271ms\tremaining: 2.77s\n",
      "89:\tlearn: 0.7716430\ttotal: 273ms\tremaining: 2.76s\n",
      "90:\tlearn: 0.7711215\ttotal: 276ms\tremaining: 2.75s\n",
      "91:\tlearn: 0.7709581\ttotal: 278ms\tremaining: 2.74s\n",
      "92:\tlearn: 0.7706274\ttotal: 280ms\tremaining: 2.73s\n",
      "93:\tlearn: 0.7704479\ttotal: 283ms\tremaining: 2.73s\n",
      "94:\tlearn: 0.7702389\ttotal: 285ms\tremaining: 2.71s\n",
      "95:\tlearn: 0.7699976\ttotal: 287ms\tremaining: 2.7s\n",
      "96:\tlearn: 0.7696517\ttotal: 289ms\tremaining: 2.69s\n",
      "97:\tlearn: 0.7691347\ttotal: 292ms\tremaining: 2.69s\n",
      "98:\tlearn: 0.7688725\ttotal: 294ms\tremaining: 2.68s\n",
      "99:\tlearn: 0.7685423\ttotal: 296ms\tremaining: 2.67s\n",
      "100:\tlearn: 0.7682728\ttotal: 299ms\tremaining: 2.66s\n",
      "101:\tlearn: 0.7678127\ttotal: 301ms\tremaining: 2.65s\n",
      "102:\tlearn: 0.7674881\ttotal: 304ms\tremaining: 2.64s\n",
      "103:\tlearn: 0.7671264\ttotal: 306ms\tremaining: 2.63s\n",
      "104:\tlearn: 0.7668134\ttotal: 308ms\tremaining: 2.63s\n",
      "105:\tlearn: 0.7665358\ttotal: 310ms\tremaining: 2.62s\n",
      "106:\tlearn: 0.7662349\ttotal: 313ms\tremaining: 2.61s\n",
      "107:\tlearn: 0.7659374\ttotal: 315ms\tremaining: 2.6s\n",
      "108:\tlearn: 0.7656466\ttotal: 317ms\tremaining: 2.59s\n",
      "109:\tlearn: 0.7654764\ttotal: 319ms\tremaining: 2.58s\n",
      "110:\tlearn: 0.7652191\ttotal: 322ms\tremaining: 2.58s\n",
      "111:\tlearn: 0.7648304\ttotal: 324ms\tremaining: 2.57s\n",
      "112:\tlearn: 0.7643662\ttotal: 326ms\tremaining: 2.56s\n",
      "113:\tlearn: 0.7642184\ttotal: 329ms\tremaining: 2.55s\n",
      "114:\tlearn: 0.7639680\ttotal: 331ms\tremaining: 2.55s\n",
      "115:\tlearn: 0.7636331\ttotal: 333ms\tremaining: 2.54s\n",
      "116:\tlearn: 0.7632661\ttotal: 336ms\tremaining: 2.53s\n",
      "117:\tlearn: 0.7629559\ttotal: 338ms\tremaining: 2.53s\n",
      "118:\tlearn: 0.7626280\ttotal: 341ms\tremaining: 2.52s\n",
      "119:\tlearn: 0.7622446\ttotal: 343ms\tremaining: 2.52s\n",
      "120:\tlearn: 0.7619998\ttotal: 346ms\tremaining: 2.51s\n",
      "121:\tlearn: 0.7617038\ttotal: 348ms\tremaining: 2.51s\n",
      "122:\tlearn: 0.7614249\ttotal: 352ms\tremaining: 2.51s\n",
      "123:\tlearn: 0.7611372\ttotal: 354ms\tremaining: 2.5s\n",
      "124:\tlearn: 0.7608803\ttotal: 357ms\tremaining: 2.5s\n",
      "125:\tlearn: 0.7604525\ttotal: 359ms\tremaining: 2.49s\n",
      "126:\tlearn: 0.7600611\ttotal: 361ms\tremaining: 2.48s\n",
      "127:\tlearn: 0.7599586\ttotal: 364ms\tremaining: 2.48s\n",
      "128:\tlearn: 0.7595415\ttotal: 367ms\tremaining: 2.48s\n",
      "129:\tlearn: 0.7591559\ttotal: 370ms\tremaining: 2.47s\n",
      "130:\tlearn: 0.7589566\ttotal: 372ms\tremaining: 2.47s\n",
      "131:\tlearn: 0.7586291\ttotal: 375ms\tremaining: 2.46s\n",
      "132:\tlearn: 0.7582537\ttotal: 377ms\tremaining: 2.46s\n",
      "133:\tlearn: 0.7579230\ttotal: 380ms\tremaining: 2.46s\n",
      "134:\tlearn: 0.7576062\ttotal: 383ms\tremaining: 2.45s\n",
      "135:\tlearn: 0.7574089\ttotal: 385ms\tremaining: 2.45s\n",
      "136:\tlearn: 0.7571891\ttotal: 388ms\tremaining: 2.44s\n",
      "137:\tlearn: 0.7567541\ttotal: 390ms\tremaining: 2.44s\n",
      "138:\tlearn: 0.7565146\ttotal: 393ms\tremaining: 2.43s\n",
      "139:\tlearn: 0.7561338\ttotal: 395ms\tremaining: 2.43s\n",
      "140:\tlearn: 0.7559134\ttotal: 398ms\tremaining: 2.42s\n",
      "141:\tlearn: 0.7556388\ttotal: 400ms\tremaining: 2.42s\n",
      "142:\tlearn: 0.7553328\ttotal: 403ms\tremaining: 2.41s\n",
      "143:\tlearn: 0.7549503\ttotal: 405ms\tremaining: 2.41s\n",
      "144:\tlearn: 0.7547580\ttotal: 408ms\tremaining: 2.4s\n",
      "145:\tlearn: 0.7543515\ttotal: 412ms\tremaining: 2.41s\n",
      "146:\tlearn: 0.7541957\ttotal: 414ms\tremaining: 2.4s\n",
      "147:\tlearn: 0.7537919\ttotal: 417ms\tremaining: 2.4s\n",
      "148:\tlearn: 0.7535412\ttotal: 419ms\tremaining: 2.39s\n",
      "149:\tlearn: 0.7532543\ttotal: 422ms\tremaining: 2.39s\n",
      "150:\tlearn: 0.7527877\ttotal: 424ms\tremaining: 2.38s\n",
      "151:\tlearn: 0.7525144\ttotal: 427ms\tremaining: 2.38s\n",
      "152:\tlearn: 0.7522167\ttotal: 429ms\tremaining: 2.38s\n",
      "153:\tlearn: 0.7519200\ttotal: 432ms\tremaining: 2.37s\n",
      "154:\tlearn: 0.7516899\ttotal: 435ms\tremaining: 2.37s\n",
      "155:\tlearn: 0.7514992\ttotal: 439ms\tremaining: 2.37s\n",
      "156:\tlearn: 0.7512254\ttotal: 441ms\tremaining: 2.37s\n",
      "157:\tlearn: 0.7510578\ttotal: 444ms\tremaining: 2.36s\n",
      "158:\tlearn: 0.7507962\ttotal: 446ms\tremaining: 2.36s\n",
      "159:\tlearn: 0.7504828\ttotal: 448ms\tremaining: 2.35s\n",
      "160:\tlearn: 0.7501235\ttotal: 451ms\tremaining: 2.35s\n",
      "161:\tlearn: 0.7498355\ttotal: 453ms\tremaining: 2.34s\n",
      "162:\tlearn: 0.7495575\ttotal: 456ms\tremaining: 2.34s\n",
      "163:\tlearn: 0.7492420\ttotal: 458ms\tremaining: 2.33s\n",
      "164:\tlearn: 0.7489787\ttotal: 460ms\tremaining: 2.33s\n",
      "165:\tlearn: 0.7487180\ttotal: 462ms\tremaining: 2.32s\n",
      "166:\tlearn: 0.7484230\ttotal: 465ms\tremaining: 2.32s\n",
      "167:\tlearn: 0.7481305\ttotal: 467ms\tremaining: 2.31s\n",
      "168:\tlearn: 0.7478541\ttotal: 469ms\tremaining: 2.31s\n",
      "169:\tlearn: 0.7475774\ttotal: 472ms\tremaining: 2.3s\n",
      "170:\tlearn: 0.7472348\ttotal: 474ms\tremaining: 2.3s\n",
      "171:\tlearn: 0.7468651\ttotal: 476ms\tremaining: 2.29s\n",
      "172:\tlearn: 0.7466586\ttotal: 479ms\tremaining: 2.29s\n",
      "173:\tlearn: 0.7462963\ttotal: 481ms\tremaining: 2.28s\n",
      "174:\tlearn: 0.7458940\ttotal: 483ms\tremaining: 2.28s\n",
      "175:\tlearn: 0.7456914\ttotal: 486ms\tremaining: 2.27s\n",
      "176:\tlearn: 0.7454566\ttotal: 488ms\tremaining: 2.27s\n",
      "177:\tlearn: 0.7451046\ttotal: 490ms\tremaining: 2.26s\n",
      "178:\tlearn: 0.7446539\ttotal: 493ms\tremaining: 2.26s\n",
      "179:\tlearn: 0.7444000\ttotal: 495ms\tremaining: 2.25s\n",
      "180:\tlearn: 0.7441375\ttotal: 497ms\tremaining: 2.25s\n",
      "181:\tlearn: 0.7438339\ttotal: 500ms\tremaining: 2.25s\n",
      "182:\tlearn: 0.7433393\ttotal: 502ms\tremaining: 2.24s\n"
     ]
    },
    {
     "name": "stdout",
     "output_type": "stream",
     "text": [
      "183:\tlearn: 0.7429582\ttotal: 504ms\tremaining: 2.24s\n",
      "184:\tlearn: 0.7426987\ttotal: 507ms\tremaining: 2.23s\n",
      "185:\tlearn: 0.7424593\ttotal: 510ms\tremaining: 2.23s\n",
      "186:\tlearn: 0.7422018\ttotal: 513ms\tremaining: 2.23s\n",
      "187:\tlearn: 0.7419337\ttotal: 515ms\tremaining: 2.23s\n",
      "188:\tlearn: 0.7415017\ttotal: 518ms\tremaining: 2.22s\n",
      "189:\tlearn: 0.7411465\ttotal: 521ms\tremaining: 2.22s\n",
      "190:\tlearn: 0.7409339\ttotal: 523ms\tremaining: 2.22s\n",
      "191:\tlearn: 0.7406788\ttotal: 526ms\tremaining: 2.21s\n",
      "192:\tlearn: 0.7403930\ttotal: 528ms\tremaining: 2.21s\n",
      "193:\tlearn: 0.7400595\ttotal: 531ms\tremaining: 2.21s\n",
      "194:\tlearn: 0.7397993\ttotal: 533ms\tremaining: 2.2s\n",
      "195:\tlearn: 0.7394394\ttotal: 536ms\tremaining: 2.2s\n",
      "196:\tlearn: 0.7391715\ttotal: 538ms\tremaining: 2.19s\n",
      "197:\tlearn: 0.7389020\ttotal: 541ms\tremaining: 2.19s\n",
      "198:\tlearn: 0.7386624\ttotal: 543ms\tremaining: 2.19s\n",
      "199:\tlearn: 0.7383493\ttotal: 546ms\tremaining: 2.18s\n",
      "200:\tlearn: 0.7380656\ttotal: 548ms\tremaining: 2.18s\n",
      "201:\tlearn: 0.7377180\ttotal: 550ms\tremaining: 2.17s\n",
      "202:\tlearn: 0.7372494\ttotal: 553ms\tremaining: 2.17s\n",
      "203:\tlearn: 0.7370169\ttotal: 555ms\tremaining: 2.17s\n",
      "204:\tlearn: 0.7367883\ttotal: 558ms\tremaining: 2.16s\n",
      "205:\tlearn: 0.7364576\ttotal: 560ms\tremaining: 2.16s\n",
      "206:\tlearn: 0.7361012\ttotal: 563ms\tremaining: 2.15s\n",
      "207:\tlearn: 0.7358147\ttotal: 566ms\tremaining: 2.15s\n",
      "208:\tlearn: 0.7355382\ttotal: 568ms\tremaining: 2.15s\n",
      "209:\tlearn: 0.7352854\ttotal: 571ms\tremaining: 2.15s\n",
      "210:\tlearn: 0.7350317\ttotal: 574ms\tremaining: 2.15s\n",
      "211:\tlearn: 0.7348227\ttotal: 576ms\tremaining: 2.14s\n",
      "212:\tlearn: 0.7346215\ttotal: 578ms\tremaining: 2.14s\n",
      "213:\tlearn: 0.7342923\ttotal: 581ms\tremaining: 2.13s\n",
      "214:\tlearn: 0.7340214\ttotal: 583ms\tremaining: 2.13s\n",
      "215:\tlearn: 0.7337112\ttotal: 586ms\tremaining: 2.13s\n",
      "216:\tlearn: 0.7335284\ttotal: 588ms\tremaining: 2.12s\n",
      "217:\tlearn: 0.7331264\ttotal: 590ms\tremaining: 2.12s\n",
      "218:\tlearn: 0.7326703\ttotal: 593ms\tremaining: 2.11s\n",
      "219:\tlearn: 0.7323652\ttotal: 595ms\tremaining: 2.11s\n",
      "220:\tlearn: 0.7321535\ttotal: 597ms\tremaining: 2.1s\n",
      "221:\tlearn: 0.7318251\ttotal: 600ms\tremaining: 2.1s\n",
      "222:\tlearn: 0.7316092\ttotal: 602ms\tremaining: 2.1s\n",
      "223:\tlearn: 0.7313564\ttotal: 605ms\tremaining: 2.09s\n",
      "224:\tlearn: 0.7310872\ttotal: 607ms\tremaining: 2.09s\n",
      "225:\tlearn: 0.7307839\ttotal: 609ms\tremaining: 2.09s\n",
      "226:\tlearn: 0.7305678\ttotal: 612ms\tremaining: 2.08s\n",
      "227:\tlearn: 0.7302352\ttotal: 614ms\tremaining: 2.08s\n",
      "228:\tlearn: 0.7299604\ttotal: 617ms\tremaining: 2.08s\n",
      "229:\tlearn: 0.7296625\ttotal: 619ms\tremaining: 2.07s\n",
      "230:\tlearn: 0.7293129\ttotal: 622ms\tremaining: 2.07s\n",
      "231:\tlearn: 0.7289192\ttotal: 625ms\tremaining: 2.07s\n",
      "232:\tlearn: 0.7286195\ttotal: 627ms\tremaining: 2.06s\n",
      "233:\tlearn: 0.7282873\ttotal: 629ms\tremaining: 2.06s\n",
      "234:\tlearn: 0.7279573\ttotal: 632ms\tremaining: 2.06s\n",
      "235:\tlearn: 0.7277297\ttotal: 635ms\tremaining: 2.05s\n",
      "236:\tlearn: 0.7274917\ttotal: 637ms\tremaining: 2.05s\n",
      "237:\tlearn: 0.7271210\ttotal: 640ms\tremaining: 2.05s\n",
      "238:\tlearn: 0.7267403\ttotal: 642ms\tremaining: 2.04s\n",
      "239:\tlearn: 0.7263905\ttotal: 645ms\tremaining: 2.04s\n",
      "240:\tlearn: 0.7261386\ttotal: 648ms\tremaining: 2.04s\n",
      "241:\tlearn: 0.7257722\ttotal: 650ms\tremaining: 2.04s\n",
      "242:\tlearn: 0.7254950\ttotal: 653ms\tremaining: 2.03s\n",
      "243:\tlearn: 0.7252330\ttotal: 655ms\tremaining: 2.03s\n",
      "244:\tlearn: 0.7248635\ttotal: 658ms\tremaining: 2.03s\n",
      "245:\tlearn: 0.7246871\ttotal: 660ms\tremaining: 2.02s\n",
      "246:\tlearn: 0.7243864\ttotal: 663ms\tremaining: 2.02s\n",
      "247:\tlearn: 0.7241266\ttotal: 666ms\tremaining: 2.02s\n",
      "248:\tlearn: 0.7238321\ttotal: 669ms\tremaining: 2.02s\n",
      "249:\tlearn: 0.7236411\ttotal: 672ms\tremaining: 2.01s\n",
      "250:\tlearn: 0.7234654\ttotal: 674ms\tremaining: 2.01s\n",
      "251:\tlearn: 0.7230988\ttotal: 677ms\tremaining: 2.01s\n",
      "252:\tlearn: 0.7227918\ttotal: 680ms\tremaining: 2.01s\n",
      "253:\tlearn: 0.7225540\ttotal: 683ms\tremaining: 2s\n",
      "254:\tlearn: 0.7221845\ttotal: 686ms\tremaining: 2s\n",
      "255:\tlearn: 0.7219605\ttotal: 690ms\tremaining: 2s\n",
      "256:\tlearn: 0.7216960\ttotal: 693ms\tremaining: 2s\n",
      "257:\tlearn: 0.7214660\ttotal: 695ms\tremaining: 2s\n",
      "258:\tlearn: 0.7211564\ttotal: 698ms\tremaining: 2s\n",
      "259:\tlearn: 0.7208252\ttotal: 702ms\tremaining: 2s\n",
      "260:\tlearn: 0.7205601\ttotal: 704ms\tremaining: 1.99s\n",
      "261:\tlearn: 0.7201841\ttotal: 707ms\tremaining: 1.99s\n",
      "262:\tlearn: 0.7197201\ttotal: 710ms\tremaining: 1.99s\n",
      "263:\tlearn: 0.7194973\ttotal: 712ms\tremaining: 1.99s\n",
      "264:\tlearn: 0.7192655\ttotal: 715ms\tremaining: 1.98s\n",
      "265:\tlearn: 0.7190459\ttotal: 718ms\tremaining: 1.98s\n",
      "266:\tlearn: 0.7188045\ttotal: 721ms\tremaining: 1.98s\n",
      "267:\tlearn: 0.7185280\ttotal: 723ms\tremaining: 1.98s\n",
      "268:\tlearn: 0.7182373\ttotal: 726ms\tremaining: 1.97s\n",
      "269:\tlearn: 0.7179318\ttotal: 729ms\tremaining: 1.97s\n",
      "270:\tlearn: 0.7176784\ttotal: 732ms\tremaining: 1.97s\n",
      "271:\tlearn: 0.7174786\ttotal: 735ms\tremaining: 1.97s\n",
      "272:\tlearn: 0.7172659\ttotal: 737ms\tremaining: 1.96s\n",
      "273:\tlearn: 0.7171058\ttotal: 740ms\tremaining: 1.96s\n",
      "274:\tlearn: 0.7169941\ttotal: 742ms\tremaining: 1.96s\n",
      "275:\tlearn: 0.7165790\ttotal: 746ms\tremaining: 1.96s\n",
      "276:\tlearn: 0.7163184\ttotal: 748ms\tremaining: 1.95s\n",
      "277:\tlearn: 0.7160505\ttotal: 751ms\tremaining: 1.95s\n",
      "278:\tlearn: 0.7158470\ttotal: 753ms\tremaining: 1.95s\n",
      "279:\tlearn: 0.7155604\ttotal: 756ms\tremaining: 1.94s\n",
      "280:\tlearn: 0.7153202\ttotal: 759ms\tremaining: 1.94s\n",
      "281:\tlearn: 0.7150181\ttotal: 762ms\tremaining: 1.94s\n",
      "282:\tlearn: 0.7147886\ttotal: 766ms\tremaining: 1.94s\n",
      "283:\tlearn: 0.7145855\ttotal: 768ms\tremaining: 1.94s\n",
      "284:\tlearn: 0.7143487\ttotal: 773ms\tremaining: 1.94s\n",
      "285:\tlearn: 0.7141305\ttotal: 777ms\tremaining: 1.94s\n",
      "286:\tlearn: 0.7138571\ttotal: 779ms\tremaining: 1.94s\n",
      "287:\tlearn: 0.7135911\ttotal: 782ms\tremaining: 1.93s\n",
      "288:\tlearn: 0.7133967\ttotal: 785ms\tremaining: 1.93s\n",
      "289:\tlearn: 0.7131041\ttotal: 787ms\tremaining: 1.93s\n",
      "290:\tlearn: 0.7129442\ttotal: 790ms\tremaining: 1.93s\n",
      "291:\tlearn: 0.7127248\ttotal: 793ms\tremaining: 1.92s\n",
      "292:\tlearn: 0.7125290\ttotal: 795ms\tremaining: 1.92s\n",
      "293:\tlearn: 0.7122198\ttotal: 799ms\tremaining: 1.92s\n",
      "294:\tlearn: 0.7119494\ttotal: 802ms\tremaining: 1.92s\n",
      "295:\tlearn: 0.7116584\ttotal: 804ms\tremaining: 1.91s\n",
      "296:\tlearn: 0.7113973\ttotal: 807ms\tremaining: 1.91s\n",
      "297:\tlearn: 0.7111313\ttotal: 809ms\tremaining: 1.91s\n",
      "298:\tlearn: 0.7108665\ttotal: 812ms\tremaining: 1.9s\n",
      "299:\tlearn: 0.7106577\ttotal: 814ms\tremaining: 1.9s\n",
      "300:\tlearn: 0.7105113\ttotal: 817ms\tremaining: 1.9s\n",
      "301:\tlearn: 0.7101633\ttotal: 819ms\tremaining: 1.89s\n",
      "302:\tlearn: 0.7100044\ttotal: 822ms\tremaining: 1.89s\n",
      "303:\tlearn: 0.7097797\ttotal: 825ms\tremaining: 1.89s\n",
      "304:\tlearn: 0.7095971\ttotal: 827ms\tremaining: 1.89s\n",
      "305:\tlearn: 0.7094047\ttotal: 830ms\tremaining: 1.88s\n",
      "306:\tlearn: 0.7091847\ttotal: 833ms\tremaining: 1.88s\n",
      "307:\tlearn: 0.7089051\ttotal: 835ms\tremaining: 1.88s\n",
      "308:\tlearn: 0.7085899\ttotal: 838ms\tremaining: 1.87s\n",
      "309:\tlearn: 0.7083376\ttotal: 840ms\tremaining: 1.87s\n",
      "310:\tlearn: 0.7081883\ttotal: 843ms\tremaining: 1.87s\n",
      "311:\tlearn: 0.7079944\ttotal: 846ms\tremaining: 1.86s\n",
      "312:\tlearn: 0.7077051\ttotal: 851ms\tremaining: 1.87s\n",
      "313:\tlearn: 0.7073846\ttotal: 854ms\tremaining: 1.86s\n",
      "314:\tlearn: 0.7072017\ttotal: 856ms\tremaining: 1.86s\n",
      "315:\tlearn: 0.7070631\ttotal: 859ms\tremaining: 1.86s\n",
      "316:\tlearn: 0.7068445\ttotal: 862ms\tremaining: 1.86s\n",
      "317:\tlearn: 0.7067042\ttotal: 864ms\tremaining: 1.85s\n",
      "318:\tlearn: 0.7065602\ttotal: 867ms\tremaining: 1.85s\n",
      "319:\tlearn: 0.7063768\ttotal: 870ms\tremaining: 1.85s\n",
      "320:\tlearn: 0.7061349\ttotal: 873ms\tremaining: 1.85s\n",
      "321:\tlearn: 0.7059067\ttotal: 875ms\tremaining: 1.84s\n",
      "322:\tlearn: 0.7056913\ttotal: 878ms\tremaining: 1.84s\n",
      "323:\tlearn: 0.7054599\ttotal: 881ms\tremaining: 1.84s\n",
      "324:\tlearn: 0.7051980\ttotal: 884ms\tremaining: 1.83s\n",
      "325:\tlearn: 0.7050193\ttotal: 890ms\tremaining: 1.84s\n",
      "326:\tlearn: 0.7048225\ttotal: 896ms\tremaining: 1.84s\n",
      "327:\tlearn: 0.7045363\ttotal: 899ms\tremaining: 1.84s\n",
      "328:\tlearn: 0.7043416\ttotal: 903ms\tremaining: 1.84s\n",
      "329:\tlearn: 0.7040807\ttotal: 906ms\tremaining: 1.84s\n",
      "330:\tlearn: 0.7039292\ttotal: 909ms\tremaining: 1.84s\n",
      "331:\tlearn: 0.7037371\ttotal: 911ms\tremaining: 1.83s\n",
      "332:\tlearn: 0.7035072\ttotal: 915ms\tremaining: 1.83s\n",
      "333:\tlearn: 0.7033160\ttotal: 918ms\tremaining: 1.83s\n",
      "334:\tlearn: 0.7031435\ttotal: 921ms\tremaining: 1.83s\n",
      "335:\tlearn: 0.7028302\ttotal: 926ms\tremaining: 1.83s\n",
      "336:\tlearn: 0.7026394\ttotal: 929ms\tremaining: 1.83s\n",
      "337:\tlearn: 0.7024266\ttotal: 932ms\tremaining: 1.82s\n",
      "338:\tlearn: 0.7022713\ttotal: 935ms\tremaining: 1.82s\n",
      "339:\tlearn: 0.7020248\ttotal: 937ms\tremaining: 1.82s\n",
      "340:\tlearn: 0.7017965\ttotal: 940ms\tremaining: 1.82s\n",
      "341:\tlearn: 0.7015477\ttotal: 943ms\tremaining: 1.81s\n",
      "342:\tlearn: 0.7013181\ttotal: 945ms\tremaining: 1.81s\n",
      "343:\tlearn: 0.7010727\ttotal: 948ms\tremaining: 1.81s\n",
      "344:\tlearn: 0.7009056\ttotal: 951ms\tremaining: 1.8s\n",
      "345:\tlearn: 0.7007096\ttotal: 953ms\tremaining: 1.8s\n",
      "346:\tlearn: 0.7004815\ttotal: 959ms\tremaining: 1.8s\n",
      "347:\tlearn: 0.7002008\ttotal: 962ms\tremaining: 1.8s\n",
      "348:\tlearn: 0.7000404\ttotal: 964ms\tremaining: 1.8s\n",
      "349:\tlearn: 0.6997730\ttotal: 967ms\tremaining: 1.8s\n",
      "350:\tlearn: 0.6994947\ttotal: 970ms\tremaining: 1.79s\n",
      "351:\tlearn: 0.6993281\ttotal: 972ms\tremaining: 1.79s\n",
      "352:\tlearn: 0.6990238\ttotal: 975ms\tremaining: 1.79s\n",
      "353:\tlearn: 0.6989143\ttotal: 978ms\tremaining: 1.78s\n",
      "354:\tlearn: 0.6986617\ttotal: 980ms\tremaining: 1.78s\n",
      "355:\tlearn: 0.6984298\ttotal: 983ms\tremaining: 1.78s\n",
      "356:\tlearn: 0.6981524\ttotal: 985ms\tremaining: 1.77s\n"
     ]
    },
    {
     "name": "stdout",
     "output_type": "stream",
     "text": [
      "357:\tlearn: 0.6979996\ttotal: 990ms\tremaining: 1.77s\n",
      "358:\tlearn: 0.6978028\ttotal: 992ms\tremaining: 1.77s\n",
      "359:\tlearn: 0.6975853\ttotal: 995ms\tremaining: 1.77s\n",
      "360:\tlearn: 0.6973824\ttotal: 998ms\tremaining: 1.76s\n",
      "361:\tlearn: 0.6972772\ttotal: 1s\tremaining: 1.76s\n",
      "362:\tlearn: 0.6971395\ttotal: 1s\tremaining: 1.76s\n",
      "363:\tlearn: 0.6968791\ttotal: 1s\tremaining: 1.76s\n",
      "364:\tlearn: 0.6967020\ttotal: 1.01s\tremaining: 1.75s\n",
      "365:\tlearn: 0.6965108\ttotal: 1.01s\tremaining: 1.75s\n",
      "366:\tlearn: 0.6963068\ttotal: 1.01s\tremaining: 1.75s\n",
      "367:\tlearn: 0.6960473\ttotal: 1.02s\tremaining: 1.75s\n",
      "368:\tlearn: 0.6959547\ttotal: 1.02s\tremaining: 1.75s\n",
      "369:\tlearn: 0.6957430\ttotal: 1.03s\tremaining: 1.75s\n",
      "370:\tlearn: 0.6955333\ttotal: 1.03s\tremaining: 1.75s\n",
      "371:\tlearn: 0.6953739\ttotal: 1.03s\tremaining: 1.74s\n",
      "372:\tlearn: 0.6951529\ttotal: 1.03s\tremaining: 1.74s\n",
      "373:\tlearn: 0.6949300\ttotal: 1.04s\tremaining: 1.74s\n",
      "374:\tlearn: 0.6946706\ttotal: 1.04s\tremaining: 1.73s\n",
      "375:\tlearn: 0.6943869\ttotal: 1.04s\tremaining: 1.73s\n",
      "376:\tlearn: 0.6942238\ttotal: 1.04s\tremaining: 1.73s\n",
      "377:\tlearn: 0.6939889\ttotal: 1.05s\tremaining: 1.72s\n",
      "378:\tlearn: 0.6937005\ttotal: 1.05s\tremaining: 1.72s\n",
      "379:\tlearn: 0.6934688\ttotal: 1.05s\tremaining: 1.72s\n",
      "380:\tlearn: 0.6932958\ttotal: 1.05s\tremaining: 1.71s\n",
      "381:\tlearn: 0.6931132\ttotal: 1.06s\tremaining: 1.71s\n",
      "382:\tlearn: 0.6929654\ttotal: 1.06s\tremaining: 1.71s\n",
      "383:\tlearn: 0.6927972\ttotal: 1.06s\tremaining: 1.7s\n",
      "384:\tlearn: 0.6925372\ttotal: 1.06s\tremaining: 1.7s\n",
      "385:\tlearn: 0.6924045\ttotal: 1.06s\tremaining: 1.69s\n",
      "386:\tlearn: 0.6922292\ttotal: 1.07s\tremaining: 1.69s\n",
      "387:\tlearn: 0.6920728\ttotal: 1.07s\tremaining: 1.69s\n",
      "388:\tlearn: 0.6918722\ttotal: 1.07s\tremaining: 1.68s\n",
      "389:\tlearn: 0.6915889\ttotal: 1.07s\tremaining: 1.68s\n",
      "390:\tlearn: 0.6914319\ttotal: 1.08s\tremaining: 1.68s\n",
      "391:\tlearn: 0.6912414\ttotal: 1.08s\tremaining: 1.68s\n",
      "392:\tlearn: 0.6910489\ttotal: 1.08s\tremaining: 1.67s\n",
      "393:\tlearn: 0.6906746\ttotal: 1.09s\tremaining: 1.67s\n",
      "394:\tlearn: 0.6904568\ttotal: 1.09s\tremaining: 1.67s\n",
      "395:\tlearn: 0.6903102\ttotal: 1.09s\tremaining: 1.67s\n",
      "396:\tlearn: 0.6901640\ttotal: 1.09s\tremaining: 1.66s\n",
      "397:\tlearn: 0.6900238\ttotal: 1.1s\tremaining: 1.66s\n",
      "398:\tlearn: 0.6899025\ttotal: 1.1s\tremaining: 1.66s\n",
      "399:\tlearn: 0.6897833\ttotal: 1.1s\tremaining: 1.65s\n",
      "400:\tlearn: 0.6895648\ttotal: 1.11s\tremaining: 1.66s\n",
      "401:\tlearn: 0.6893836\ttotal: 1.11s\tremaining: 1.65s\n",
      "402:\tlearn: 0.6892261\ttotal: 1.11s\tremaining: 1.65s\n",
      "403:\tlearn: 0.6891048\ttotal: 1.12s\tremaining: 1.65s\n",
      "404:\tlearn: 0.6889466\ttotal: 1.12s\tremaining: 1.65s\n",
      "405:\tlearn: 0.6888389\ttotal: 1.12s\tremaining: 1.64s\n",
      "406:\tlearn: 0.6887034\ttotal: 1.13s\tremaining: 1.64s\n",
      "407:\tlearn: 0.6884872\ttotal: 1.13s\tremaining: 1.64s\n",
      "408:\tlearn: 0.6882021\ttotal: 1.13s\tremaining: 1.64s\n",
      "409:\tlearn: 0.6879734\ttotal: 1.14s\tremaining: 1.64s\n",
      "410:\tlearn: 0.6878461\ttotal: 1.14s\tremaining: 1.63s\n",
      "411:\tlearn: 0.6876204\ttotal: 1.14s\tremaining: 1.63s\n",
      "412:\tlearn: 0.6875340\ttotal: 1.15s\tremaining: 1.63s\n",
      "413:\tlearn: 0.6873090\ttotal: 1.15s\tremaining: 1.63s\n",
      "414:\tlearn: 0.6871432\ttotal: 1.16s\tremaining: 1.63s\n",
      "415:\tlearn: 0.6868957\ttotal: 1.16s\tremaining: 1.63s\n",
      "416:\tlearn: 0.6867647\ttotal: 1.16s\tremaining: 1.63s\n",
      "417:\tlearn: 0.6865950\ttotal: 1.17s\tremaining: 1.62s\n",
      "418:\tlearn: 0.6864355\ttotal: 1.17s\tremaining: 1.62s\n",
      "419:\tlearn: 0.6861923\ttotal: 1.17s\tremaining: 1.62s\n",
      "420:\tlearn: 0.6859991\ttotal: 1.17s\tremaining: 1.61s\n",
      "421:\tlearn: 0.6858107\ttotal: 1.18s\tremaining: 1.61s\n",
      "422:\tlearn: 0.6855940\ttotal: 1.18s\tremaining: 1.61s\n",
      "423:\tlearn: 0.6854368\ttotal: 1.18s\tremaining: 1.61s\n",
      "424:\tlearn: 0.6850973\ttotal: 1.19s\tremaining: 1.6s\n",
      "425:\tlearn: 0.6848758\ttotal: 1.19s\tremaining: 1.6s\n",
      "426:\tlearn: 0.6846933\ttotal: 1.19s\tremaining: 1.6s\n",
      "427:\tlearn: 0.6845231\ttotal: 1.19s\tremaining: 1.59s\n",
      "428:\tlearn: 0.6843577\ttotal: 1.2s\tremaining: 1.59s\n",
      "429:\tlearn: 0.6841941\ttotal: 1.2s\tremaining: 1.59s\n",
      "430:\tlearn: 0.6838805\ttotal: 1.2s\tremaining: 1.58s\n",
      "431:\tlearn: 0.6836830\ttotal: 1.2s\tremaining: 1.58s\n",
      "432:\tlearn: 0.6834816\ttotal: 1.21s\tremaining: 1.58s\n",
      "433:\tlearn: 0.6832607\ttotal: 1.21s\tremaining: 1.58s\n",
      "434:\tlearn: 0.6831888\ttotal: 1.21s\tremaining: 1.58s\n",
      "435:\tlearn: 0.6828941\ttotal: 1.22s\tremaining: 1.57s\n",
      "436:\tlearn: 0.6827216\ttotal: 1.22s\tremaining: 1.57s\n",
      "437:\tlearn: 0.6825204\ttotal: 1.22s\tremaining: 1.57s\n",
      "438:\tlearn: 0.6823363\ttotal: 1.23s\tremaining: 1.57s\n",
      "439:\tlearn: 0.6821355\ttotal: 1.23s\tremaining: 1.56s\n",
      "440:\tlearn: 0.6819285\ttotal: 1.23s\tremaining: 1.56s\n",
      "441:\tlearn: 0.6817585\ttotal: 1.24s\tremaining: 1.56s\n",
      "442:\tlearn: 0.6815710\ttotal: 1.24s\tremaining: 1.56s\n",
      "443:\tlearn: 0.6814639\ttotal: 1.24s\tremaining: 1.56s\n",
      "444:\tlearn: 0.6812962\ttotal: 1.25s\tremaining: 1.55s\n",
      "445:\tlearn: 0.6810260\ttotal: 1.25s\tremaining: 1.55s\n",
      "446:\tlearn: 0.6808731\ttotal: 1.25s\tremaining: 1.55s\n",
      "447:\tlearn: 0.6806712\ttotal: 1.25s\tremaining: 1.55s\n",
      "448:\tlearn: 0.6805596\ttotal: 1.26s\tremaining: 1.54s\n",
      "449:\tlearn: 0.6804422\ttotal: 1.26s\tremaining: 1.54s\n",
      "450:\tlearn: 0.6803102\ttotal: 1.27s\tremaining: 1.54s\n",
      "451:\tlearn: 0.6800887\ttotal: 1.27s\tremaining: 1.54s\n",
      "452:\tlearn: 0.6799470\ttotal: 1.28s\tremaining: 1.54s\n",
      "453:\tlearn: 0.6798077\ttotal: 1.28s\tremaining: 1.54s\n",
      "454:\tlearn: 0.6796970\ttotal: 1.28s\tremaining: 1.54s\n",
      "455:\tlearn: 0.6793705\ttotal: 1.29s\tremaining: 1.53s\n",
      "456:\tlearn: 0.6791800\ttotal: 1.29s\tremaining: 1.53s\n",
      "457:\tlearn: 0.6789134\ttotal: 1.29s\tremaining: 1.53s\n",
      "458:\tlearn: 0.6787736\ttotal: 1.3s\tremaining: 1.53s\n",
      "459:\tlearn: 0.6786328\ttotal: 1.3s\tremaining: 1.52s\n",
      "460:\tlearn: 0.6784679\ttotal: 1.3s\tremaining: 1.53s\n",
      "461:\tlearn: 0.6782737\ttotal: 1.31s\tremaining: 1.52s\n",
      "462:\tlearn: 0.6780423\ttotal: 1.31s\tremaining: 1.52s\n",
      "463:\tlearn: 0.6778300\ttotal: 1.31s\tremaining: 1.52s\n",
      "464:\tlearn: 0.6775961\ttotal: 1.32s\tremaining: 1.52s\n",
      "465:\tlearn: 0.6774407\ttotal: 1.32s\tremaining: 1.52s\n",
      "466:\tlearn: 0.6772725\ttotal: 1.33s\tremaining: 1.51s\n",
      "467:\tlearn: 0.6770909\ttotal: 1.33s\tremaining: 1.51s\n",
      "468:\tlearn: 0.6769914\ttotal: 1.33s\tremaining: 1.51s\n",
      "469:\tlearn: 0.6767767\ttotal: 1.33s\tremaining: 1.5s\n",
      "470:\tlearn: 0.6765927\ttotal: 1.34s\tremaining: 1.5s\n",
      "471:\tlearn: 0.6763794\ttotal: 1.34s\tremaining: 1.5s\n",
      "472:\tlearn: 0.6761682\ttotal: 1.34s\tremaining: 1.5s\n",
      "473:\tlearn: 0.6760932\ttotal: 1.34s\tremaining: 1.49s\n",
      "474:\tlearn: 0.6759026\ttotal: 1.35s\tremaining: 1.49s\n",
      "475:\tlearn: 0.6757281\ttotal: 1.35s\tremaining: 1.49s\n",
      "476:\tlearn: 0.6755768\ttotal: 1.35s\tremaining: 1.48s\n",
      "477:\tlearn: 0.6753989\ttotal: 1.35s\tremaining: 1.48s\n",
      "478:\tlearn: 0.6752023\ttotal: 1.36s\tremaining: 1.48s\n",
      "479:\tlearn: 0.6750380\ttotal: 1.36s\tremaining: 1.48s\n",
      "480:\tlearn: 0.6748588\ttotal: 1.37s\tremaining: 1.47s\n",
      "481:\tlearn: 0.6746996\ttotal: 1.37s\tremaining: 1.47s\n",
      "482:\tlearn: 0.6744959\ttotal: 1.37s\tremaining: 1.47s\n",
      "483:\tlearn: 0.6742498\ttotal: 1.38s\tremaining: 1.47s\n",
      "484:\tlearn: 0.6739675\ttotal: 1.38s\tremaining: 1.47s\n",
      "485:\tlearn: 0.6738327\ttotal: 1.38s\tremaining: 1.46s\n",
      "486:\tlearn: 0.6736599\ttotal: 1.39s\tremaining: 1.46s\n",
      "487:\tlearn: 0.6735005\ttotal: 1.39s\tremaining: 1.46s\n",
      "488:\tlearn: 0.6732742\ttotal: 1.39s\tremaining: 1.46s\n",
      "489:\tlearn: 0.6731364\ttotal: 1.4s\tremaining: 1.46s\n",
      "490:\tlearn: 0.6728529\ttotal: 1.4s\tremaining: 1.46s\n",
      "491:\tlearn: 0.6727639\ttotal: 1.41s\tremaining: 1.45s\n",
      "492:\tlearn: 0.6725673\ttotal: 1.41s\tremaining: 1.45s\n",
      "493:\tlearn: 0.6724566\ttotal: 1.41s\tremaining: 1.45s\n",
      "494:\tlearn: 0.6723161\ttotal: 1.42s\tremaining: 1.44s\n",
      "495:\tlearn: 0.6721082\ttotal: 1.42s\tremaining: 1.44s\n",
      "496:\tlearn: 0.6718332\ttotal: 1.42s\tremaining: 1.44s\n",
      "497:\tlearn: 0.6717292\ttotal: 1.42s\tremaining: 1.43s\n",
      "498:\tlearn: 0.6715432\ttotal: 1.42s\tremaining: 1.43s\n",
      "499:\tlearn: 0.6712739\ttotal: 1.43s\tremaining: 1.43s\n",
      "500:\tlearn: 0.6711180\ttotal: 1.43s\tremaining: 1.42s\n",
      "501:\tlearn: 0.6708761\ttotal: 1.43s\tremaining: 1.42s\n",
      "502:\tlearn: 0.6706572\ttotal: 1.43s\tremaining: 1.42s\n",
      "503:\tlearn: 0.6704831\ttotal: 1.44s\tremaining: 1.41s\n",
      "504:\tlearn: 0.6703138\ttotal: 1.44s\tremaining: 1.41s\n",
      "505:\tlearn: 0.6701813\ttotal: 1.44s\tremaining: 1.41s\n",
      "506:\tlearn: 0.6700557\ttotal: 1.44s\tremaining: 1.4s\n",
      "507:\tlearn: 0.6699605\ttotal: 1.45s\tremaining: 1.4s\n",
      "508:\tlearn: 0.6698011\ttotal: 1.45s\tremaining: 1.4s\n",
      "509:\tlearn: 0.6696842\ttotal: 1.45s\tremaining: 1.39s\n",
      "510:\tlearn: 0.6694940\ttotal: 1.45s\tremaining: 1.39s\n",
      "511:\tlearn: 0.6694052\ttotal: 1.45s\tremaining: 1.39s\n",
      "512:\tlearn: 0.6692377\ttotal: 1.46s\tremaining: 1.38s\n",
      "513:\tlearn: 0.6690568\ttotal: 1.46s\tremaining: 1.38s\n",
      "514:\tlearn: 0.6689365\ttotal: 1.46s\tremaining: 1.38s\n",
      "515:\tlearn: 0.6686942\ttotal: 1.46s\tremaining: 1.37s\n",
      "516:\tlearn: 0.6684955\ttotal: 1.47s\tremaining: 1.37s\n",
      "517:\tlearn: 0.6683465\ttotal: 1.47s\tremaining: 1.37s\n",
      "518:\tlearn: 0.6681701\ttotal: 1.47s\tremaining: 1.36s\n"
     ]
    },
    {
     "name": "stdout",
     "output_type": "stream",
     "text": [
      "519:\tlearn: 0.6680344\ttotal: 1.47s\tremaining: 1.36s\n",
      "520:\tlearn: 0.6678325\ttotal: 1.48s\tremaining: 1.36s\n",
      "521:\tlearn: 0.6676429\ttotal: 1.48s\tremaining: 1.35s\n",
      "522:\tlearn: 0.6674863\ttotal: 1.48s\tremaining: 1.35s\n",
      "523:\tlearn: 0.6672772\ttotal: 1.48s\tremaining: 1.35s\n",
      "524:\tlearn: 0.6670980\ttotal: 1.49s\tremaining: 1.34s\n",
      "525:\tlearn: 0.6669537\ttotal: 1.49s\tremaining: 1.34s\n",
      "526:\tlearn: 0.6667865\ttotal: 1.49s\tremaining: 1.34s\n",
      "527:\tlearn: 0.6666463\ttotal: 1.49s\tremaining: 1.33s\n",
      "528:\tlearn: 0.6665458\ttotal: 1.5s\tremaining: 1.33s\n",
      "529:\tlearn: 0.6664056\ttotal: 1.5s\tremaining: 1.33s\n",
      "530:\tlearn: 0.6662145\ttotal: 1.5s\tremaining: 1.33s\n",
      "531:\tlearn: 0.6660257\ttotal: 1.51s\tremaining: 1.32s\n",
      "532:\tlearn: 0.6658820\ttotal: 1.51s\tremaining: 1.32s\n",
      "533:\tlearn: 0.6656662\ttotal: 1.51s\tremaining: 1.32s\n",
      "534:\tlearn: 0.6654615\ttotal: 1.51s\tremaining: 1.31s\n",
      "535:\tlearn: 0.6652860\ttotal: 1.51s\tremaining: 1.31s\n",
      "536:\tlearn: 0.6651305\ttotal: 1.52s\tremaining: 1.31s\n",
      "537:\tlearn: 0.6649729\ttotal: 1.52s\tremaining: 1.31s\n",
      "538:\tlearn: 0.6648457\ttotal: 1.53s\tremaining: 1.3s\n",
      "539:\tlearn: 0.6647431\ttotal: 1.53s\tremaining: 1.3s\n",
      "540:\tlearn: 0.6645950\ttotal: 1.53s\tremaining: 1.3s\n",
      "541:\tlearn: 0.6644447\ttotal: 1.53s\tremaining: 1.3s\n",
      "542:\tlearn: 0.6643157\ttotal: 1.54s\tremaining: 1.29s\n",
      "543:\tlearn: 0.6641901\ttotal: 1.54s\tremaining: 1.29s\n",
      "544:\tlearn: 0.6639159\ttotal: 1.54s\tremaining: 1.29s\n",
      "545:\tlearn: 0.6637978\ttotal: 1.55s\tremaining: 1.29s\n",
      "546:\tlearn: 0.6635513\ttotal: 1.55s\tremaining: 1.28s\n",
      "547:\tlearn: 0.6633806\ttotal: 1.55s\tremaining: 1.28s\n",
      "548:\tlearn: 0.6632768\ttotal: 1.56s\tremaining: 1.28s\n",
      "549:\tlearn: 0.6631153\ttotal: 1.56s\tremaining: 1.28s\n",
      "550:\tlearn: 0.6629526\ttotal: 1.56s\tremaining: 1.27s\n",
      "551:\tlearn: 0.6628079\ttotal: 1.57s\tremaining: 1.27s\n",
      "552:\tlearn: 0.6627292\ttotal: 1.57s\tremaining: 1.27s\n",
      "553:\tlearn: 0.6625713\ttotal: 1.57s\tremaining: 1.27s\n",
      "554:\tlearn: 0.6624710\ttotal: 1.58s\tremaining: 1.26s\n",
      "555:\tlearn: 0.6622367\ttotal: 1.58s\tremaining: 1.26s\n",
      "556:\tlearn: 0.6621000\ttotal: 1.58s\tremaining: 1.26s\n",
      "557:\tlearn: 0.6619341\ttotal: 1.59s\tremaining: 1.26s\n",
      "558:\tlearn: 0.6617924\ttotal: 1.59s\tremaining: 1.25s\n",
      "559:\tlearn: 0.6616900\ttotal: 1.59s\tremaining: 1.25s\n",
      "560:\tlearn: 0.6613721\ttotal: 1.6s\tremaining: 1.25s\n",
      "561:\tlearn: 0.6612392\ttotal: 1.6s\tremaining: 1.25s\n",
      "562:\tlearn: 0.6610828\ttotal: 1.6s\tremaining: 1.24s\n",
      "563:\tlearn: 0.6608918\ttotal: 1.61s\tremaining: 1.24s\n",
      "564:\tlearn: 0.6607583\ttotal: 1.61s\tremaining: 1.24s\n",
      "565:\tlearn: 0.6605835\ttotal: 1.61s\tremaining: 1.24s\n",
      "566:\tlearn: 0.6603673\ttotal: 1.61s\tremaining: 1.23s\n",
      "567:\tlearn: 0.6600278\ttotal: 1.62s\tremaining: 1.23s\n",
      "568:\tlearn: 0.6598529\ttotal: 1.62s\tremaining: 1.23s\n",
      "569:\tlearn: 0.6596703\ttotal: 1.63s\tremaining: 1.23s\n",
      "570:\tlearn: 0.6595182\ttotal: 1.63s\tremaining: 1.22s\n",
      "571:\tlearn: 0.6593698\ttotal: 1.63s\tremaining: 1.22s\n",
      "572:\tlearn: 0.6592262\ttotal: 1.63s\tremaining: 1.22s\n",
      "573:\tlearn: 0.6590989\ttotal: 1.64s\tremaining: 1.22s\n",
      "574:\tlearn: 0.6589739\ttotal: 1.64s\tremaining: 1.21s\n",
      "575:\tlearn: 0.6588670\ttotal: 1.65s\tremaining: 1.21s\n",
      "576:\tlearn: 0.6587540\ttotal: 1.65s\tremaining: 1.21s\n",
      "577:\tlearn: 0.6586005\ttotal: 1.65s\tremaining: 1.21s\n",
      "578:\tlearn: 0.6584561\ttotal: 1.65s\tremaining: 1.2s\n",
      "579:\tlearn: 0.6583485\ttotal: 1.66s\tremaining: 1.2s\n",
      "580:\tlearn: 0.6582447\ttotal: 1.66s\tremaining: 1.2s\n",
      "581:\tlearn: 0.6580550\ttotal: 1.66s\tremaining: 1.19s\n",
      "582:\tlearn: 0.6578949\ttotal: 1.67s\tremaining: 1.19s\n",
      "583:\tlearn: 0.6577781\ttotal: 1.67s\tremaining: 1.19s\n",
      "584:\tlearn: 0.6575560\ttotal: 1.67s\tremaining: 1.19s\n",
      "585:\tlearn: 0.6573485\ttotal: 1.67s\tremaining: 1.18s\n",
      "586:\tlearn: 0.6572632\ttotal: 1.68s\tremaining: 1.18s\n",
      "587:\tlearn: 0.6571662\ttotal: 1.68s\tremaining: 1.18s\n",
      "588:\tlearn: 0.6570414\ttotal: 1.68s\tremaining: 1.17s\n",
      "589:\tlearn: 0.6568285\ttotal: 1.68s\tremaining: 1.17s\n",
      "590:\tlearn: 0.6567451\ttotal: 1.69s\tremaining: 1.17s\n",
      "591:\tlearn: 0.6565297\ttotal: 1.69s\tremaining: 1.16s\n",
      "592:\tlearn: 0.6564653\ttotal: 1.69s\tremaining: 1.16s\n",
      "593:\tlearn: 0.6562993\ttotal: 1.7s\tremaining: 1.16s\n",
      "594:\tlearn: 0.6561802\ttotal: 1.7s\tremaining: 1.16s\n",
      "595:\tlearn: 0.6560189\ttotal: 1.7s\tremaining: 1.15s\n",
      "596:\tlearn: 0.6558131\ttotal: 1.71s\tremaining: 1.15s\n",
      "597:\tlearn: 0.6557334\ttotal: 1.71s\tremaining: 1.15s\n",
      "598:\tlearn: 0.6554742\ttotal: 1.71s\tremaining: 1.15s\n",
      "599:\tlearn: 0.6552804\ttotal: 1.72s\tremaining: 1.15s\n",
      "600:\tlearn: 0.6551292\ttotal: 1.72s\tremaining: 1.14s\n",
      "601:\tlearn: 0.6550295\ttotal: 1.73s\tremaining: 1.14s\n",
      "602:\tlearn: 0.6548588\ttotal: 1.73s\tremaining: 1.14s\n",
      "603:\tlearn: 0.6546888\ttotal: 1.73s\tremaining: 1.14s\n",
      "604:\tlearn: 0.6544551\ttotal: 1.74s\tremaining: 1.13s\n",
      "605:\tlearn: 0.6543325\ttotal: 1.74s\tremaining: 1.13s\n",
      "606:\tlearn: 0.6542167\ttotal: 1.74s\tremaining: 1.13s\n",
      "607:\tlearn: 0.6541193\ttotal: 1.74s\tremaining: 1.12s\n",
      "608:\tlearn: 0.6540002\ttotal: 1.75s\tremaining: 1.12s\n",
      "609:\tlearn: 0.6538763\ttotal: 1.75s\tremaining: 1.12s\n",
      "610:\tlearn: 0.6537199\ttotal: 1.75s\tremaining: 1.12s\n",
      "611:\tlearn: 0.6535600\ttotal: 1.76s\tremaining: 1.11s\n",
      "612:\tlearn: 0.6533856\ttotal: 1.76s\tremaining: 1.11s\n",
      "613:\tlearn: 0.6531611\ttotal: 1.76s\tremaining: 1.11s\n",
      "614:\tlearn: 0.6529563\ttotal: 1.77s\tremaining: 1.11s\n",
      "615:\tlearn: 0.6528709\ttotal: 1.77s\tremaining: 1.1s\n",
      "616:\tlearn: 0.6527612\ttotal: 1.77s\tremaining: 1.1s\n",
      "617:\tlearn: 0.6526088\ttotal: 1.77s\tremaining: 1.1s\n",
      "618:\tlearn: 0.6524418\ttotal: 1.78s\tremaining: 1.09s\n",
      "619:\tlearn: 0.6522863\ttotal: 1.78s\tremaining: 1.09s\n",
      "620:\tlearn: 0.6522073\ttotal: 1.78s\tremaining: 1.09s\n",
      "621:\tlearn: 0.6520834\ttotal: 1.78s\tremaining: 1.08s\n",
      "622:\tlearn: 0.6519287\ttotal: 1.79s\tremaining: 1.08s\n",
      "623:\tlearn: 0.6517863\ttotal: 1.79s\tremaining: 1.08s\n",
      "624:\tlearn: 0.6516510\ttotal: 1.79s\tremaining: 1.07s\n",
      "625:\tlearn: 0.6514652\ttotal: 1.79s\tremaining: 1.07s\n",
      "626:\tlearn: 0.6511784\ttotal: 1.8s\tremaining: 1.07s\n",
      "627:\tlearn: 0.6510613\ttotal: 1.8s\tremaining: 1.06s\n",
      "628:\tlearn: 0.6509295\ttotal: 1.8s\tremaining: 1.06s\n",
      "629:\tlearn: 0.6507502\ttotal: 1.8s\tremaining: 1.06s\n",
      "630:\tlearn: 0.6506449\ttotal: 1.81s\tremaining: 1.06s\n",
      "631:\tlearn: 0.6505272\ttotal: 1.81s\tremaining: 1.05s\n",
      "632:\tlearn: 0.6504271\ttotal: 1.81s\tremaining: 1.05s\n",
      "633:\tlearn: 0.6502850\ttotal: 1.81s\tremaining: 1.05s\n",
      "634:\tlearn: 0.6501897\ttotal: 1.82s\tremaining: 1.04s\n",
      "635:\tlearn: 0.6500242\ttotal: 1.82s\tremaining: 1.04s\n",
      "636:\tlearn: 0.6499172\ttotal: 1.82s\tremaining: 1.04s\n",
      "637:\tlearn: 0.6497611\ttotal: 1.82s\tremaining: 1.03s\n",
      "638:\tlearn: 0.6495460\ttotal: 1.83s\tremaining: 1.03s\n",
      "639:\tlearn: 0.6493707\ttotal: 1.83s\tremaining: 1.03s\n",
      "640:\tlearn: 0.6492266\ttotal: 1.83s\tremaining: 1.03s\n",
      "641:\tlearn: 0.6490909\ttotal: 1.83s\tremaining: 1.02s\n",
      "642:\tlearn: 0.6489354\ttotal: 1.84s\tremaining: 1.02s\n",
      "643:\tlearn: 0.6487584\ttotal: 1.84s\tremaining: 1.02s\n",
      "644:\tlearn: 0.6486438\ttotal: 1.84s\tremaining: 1.01s\n",
      "645:\tlearn: 0.6485205\ttotal: 1.85s\tremaining: 1.01s\n",
      "646:\tlearn: 0.6484036\ttotal: 1.85s\tremaining: 1.01s\n",
      "647:\tlearn: 0.6483291\ttotal: 1.85s\tremaining: 1.01s\n",
      "648:\tlearn: 0.6482021\ttotal: 1.85s\tremaining: 1s\n",
      "649:\tlearn: 0.6480401\ttotal: 1.86s\tremaining: 1000ms\n",
      "650:\tlearn: 0.6479425\ttotal: 1.86s\tremaining: 997ms\n",
      "651:\tlearn: 0.6478347\ttotal: 1.86s\tremaining: 993ms\n",
      "652:\tlearn: 0.6477735\ttotal: 1.86s\tremaining: 990ms\n",
      "653:\tlearn: 0.6475703\ttotal: 1.87s\tremaining: 987ms\n",
      "654:\tlearn: 0.6475000\ttotal: 1.87s\tremaining: 984ms\n",
      "655:\tlearn: 0.6473460\ttotal: 1.87s\tremaining: 981ms\n",
      "656:\tlearn: 0.6471768\ttotal: 1.87s\tremaining: 978ms\n",
      "657:\tlearn: 0.6470613\ttotal: 1.88s\tremaining: 975ms\n",
      "658:\tlearn: 0.6469311\ttotal: 1.88s\tremaining: 972ms\n",
      "659:\tlearn: 0.6468422\ttotal: 1.88s\tremaining: 969ms\n",
      "660:\tlearn: 0.6466365\ttotal: 1.88s\tremaining: 966ms\n",
      "661:\tlearn: 0.6464114\ttotal: 1.89s\tremaining: 963ms\n",
      "662:\tlearn: 0.6462374\ttotal: 1.89s\tremaining: 960ms\n",
      "663:\tlearn: 0.6460823\ttotal: 1.89s\tremaining: 956ms\n",
      "664:\tlearn: 0.6459293\ttotal: 1.89s\tremaining: 953ms\n",
      "665:\tlearn: 0.6457167\ttotal: 1.9s\tremaining: 950ms\n",
      "666:\tlearn: 0.6454853\ttotal: 1.9s\tremaining: 947ms\n",
      "667:\tlearn: 0.6453662\ttotal: 1.9s\tremaining: 944ms\n",
      "668:\tlearn: 0.6452323\ttotal: 1.9s\tremaining: 941ms\n",
      "669:\tlearn: 0.6450705\ttotal: 1.9s\tremaining: 938ms\n",
      "670:\tlearn: 0.6448898\ttotal: 1.91s\tremaining: 935ms\n",
      "671:\tlearn: 0.6448076\ttotal: 1.91s\tremaining: 932ms\n",
      "672:\tlearn: 0.6445893\ttotal: 1.91s\tremaining: 929ms\n",
      "673:\tlearn: 0.6444832\ttotal: 1.91s\tremaining: 926ms\n",
      "674:\tlearn: 0.6443206\ttotal: 1.92s\tremaining: 923ms\n",
      "675:\tlearn: 0.6441869\ttotal: 1.92s\tremaining: 920ms\n",
      "676:\tlearn: 0.6439953\ttotal: 1.92s\tremaining: 917ms\n",
      "677:\tlearn: 0.6437788\ttotal: 1.92s\tremaining: 914ms\n",
      "678:\tlearn: 0.6435278\ttotal: 1.93s\tremaining: 911ms\n",
      "679:\tlearn: 0.6433724\ttotal: 1.93s\tremaining: 908ms\n",
      "680:\tlearn: 0.6432824\ttotal: 1.93s\tremaining: 905ms\n",
      "681:\tlearn: 0.6431728\ttotal: 1.93s\tremaining: 902ms\n",
      "682:\tlearn: 0.6430451\ttotal: 1.94s\tremaining: 899ms\n",
      "683:\tlearn: 0.6429393\ttotal: 1.94s\tremaining: 896ms\n",
      "684:\tlearn: 0.6427103\ttotal: 1.94s\tremaining: 893ms\n",
      "685:\tlearn: 0.6425506\ttotal: 1.94s\tremaining: 890ms\n",
      "686:\tlearn: 0.6424794\ttotal: 1.95s\tremaining: 887ms\n",
      "687:\tlearn: 0.6422159\ttotal: 1.95s\tremaining: 884ms\n",
      "688:\tlearn: 0.6421246\ttotal: 1.95s\tremaining: 882ms\n",
      "689:\tlearn: 0.6419620\ttotal: 1.96s\tremaining: 879ms\n",
      "690:\tlearn: 0.6418825\ttotal: 1.96s\tremaining: 876ms\n"
     ]
    },
    {
     "name": "stdout",
     "output_type": "stream",
     "text": [
      "691:\tlearn: 0.6417174\ttotal: 1.96s\tremaining: 873ms\n",
      "692:\tlearn: 0.6415258\ttotal: 1.96s\tremaining: 870ms\n",
      "693:\tlearn: 0.6414519\ttotal: 1.97s\tremaining: 867ms\n",
      "694:\tlearn: 0.6412780\ttotal: 1.97s\tremaining: 865ms\n",
      "695:\tlearn: 0.6412159\ttotal: 1.97s\tremaining: 862ms\n",
      "696:\tlearn: 0.6410799\ttotal: 1.98s\tremaining: 859ms\n",
      "697:\tlearn: 0.6409583\ttotal: 1.98s\tremaining: 856ms\n",
      "698:\tlearn: 0.6407944\ttotal: 1.98s\tremaining: 854ms\n",
      "699:\tlearn: 0.6406696\ttotal: 1.98s\tremaining: 851ms\n",
      "700:\tlearn: 0.6404736\ttotal: 1.99s\tremaining: 848ms\n",
      "701:\tlearn: 0.6403501\ttotal: 1.99s\tremaining: 845ms\n",
      "702:\tlearn: 0.6401461\ttotal: 1.99s\tremaining: 842ms\n",
      "703:\tlearn: 0.6400661\ttotal: 2s\tremaining: 839ms\n",
      "704:\tlearn: 0.6399346\ttotal: 2s\tremaining: 836ms\n",
      "705:\tlearn: 0.6398070\ttotal: 2s\tremaining: 833ms\n",
      "706:\tlearn: 0.6397063\ttotal: 2s\tremaining: 830ms\n",
      "707:\tlearn: 0.6396408\ttotal: 2s\tremaining: 827ms\n",
      "708:\tlearn: 0.6395668\ttotal: 2.01s\tremaining: 824ms\n",
      "709:\tlearn: 0.6393975\ttotal: 2.01s\tremaining: 821ms\n",
      "710:\tlearn: 0.6392581\ttotal: 2.01s\tremaining: 818ms\n",
      "711:\tlearn: 0.6390925\ttotal: 2.02s\tremaining: 815ms\n",
      "712:\tlearn: 0.6389819\ttotal: 2.02s\tremaining: 812ms\n",
      "713:\tlearn: 0.6387907\ttotal: 2.02s\tremaining: 809ms\n",
      "714:\tlearn: 0.6385753\ttotal: 2.02s\tremaining: 806ms\n",
      "715:\tlearn: 0.6384660\ttotal: 2.02s\tremaining: 803ms\n",
      "716:\tlearn: 0.6382154\ttotal: 2.03s\tremaining: 800ms\n",
      "717:\tlearn: 0.6380236\ttotal: 2.03s\tremaining: 797ms\n",
      "718:\tlearn: 0.6379436\ttotal: 2.03s\tremaining: 794ms\n",
      "719:\tlearn: 0.6378481\ttotal: 2.03s\tremaining: 791ms\n",
      "720:\tlearn: 0.6377168\ttotal: 2.04s\tremaining: 788ms\n",
      "721:\tlearn: 0.6376431\ttotal: 2.04s\tremaining: 785ms\n",
      "722:\tlearn: 0.6374488\ttotal: 2.04s\tremaining: 782ms\n",
      "723:\tlearn: 0.6372846\ttotal: 2.04s\tremaining: 780ms\n",
      "724:\tlearn: 0.6371562\ttotal: 2.05s\tremaining: 776ms\n",
      "725:\tlearn: 0.6369443\ttotal: 2.05s\tremaining: 774ms\n",
      "726:\tlearn: 0.6368326\ttotal: 2.05s\tremaining: 770ms\n",
      "727:\tlearn: 0.6367200\ttotal: 2.05s\tremaining: 767ms\n",
      "728:\tlearn: 0.6366120\ttotal: 2.06s\tremaining: 765ms\n",
      "729:\tlearn: 0.6364043\ttotal: 2.06s\tremaining: 762ms\n",
      "730:\tlearn: 0.6363177\ttotal: 2.06s\tremaining: 759ms\n",
      "731:\tlearn: 0.6362306\ttotal: 2.06s\tremaining: 756ms\n",
      "732:\tlearn: 0.6361442\ttotal: 2.06s\tremaining: 753ms\n",
      "733:\tlearn: 0.6360256\ttotal: 2.07s\tremaining: 750ms\n",
      "734:\tlearn: 0.6359256\ttotal: 2.07s\tremaining: 747ms\n",
      "735:\tlearn: 0.6358113\ttotal: 2.07s\tremaining: 744ms\n",
      "736:\tlearn: 0.6356012\ttotal: 2.08s\tremaining: 741ms\n",
      "737:\tlearn: 0.6354203\ttotal: 2.08s\tremaining: 738ms\n",
      "738:\tlearn: 0.6352608\ttotal: 2.08s\tremaining: 735ms\n",
      "739:\tlearn: 0.6351148\ttotal: 2.08s\tremaining: 732ms\n",
      "740:\tlearn: 0.6348559\ttotal: 2.08s\tremaining: 729ms\n",
      "741:\tlearn: 0.6347265\ttotal: 2.09s\tremaining: 726ms\n",
      "742:\tlearn: 0.6346190\ttotal: 2.09s\tremaining: 723ms\n",
      "743:\tlearn: 0.6344164\ttotal: 2.09s\tremaining: 720ms\n",
      "744:\tlearn: 0.6342802\ttotal: 2.09s\tremaining: 717ms\n",
      "745:\tlearn: 0.6341638\ttotal: 2.1s\tremaining: 714ms\n",
      "746:\tlearn: 0.6340754\ttotal: 2.1s\tremaining: 711ms\n",
      "747:\tlearn: 0.6339615\ttotal: 2.1s\tremaining: 708ms\n",
      "748:\tlearn: 0.6338686\ttotal: 2.1s\tremaining: 705ms\n",
      "749:\tlearn: 0.6337585\ttotal: 2.11s\tremaining: 702ms\n",
      "750:\tlearn: 0.6335441\ttotal: 2.11s\tremaining: 699ms\n",
      "751:\tlearn: 0.6334427\ttotal: 2.11s\tremaining: 696ms\n",
      "752:\tlearn: 0.6333491\ttotal: 2.11s\tremaining: 693ms\n",
      "753:\tlearn: 0.6332075\ttotal: 2.12s\tremaining: 690ms\n",
      "754:\tlearn: 0.6330589\ttotal: 2.12s\tremaining: 687ms\n",
      "755:\tlearn: 0.6328733\ttotal: 2.12s\tremaining: 685ms\n",
      "756:\tlearn: 0.6327141\ttotal: 2.12s\tremaining: 682ms\n",
      "757:\tlearn: 0.6325530\ttotal: 2.13s\tremaining: 679ms\n",
      "758:\tlearn: 0.6323989\ttotal: 2.13s\tremaining: 676ms\n",
      "759:\tlearn: 0.6322859\ttotal: 2.13s\tremaining: 673ms\n",
      "760:\tlearn: 0.6321664\ttotal: 2.13s\tremaining: 670ms\n",
      "761:\tlearn: 0.6320141\ttotal: 2.14s\tremaining: 668ms\n",
      "762:\tlearn: 0.6319259\ttotal: 2.14s\tremaining: 665ms\n",
      "763:\tlearn: 0.6317719\ttotal: 2.14s\tremaining: 662ms\n",
      "764:\tlearn: 0.6316599\ttotal: 2.15s\tremaining: 660ms\n",
      "765:\tlearn: 0.6314688\ttotal: 2.15s\tremaining: 657ms\n",
      "766:\tlearn: 0.6314225\ttotal: 2.15s\tremaining: 654ms\n",
      "767:\tlearn: 0.6312912\ttotal: 2.16s\tremaining: 652ms\n",
      "768:\tlearn: 0.6311818\ttotal: 2.16s\tremaining: 649ms\n",
      "769:\tlearn: 0.6310219\ttotal: 2.16s\tremaining: 646ms\n",
      "770:\tlearn: 0.6309487\ttotal: 2.17s\tremaining: 644ms\n",
      "771:\tlearn: 0.6307788\ttotal: 2.17s\tremaining: 641ms\n",
      "772:\tlearn: 0.6306534\ttotal: 2.17s\tremaining: 638ms\n",
      "773:\tlearn: 0.6305512\ttotal: 2.17s\tremaining: 635ms\n",
      "774:\tlearn: 0.6304494\ttotal: 2.18s\tremaining: 632ms\n",
      "775:\tlearn: 0.6302552\ttotal: 2.18s\tremaining: 630ms\n",
      "776:\tlearn: 0.6301937\ttotal: 2.18s\tremaining: 627ms\n",
      "777:\tlearn: 0.6299264\ttotal: 2.19s\tremaining: 624ms\n",
      "778:\tlearn: 0.6298065\ttotal: 2.19s\tremaining: 621ms\n",
      "779:\tlearn: 0.6296451\ttotal: 2.19s\tremaining: 619ms\n",
      "780:\tlearn: 0.6294606\ttotal: 2.19s\tremaining: 616ms\n",
      "781:\tlearn: 0.6293775\ttotal: 2.2s\tremaining: 613ms\n",
      "782:\tlearn: 0.6292428\ttotal: 2.2s\tremaining: 610ms\n",
      "783:\tlearn: 0.6290494\ttotal: 2.2s\tremaining: 607ms\n",
      "784:\tlearn: 0.6290173\ttotal: 2.21s\tremaining: 604ms\n",
      "785:\tlearn: 0.6288585\ttotal: 2.21s\tremaining: 601ms\n",
      "786:\tlearn: 0.6286846\ttotal: 2.21s\tremaining: 598ms\n",
      "787:\tlearn: 0.6284425\ttotal: 2.21s\tremaining: 595ms\n",
      "788:\tlearn: 0.6283646\ttotal: 2.21s\tremaining: 592ms\n",
      "789:\tlearn: 0.6282032\ttotal: 2.22s\tremaining: 590ms\n",
      "790:\tlearn: 0.6280674\ttotal: 2.22s\tremaining: 587ms\n",
      "791:\tlearn: 0.6279978\ttotal: 2.22s\tremaining: 584ms\n",
      "792:\tlearn: 0.6279372\ttotal: 2.23s\tremaining: 581ms\n",
      "793:\tlearn: 0.6277722\ttotal: 2.23s\tremaining: 578ms\n",
      "794:\tlearn: 0.6276220\ttotal: 2.23s\tremaining: 575ms\n",
      "795:\tlearn: 0.6274414\ttotal: 2.23s\tremaining: 572ms\n",
      "796:\tlearn: 0.6273832\ttotal: 2.23s\tremaining: 569ms\n",
      "797:\tlearn: 0.6272919\ttotal: 2.24s\tremaining: 566ms\n",
      "798:\tlearn: 0.6271253\ttotal: 2.24s\tremaining: 564ms\n",
      "799:\tlearn: 0.6270334\ttotal: 2.24s\tremaining: 561ms\n",
      "800:\tlearn: 0.6269273\ttotal: 2.25s\tremaining: 558ms\n",
      "801:\tlearn: 0.6267733\ttotal: 2.25s\tremaining: 555ms\n",
      "802:\tlearn: 0.6265102\ttotal: 2.25s\tremaining: 552ms\n",
      "803:\tlearn: 0.6264076\ttotal: 2.25s\tremaining: 549ms\n",
      "804:\tlearn: 0.6261214\ttotal: 2.26s\tremaining: 547ms\n",
      "805:\tlearn: 0.6259928\ttotal: 2.26s\tremaining: 544ms\n",
      "806:\tlearn: 0.6259217\ttotal: 2.26s\tremaining: 541ms\n",
      "807:\tlearn: 0.6258057\ttotal: 2.26s\tremaining: 538ms\n",
      "808:\tlearn: 0.6256114\ttotal: 2.27s\tremaining: 535ms\n",
      "809:\tlearn: 0.6255038\ttotal: 2.27s\tremaining: 532ms\n",
      "810:\tlearn: 0.6254555\ttotal: 2.27s\tremaining: 529ms\n",
      "811:\tlearn: 0.6253461\ttotal: 2.27s\tremaining: 526ms\n",
      "812:\tlearn: 0.6252267\ttotal: 2.27s\tremaining: 523ms\n",
      "813:\tlearn: 0.6250990\ttotal: 2.28s\tremaining: 520ms\n",
      "814:\tlearn: 0.6249560\ttotal: 2.28s\tremaining: 517ms\n",
      "815:\tlearn: 0.6247715\ttotal: 2.28s\tremaining: 515ms\n",
      "816:\tlearn: 0.6246902\ttotal: 2.28s\tremaining: 512ms\n",
      "817:\tlearn: 0.6245648\ttotal: 2.29s\tremaining: 509ms\n",
      "818:\tlearn: 0.6243895\ttotal: 2.29s\tremaining: 506ms\n",
      "819:\tlearn: 0.6243109\ttotal: 2.29s\tremaining: 503ms\n",
      "820:\tlearn: 0.6241275\ttotal: 2.29s\tremaining: 500ms\n",
      "821:\tlearn: 0.6240099\ttotal: 2.3s\tremaining: 497ms\n",
      "822:\tlearn: 0.6237816\ttotal: 2.3s\tremaining: 495ms\n",
      "823:\tlearn: 0.6235837\ttotal: 2.3s\tremaining: 492ms\n",
      "824:\tlearn: 0.6234657\ttotal: 2.31s\tremaining: 489ms\n",
      "825:\tlearn: 0.6233644\ttotal: 2.31s\tremaining: 486ms\n",
      "826:\tlearn: 0.6232595\ttotal: 2.31s\tremaining: 483ms\n",
      "827:\tlearn: 0.6231737\ttotal: 2.31s\tremaining: 481ms\n",
      "828:\tlearn: 0.6230847\ttotal: 2.31s\tremaining: 478ms\n",
      "829:\tlearn: 0.6229384\ttotal: 2.32s\tremaining: 475ms\n",
      "830:\tlearn: 0.6228061\ttotal: 2.32s\tremaining: 472ms\n",
      "831:\tlearn: 0.6226117\ttotal: 2.32s\tremaining: 469ms\n",
      "832:\tlearn: 0.6224795\ttotal: 2.33s\tremaining: 466ms\n",
      "833:\tlearn: 0.6223843\ttotal: 2.33s\tremaining: 463ms\n",
      "834:\tlearn: 0.6221842\ttotal: 2.33s\tremaining: 460ms\n",
      "835:\tlearn: 0.6220188\ttotal: 2.33s\tremaining: 458ms\n",
      "836:\tlearn: 0.6219411\ttotal: 2.33s\tremaining: 455ms\n",
      "837:\tlearn: 0.6218134\ttotal: 2.34s\tremaining: 452ms\n",
      "838:\tlearn: 0.6217078\ttotal: 2.34s\tremaining: 449ms\n",
      "839:\tlearn: 0.6215280\ttotal: 2.34s\tremaining: 446ms\n",
      "840:\tlearn: 0.6214238\ttotal: 2.34s\tremaining: 443ms\n",
      "841:\tlearn: 0.6212455\ttotal: 2.35s\tremaining: 440ms\n",
      "842:\tlearn: 0.6211888\ttotal: 2.35s\tremaining: 437ms\n",
      "843:\tlearn: 0.6210850\ttotal: 2.35s\tremaining: 435ms\n",
      "844:\tlearn: 0.6209652\ttotal: 2.35s\tremaining: 432ms\n",
      "845:\tlearn: 0.6207313\ttotal: 2.35s\tremaining: 429ms\n",
      "846:\tlearn: 0.6206254\ttotal: 2.36s\tremaining: 426ms\n",
      "847:\tlearn: 0.6203865\ttotal: 2.36s\tremaining: 423ms\n",
      "848:\tlearn: 0.6202715\ttotal: 2.36s\tremaining: 420ms\n",
      "849:\tlearn: 0.6201216\ttotal: 2.36s\tremaining: 417ms\n",
      "850:\tlearn: 0.6199928\ttotal: 2.37s\tremaining: 414ms\n",
      "851:\tlearn: 0.6199190\ttotal: 2.37s\tremaining: 412ms\n",
      "852:\tlearn: 0.6198478\ttotal: 2.37s\tremaining: 409ms\n",
      "853:\tlearn: 0.6197303\ttotal: 2.37s\tremaining: 406ms\n",
      "854:\tlearn: 0.6195872\ttotal: 2.38s\tremaining: 403ms\n",
      "855:\tlearn: 0.6194447\ttotal: 2.38s\tremaining: 400ms\n",
      "856:\tlearn: 0.6193971\ttotal: 2.38s\tremaining: 397ms\n",
      "857:\tlearn: 0.6192039\ttotal: 2.38s\tremaining: 394ms\n",
      "858:\tlearn: 0.6189965\ttotal: 2.38s\tremaining: 392ms\n",
      "859:\tlearn: 0.6187807\ttotal: 2.39s\tremaining: 389ms\n",
      "860:\tlearn: 0.6186635\ttotal: 2.39s\tremaining: 386ms\n",
      "861:\tlearn: 0.6185627\ttotal: 2.39s\tremaining: 383ms\n",
      "862:\tlearn: 0.6183863\ttotal: 2.39s\tremaining: 380ms\n",
      "863:\tlearn: 0.6183408\ttotal: 2.4s\tremaining: 377ms\n",
      "864:\tlearn: 0.6182255\ttotal: 2.4s\tremaining: 374ms\n",
      "865:\tlearn: 0.6180794\ttotal: 2.4s\tremaining: 372ms\n",
      "866:\tlearn: 0.6178790\ttotal: 2.4s\tremaining: 369ms\n",
      "867:\tlearn: 0.6177825\ttotal: 2.41s\tremaining: 366ms\n",
      "868:\tlearn: 0.6176727\ttotal: 2.41s\tremaining: 363ms\n",
      "869:\tlearn: 0.6174902\ttotal: 2.41s\tremaining: 360ms\n",
      "870:\tlearn: 0.6172653\ttotal: 2.41s\tremaining: 357ms\n",
      "871:\tlearn: 0.6171137\ttotal: 2.42s\tremaining: 355ms\n",
      "872:\tlearn: 0.6170459\ttotal: 2.42s\tremaining: 352ms\n",
      "873:\tlearn: 0.6169277\ttotal: 2.42s\tremaining: 349ms\n",
      "874:\tlearn: 0.6167815\ttotal: 2.42s\tremaining: 346ms\n",
      "875:\tlearn: 0.6166422\ttotal: 2.42s\tremaining: 343ms\n",
      "876:\tlearn: 0.6165162\ttotal: 2.43s\tremaining: 340ms\n",
      "877:\tlearn: 0.6163960\ttotal: 2.43s\tremaining: 338ms\n",
      "878:\tlearn: 0.6163065\ttotal: 2.43s\tremaining: 335ms\n",
      "879:\tlearn: 0.6161259\ttotal: 2.44s\tremaining: 332ms\n",
      "880:\tlearn: 0.6159416\ttotal: 2.44s\tremaining: 330ms\n",
      "881:\tlearn: 0.6158718\ttotal: 2.44s\tremaining: 327ms\n",
      "882:\tlearn: 0.6157516\ttotal: 2.44s\tremaining: 324ms\n",
      "883:\tlearn: 0.6156698\ttotal: 2.45s\tremaining: 321ms\n",
      "884:\tlearn: 0.6154923\ttotal: 2.45s\tremaining: 318ms\n",
      "885:\tlearn: 0.6153695\ttotal: 2.45s\tremaining: 316ms\n",
      "886:\tlearn: 0.6152140\ttotal: 2.45s\tremaining: 313ms\n"
     ]
    },
    {
     "name": "stdout",
     "output_type": "stream",
     "text": [
      "887:\tlearn: 0.6151094\ttotal: 2.46s\tremaining: 310ms\n",
      "888:\tlearn: 0.6149291\ttotal: 2.46s\tremaining: 307ms\n",
      "889:\tlearn: 0.6148094\ttotal: 2.46s\tremaining: 304ms\n",
      "890:\tlearn: 0.6147277\ttotal: 2.46s\tremaining: 302ms\n",
      "891:\tlearn: 0.6146767\ttotal: 2.47s\tremaining: 299ms\n",
      "892:\tlearn: 0.6144864\ttotal: 2.47s\tremaining: 296ms\n",
      "893:\tlearn: 0.6144158\ttotal: 2.47s\tremaining: 293ms\n",
      "894:\tlearn: 0.6143185\ttotal: 2.48s\tremaining: 290ms\n",
      "895:\tlearn: 0.6142071\ttotal: 2.48s\tremaining: 288ms\n",
      "896:\tlearn: 0.6140406\ttotal: 2.48s\tremaining: 285ms\n",
      "897:\tlearn: 0.6139268\ttotal: 2.48s\tremaining: 282ms\n",
      "898:\tlearn: 0.6137590\ttotal: 2.49s\tremaining: 280ms\n",
      "899:\tlearn: 0.6135577\ttotal: 2.49s\tremaining: 277ms\n",
      "900:\tlearn: 0.6134007\ttotal: 2.49s\tremaining: 274ms\n",
      "901:\tlearn: 0.6132913\ttotal: 2.5s\tremaining: 271ms\n",
      "902:\tlearn: 0.6132190\ttotal: 2.5s\tremaining: 268ms\n",
      "903:\tlearn: 0.6130543\ttotal: 2.5s\tremaining: 266ms\n",
      "904:\tlearn: 0.6128962\ttotal: 2.5s\tremaining: 263ms\n",
      "905:\tlearn: 0.6127868\ttotal: 2.51s\tremaining: 260ms\n",
      "906:\tlearn: 0.6125718\ttotal: 2.51s\tremaining: 257ms\n",
      "907:\tlearn: 0.6124418\ttotal: 2.51s\tremaining: 254ms\n",
      "908:\tlearn: 0.6123681\ttotal: 2.51s\tremaining: 252ms\n",
      "909:\tlearn: 0.6122687\ttotal: 2.52s\tremaining: 249ms\n",
      "910:\tlearn: 0.6121615\ttotal: 2.52s\tremaining: 246ms\n",
      "911:\tlearn: 0.6120588\ttotal: 2.52s\tremaining: 243ms\n",
      "912:\tlearn: 0.6119165\ttotal: 2.52s\tremaining: 241ms\n",
      "913:\tlearn: 0.6118077\ttotal: 2.53s\tremaining: 238ms\n",
      "914:\tlearn: 0.6117140\ttotal: 2.53s\tremaining: 235ms\n",
      "915:\tlearn: 0.6115988\ttotal: 2.53s\tremaining: 232ms\n",
      "916:\tlearn: 0.6114579\ttotal: 2.53s\tremaining: 229ms\n",
      "917:\tlearn: 0.6113955\ttotal: 2.54s\tremaining: 227ms\n",
      "918:\tlearn: 0.6112631\ttotal: 2.54s\tremaining: 224ms\n",
      "919:\tlearn: 0.6110810\ttotal: 2.54s\tremaining: 221ms\n",
      "920:\tlearn: 0.6109441\ttotal: 2.54s\tremaining: 218ms\n",
      "921:\tlearn: 0.6108450\ttotal: 2.55s\tremaining: 215ms\n",
      "922:\tlearn: 0.6107268\ttotal: 2.55s\tremaining: 213ms\n",
      "923:\tlearn: 0.6105440\ttotal: 2.55s\tremaining: 210ms\n",
      "924:\tlearn: 0.6104396\ttotal: 2.55s\tremaining: 207ms\n",
      "925:\tlearn: 0.6103439\ttotal: 2.56s\tremaining: 204ms\n",
      "926:\tlearn: 0.6101901\ttotal: 2.56s\tremaining: 202ms\n",
      "927:\tlearn: 0.6100671\ttotal: 2.56s\tremaining: 199ms\n",
      "928:\tlearn: 0.6099599\ttotal: 2.56s\tremaining: 196ms\n",
      "929:\tlearn: 0.6097747\ttotal: 2.57s\tremaining: 193ms\n",
      "930:\tlearn: 0.6097030\ttotal: 2.57s\tremaining: 190ms\n",
      "931:\tlearn: 0.6096266\ttotal: 2.57s\tremaining: 188ms\n",
      "932:\tlearn: 0.6094636\ttotal: 2.57s\tremaining: 185ms\n",
      "933:\tlearn: 0.6093446\ttotal: 2.58s\tremaining: 182ms\n",
      "934:\tlearn: 0.6092283\ttotal: 2.58s\tremaining: 179ms\n",
      "935:\tlearn: 0.6091143\ttotal: 2.58s\tremaining: 176ms\n",
      "936:\tlearn: 0.6090337\ttotal: 2.58s\tremaining: 174ms\n",
      "937:\tlearn: 0.6088568\ttotal: 2.58s\tremaining: 171ms\n",
      "938:\tlearn: 0.6087467\ttotal: 2.59s\tremaining: 168ms\n",
      "939:\tlearn: 0.6086208\ttotal: 2.59s\tremaining: 165ms\n",
      "940:\tlearn: 0.6083912\ttotal: 2.59s\tremaining: 163ms\n",
      "941:\tlearn: 0.6082483\ttotal: 2.59s\tremaining: 160ms\n",
      "942:\tlearn: 0.6081399\ttotal: 2.6s\tremaining: 157ms\n",
      "943:\tlearn: 0.6080440\ttotal: 2.6s\tremaining: 154ms\n",
      "944:\tlearn: 0.6079017\ttotal: 2.6s\tremaining: 151ms\n",
      "945:\tlearn: 0.6078025\ttotal: 2.6s\tremaining: 149ms\n",
      "946:\tlearn: 0.6076958\ttotal: 2.61s\tremaining: 146ms\n",
      "947:\tlearn: 0.6076113\ttotal: 2.61s\tremaining: 143ms\n",
      "948:\tlearn: 0.6074565\ttotal: 2.61s\tremaining: 140ms\n",
      "949:\tlearn: 0.6074284\ttotal: 2.61s\tremaining: 138ms\n",
      "950:\tlearn: 0.6073510\ttotal: 2.62s\tremaining: 135ms\n",
      "951:\tlearn: 0.6072276\ttotal: 2.62s\tremaining: 132ms\n",
      "952:\tlearn: 0.6070701\ttotal: 2.62s\tremaining: 129ms\n",
      "953:\tlearn: 0.6069405\ttotal: 2.62s\tremaining: 126ms\n",
      "954:\tlearn: 0.6068403\ttotal: 2.63s\tremaining: 124ms\n",
      "955:\tlearn: 0.6067159\ttotal: 2.63s\tremaining: 121ms\n",
      "956:\tlearn: 0.6066347\ttotal: 2.63s\tremaining: 118ms\n",
      "957:\tlearn: 0.6065194\ttotal: 2.63s\tremaining: 115ms\n",
      "958:\tlearn: 0.6064351\ttotal: 2.64s\tremaining: 113ms\n",
      "959:\tlearn: 0.6063078\ttotal: 2.64s\tremaining: 110ms\n",
      "960:\tlearn: 0.6061927\ttotal: 2.64s\tremaining: 107ms\n",
      "961:\tlearn: 0.6060941\ttotal: 2.64s\tremaining: 104ms\n",
      "962:\tlearn: 0.6060294\ttotal: 2.65s\tremaining: 102ms\n",
      "963:\tlearn: 0.6059434\ttotal: 2.65s\tremaining: 98.9ms\n",
      "964:\tlearn: 0.6058757\ttotal: 2.65s\tremaining: 96.1ms\n",
      "965:\tlearn: 0.6057351\ttotal: 2.65s\tremaining: 93.4ms\n",
      "966:\tlearn: 0.6056019\ttotal: 2.65s\tremaining: 90.6ms\n",
      "967:\tlearn: 0.6055387\ttotal: 2.66s\tremaining: 87.9ms\n",
      "968:\tlearn: 0.6055096\ttotal: 2.66s\tremaining: 85.1ms\n",
      "969:\tlearn: 0.6054315\ttotal: 2.66s\tremaining: 82.3ms\n",
      "970:\tlearn: 0.6053279\ttotal: 2.66s\tremaining: 79.6ms\n",
      "971:\tlearn: 0.6052249\ttotal: 2.67s\tremaining: 76.8ms\n",
      "972:\tlearn: 0.6051311\ttotal: 2.67s\tremaining: 74.1ms\n",
      "973:\tlearn: 0.6050760\ttotal: 2.67s\tremaining: 71.3ms\n",
      "974:\tlearn: 0.6049412\ttotal: 2.67s\tremaining: 68.6ms\n",
      "975:\tlearn: 0.6048475\ttotal: 2.68s\tremaining: 65.8ms\n",
      "976:\tlearn: 0.6047436\ttotal: 2.68s\tremaining: 63.1ms\n",
      "977:\tlearn: 0.6045503\ttotal: 2.68s\tremaining: 60.3ms\n",
      "978:\tlearn: 0.6044753\ttotal: 2.68s\tremaining: 57.6ms\n",
      "979:\tlearn: 0.6043114\ttotal: 2.69s\tremaining: 54.8ms\n",
      "980:\tlearn: 0.6042124\ttotal: 2.69s\tremaining: 52.1ms\n",
      "981:\tlearn: 0.6040935\ttotal: 2.69s\tremaining: 49.3ms\n",
      "982:\tlearn: 0.6039493\ttotal: 2.69s\tremaining: 46.6ms\n",
      "983:\tlearn: 0.6038266\ttotal: 2.69s\tremaining: 43.8ms\n",
      "984:\tlearn: 0.6036482\ttotal: 2.7s\tremaining: 41.1ms\n",
      "985:\tlearn: 0.6034583\ttotal: 2.7s\tremaining: 38.3ms\n",
      "986:\tlearn: 0.6033620\ttotal: 2.7s\tremaining: 35.6ms\n",
      "987:\tlearn: 0.6033046\ttotal: 2.7s\tremaining: 32.8ms\n",
      "988:\tlearn: 0.6031640\ttotal: 2.71s\tremaining: 30.1ms\n",
      "989:\tlearn: 0.6031035\ttotal: 2.71s\tremaining: 27.4ms\n",
      "990:\tlearn: 0.6029778\ttotal: 2.71s\tremaining: 24.6ms\n",
      "991:\tlearn: 0.6028686\ttotal: 2.71s\tremaining: 21.9ms\n",
      "992:\tlearn: 0.6026982\ttotal: 2.71s\tremaining: 19.1ms\n",
      "993:\tlearn: 0.6025905\ttotal: 2.72s\tremaining: 16.4ms\n",
      "994:\tlearn: 0.6023379\ttotal: 2.72s\tremaining: 13.7ms\n",
      "995:\tlearn: 0.6022447\ttotal: 2.72s\tremaining: 10.9ms\n",
      "996:\tlearn: 0.6020390\ttotal: 2.72s\tremaining: 8.2ms\n",
      "997:\tlearn: 0.6019076\ttotal: 2.73s\tremaining: 5.46ms\n",
      "998:\tlearn: 0.6017895\ttotal: 2.73s\tremaining: 2.73ms\n",
      "999:\tlearn: 0.6016585\ttotal: 2.73s\tremaining: 0us\n"
     ]
    },
    {
     "data": {
      "text/plain": [
       "<catboost.core.CatBoostRegressor at 0x167095f17c8>"
      ]
     },
     "execution_count": 62,
     "metadata": {},
     "output_type": "execute_result"
    }
   ],
   "source": [
    "from catboost import CatBoostRegressor\n",
    "catboost_reg = CatBoostRegressor()\n",
    "catboost_reg.fit(X_train, y_train)"
   ]
  },
  {
   "cell_type": "code",
   "execution_count": 63,
   "metadata": {},
   "outputs": [
    {
     "name": "stdout",
     "output_type": "stream",
     "text": [
      "-6385.513629808638\n",
      "-1572.008105659888\n"
     ]
    }
   ],
   "source": [
    "y_pred = catboost_reg.predict(X_test)\n",
    "print(catboost_reg.score(X_train, y_train))\n",
    "print(catboost_reg.score(X_test, y_test))"
   ]
  },
  {
   "cell_type": "code",
   "execution_count": 64,
   "metadata": {},
   "outputs": [],
   "source": [
    "predict_train = catboost_reg.predict(X_train)\n",
    "predict_test  = catboost_reg.predict(X_test)"
   ]
  },
  {
   "cell_type": "code",
   "execution_count": 65,
   "metadata": {},
   "outputs": [
    {
     "name": "stdout",
     "output_type": "stream",
     "text": [
      "RMSE on train data:  0.6016585352441411\n",
      "RMSE on test data:  0.7385167911147609\n"
     ]
    }
   ],
   "source": [
    "from sklearn.metrics import mean_squared_error\n",
    "from sklearn import metrics\n",
    "print('RMSE on train data: ', np.sqrt(metrics.mean_squared_error(y_train, predict_train)))\n",
    "print('RMSE on test data: ',  np.sqrt(metrics.mean_squared_error(y_test, predict_test)))"
   ]
  },
  {
   "cell_type": "code",
   "execution_count": 160,
   "metadata": {},
   "outputs": [
    {
     "name": "stdout",
     "output_type": "stream",
     "text": [
      "Wall time: 6.56 s\n"
     ]
    },
    {
     "data": {
      "text/plain": [
       "VotingRegressor(estimators=[('gbr',\n",
       "                             GradientBoostingRegressor(alpha=0.9,\n",
       "                                                       criterion='friedman_mse',\n",
       "                                                       init=None,\n",
       "                                                       learning_rate=0.1,\n",
       "                                                       loss='ls', max_depth=3,\n",
       "                                                       max_features=None,\n",
       "                                                       max_leaf_nodes=None,\n",
       "                                                       min_impurity_decrease=0.0,\n",
       "                                                       min_impurity_split=None,\n",
       "                                                       min_samples_leaf=1,\n",
       "                                                       min_samples_split=2,\n",
       "                                                       min_weight_fraction_leaf=0.0,\n",
       "                                                       n_estimators=100,\n",
       "                                                       n_iter_no_change=None,\n",
       "                                                       presort='auto',\n",
       "                                                       random_state=0,\n",
       "                                                       subsample=1.0,\n",
       "                                                       tol=0.0001,\n",
       "                                                       validation_fraction=0.1,\n",
       "                                                       verbose=0,\n",
       "                                                       warm_start=False)),\n",
       "                            ('catboost_reg',\n",
       "                             <catboost.core.CatBoostRegressor object at 0x0000017ECC4489C8>)],\n",
       "                n_jobs=-1, weights=None)"
      ]
     },
     "execution_count": 160,
     "metadata": {},
     "output_type": "execute_result"
    }
   ],
   "source": [
    "%%time\n",
    "\n",
    "model = VotingRegressor([('gbr', gbr),('catboost_reg',catboost_reg)],n_jobs=-1)\n",
    "\n",
    "model.fit(X_train, y_train)"
   ]
  },
  {
   "cell_type": "code",
   "execution_count": 161,
   "metadata": {},
   "outputs": [
    {
     "name": "stdout",
     "output_type": "stream",
     "text": [
      "0.5715160174544265\n",
      "0.47600249317258664\n"
     ]
    }
   ],
   "source": [
    "y_pred = model.predict(X_test)\n",
    "print(model.score(X_train, y_train))\n",
    "print(model.score(X_test, y_test))"
   ]
  },
  {
   "cell_type": "code",
   "execution_count": 162,
   "metadata": {},
   "outputs": [],
   "source": [
    "predict_train = model.predict(X_train)\n",
    "predict_test  = model.predict(X_test)"
   ]
  },
  {
   "cell_type": "code",
   "execution_count": 163,
   "metadata": {},
   "outputs": [
    {
     "name": "stdout",
     "output_type": "stream",
     "text": [
      "RMSE on train data:  0.6537421849684991\n",
      "RMSE on test data:  0.7273613602501299\n"
     ]
    }
   ],
   "source": [
    "print('RMSE on train data: ', np.sqrt(metrics.mean_squared_error(y_train, predict_train)))\n",
    "print('RMSE on test data: ',  np.sqrt(metrics.mean_squared_error(y_test, predict_test)))"
   ]
  },
  {
   "cell_type": "markdown",
   "metadata": {},
   "source": [
    "### HyperParameter tuning"
   ]
  },
  {
   "cell_type": "code",
   "execution_count": 164,
   "metadata": {},
   "outputs": [],
   "source": [
    "from sklearn.model_selection import RandomizedSearchCV\n",
    "\n",
    "#Randomized Search CV\n",
    "\n",
    "# Number of trees in extra tree\n",
    "n_estimators = [int(x) for x in np.linspace(start = 100, stop = 2000, num = 10)]\n",
    "# Number of features to consider at every split\n",
    "max_features = ['auto', 'sqrt', 'log2']\n",
    "# Maximum number of levels in tree\n",
    "max_depth = [int(x) for x in np.linspace(5, 40, num = 8)]\n",
    "# Minimum number of samples required to split a node\n",
    "min_samples_split = [2,3,4, 5, 10, 15, 100]\n",
    "# Minimum number of samples required at each leaf node\n",
    "min_samples_leaf = [1,2,3,4, 5, 10]"
   ]
  },
  {
   "cell_type": "code",
   "execution_count": 165,
   "metadata": {},
   "outputs": [],
   "source": [
    "random_grid = {'n_estimators': n_estimators,\n",
    "               'max_features': max_features,\n",
    "               'max_depth': max_depth,\n",
    "               'min_samples_split': min_samples_split,\n",
    "               'min_samples_leaf': min_samples_leaf}"
   ]
  },
  {
   "cell_type": "code",
   "execution_count": 166,
   "metadata": {},
   "outputs": [],
   "source": [
    "gbr = RandomizedSearchCV(estimator = gbr, param_distributions = random_grid,scoring='neg_mean_squared_error', n_iter = 10, cv = 5, verbose=2, random_state=42, n_jobs = 1)"
   ]
  },
  {
   "cell_type": "code",
   "execution_count": 167,
   "metadata": {},
   "outputs": [
    {
     "name": "stdout",
     "output_type": "stream",
     "text": [
      "Fitting 5 folds for each of 10 candidates, totalling 50 fits\n",
      "[CV] n_estimators=100, min_samples_split=100, min_samples_leaf=2, max_features=log2, max_depth=30 \n"
     ]
    },
    {
     "name": "stderr",
     "output_type": "stream",
     "text": [
      "[Parallel(n_jobs=1)]: Using backend SequentialBackend with 1 concurrent workers.\n",
      "C:\\ProgramData\\Anaconda3\\lib\\site-packages\\sklearn\\ensemble\\gradient_boosting.py:1450: DataConversionWarning: A column-vector y was passed when a 1d array was expected. Please change the shape of y to (n_samples, ), for example using ravel().\n",
      "  y = column_or_1d(y, warn=True)\n"
     ]
    },
    {
     "name": "stdout",
     "output_type": "stream",
     "text": [
      "[CV]  n_estimators=100, min_samples_split=100, min_samples_leaf=2, max_features=log2, max_depth=30, total=   0.5s\n",
      "[CV] n_estimators=100, min_samples_split=100, min_samples_leaf=2, max_features=log2, max_depth=30 \n"
     ]
    },
    {
     "name": "stderr",
     "output_type": "stream",
     "text": [
      "[Parallel(n_jobs=1)]: Done   1 out of   1 | elapsed:    0.4s remaining:    0.0s\n",
      "C:\\ProgramData\\Anaconda3\\lib\\site-packages\\sklearn\\ensemble\\gradient_boosting.py:1450: DataConversionWarning: A column-vector y was passed when a 1d array was expected. Please change the shape of y to (n_samples, ), for example using ravel().\n",
      "  y = column_or_1d(y, warn=True)\n"
     ]
    },
    {
     "name": "stdout",
     "output_type": "stream",
     "text": [
      "[CV]  n_estimators=100, min_samples_split=100, min_samples_leaf=2, max_features=log2, max_depth=30, total=   0.4s\n",
      "[CV] n_estimators=100, min_samples_split=100, min_samples_leaf=2, max_features=log2, max_depth=30 \n"
     ]
    },
    {
     "name": "stderr",
     "output_type": "stream",
     "text": [
      "C:\\ProgramData\\Anaconda3\\lib\\site-packages\\sklearn\\ensemble\\gradient_boosting.py:1450: DataConversionWarning: A column-vector y was passed when a 1d array was expected. Please change the shape of y to (n_samples, ), for example using ravel().\n",
      "  y = column_or_1d(y, warn=True)\n"
     ]
    },
    {
     "name": "stdout",
     "output_type": "stream",
     "text": [
      "[CV]  n_estimators=100, min_samples_split=100, min_samples_leaf=2, max_features=log2, max_depth=30, total=   0.4s\n",
      "[CV] n_estimators=100, min_samples_split=100, min_samples_leaf=2, max_features=log2, max_depth=30 \n"
     ]
    },
    {
     "name": "stderr",
     "output_type": "stream",
     "text": [
      "C:\\ProgramData\\Anaconda3\\lib\\site-packages\\sklearn\\ensemble\\gradient_boosting.py:1450: DataConversionWarning: A column-vector y was passed when a 1d array was expected. Please change the shape of y to (n_samples, ), for example using ravel().\n",
      "  y = column_or_1d(y, warn=True)\n"
     ]
    },
    {
     "name": "stdout",
     "output_type": "stream",
     "text": [
      "[CV]  n_estimators=100, min_samples_split=100, min_samples_leaf=2, max_features=log2, max_depth=30, total=   0.4s\n",
      "[CV] n_estimators=100, min_samples_split=100, min_samples_leaf=2, max_features=log2, max_depth=30 \n"
     ]
    },
    {
     "name": "stderr",
     "output_type": "stream",
     "text": [
      "C:\\ProgramData\\Anaconda3\\lib\\site-packages\\sklearn\\ensemble\\gradient_boosting.py:1450: DataConversionWarning: A column-vector y was passed when a 1d array was expected. Please change the shape of y to (n_samples, ), for example using ravel().\n",
      "  y = column_or_1d(y, warn=True)\n"
     ]
    },
    {
     "name": "stdout",
     "output_type": "stream",
     "text": [
      "[CV]  n_estimators=100, min_samples_split=100, min_samples_leaf=2, max_features=log2, max_depth=30, total=   0.4s\n",
      "[CV] n_estimators=100, min_samples_split=4, min_samples_leaf=1, max_features=log2, max_depth=5 \n",
      "[CV]  n_estimators=100, min_samples_split=4, min_samples_leaf=1, max_features=log2, max_depth=5, total=   0.2s\n",
      "[CV] n_estimators=100, min_samples_split=4, min_samples_leaf=1, max_features=log2, max_depth=5 \n"
     ]
    },
    {
     "name": "stderr",
     "output_type": "stream",
     "text": [
      "C:\\ProgramData\\Anaconda3\\lib\\site-packages\\sklearn\\ensemble\\gradient_boosting.py:1450: DataConversionWarning: A column-vector y was passed when a 1d array was expected. Please change the shape of y to (n_samples, ), for example using ravel().\n",
      "  y = column_or_1d(y, warn=True)\n",
      "C:\\ProgramData\\Anaconda3\\lib\\site-packages\\sklearn\\ensemble\\gradient_boosting.py:1450: DataConversionWarning: A column-vector y was passed when a 1d array was expected. Please change the shape of y to (n_samples, ), for example using ravel().\n",
      "  y = column_or_1d(y, warn=True)\n"
     ]
    },
    {
     "name": "stdout",
     "output_type": "stream",
     "text": [
      "[CV]  n_estimators=100, min_samples_split=4, min_samples_leaf=1, max_features=log2, max_depth=5, total=   0.2s\n",
      "[CV] n_estimators=100, min_samples_split=4, min_samples_leaf=1, max_features=log2, max_depth=5 \n",
      "[CV]  n_estimators=100, min_samples_split=4, min_samples_leaf=1, max_features=log2, max_depth=5, total=   0.1s\n",
      "[CV] n_estimators=100, min_samples_split=4, min_samples_leaf=1, max_features=log2, max_depth=5 \n"
     ]
    },
    {
     "name": "stderr",
     "output_type": "stream",
     "text": [
      "C:\\ProgramData\\Anaconda3\\lib\\site-packages\\sklearn\\ensemble\\gradient_boosting.py:1450: DataConversionWarning: A column-vector y was passed when a 1d array was expected. Please change the shape of y to (n_samples, ), for example using ravel().\n",
      "  y = column_or_1d(y, warn=True)\n",
      "C:\\ProgramData\\Anaconda3\\lib\\site-packages\\sklearn\\ensemble\\gradient_boosting.py:1450: DataConversionWarning: A column-vector y was passed when a 1d array was expected. Please change the shape of y to (n_samples, ), for example using ravel().\n",
      "  y = column_or_1d(y, warn=True)\n"
     ]
    },
    {
     "name": "stdout",
     "output_type": "stream",
     "text": [
      "[CV]  n_estimators=100, min_samples_split=4, min_samples_leaf=1, max_features=log2, max_depth=5, total=   0.2s\n",
      "[CV] n_estimators=100, min_samples_split=4, min_samples_leaf=1, max_features=log2, max_depth=5 \n",
      "[CV]  n_estimators=100, min_samples_split=4, min_samples_leaf=1, max_features=log2, max_depth=5, total=   0.1s\n",
      "[CV] n_estimators=100, min_samples_split=2, min_samples_leaf=10, max_features=auto, max_depth=25 \n"
     ]
    },
    {
     "name": "stderr",
     "output_type": "stream",
     "text": [
      "C:\\ProgramData\\Anaconda3\\lib\\site-packages\\sklearn\\ensemble\\gradient_boosting.py:1450: DataConversionWarning: A column-vector y was passed when a 1d array was expected. Please change the shape of y to (n_samples, ), for example using ravel().\n",
      "  y = column_or_1d(y, warn=True)\n",
      "C:\\ProgramData\\Anaconda3\\lib\\site-packages\\sklearn\\ensemble\\gradient_boosting.py:1450: DataConversionWarning: A column-vector y was passed when a 1d array was expected. Please change the shape of y to (n_samples, ), for example using ravel().\n",
      "  y = column_or_1d(y, warn=True)\n"
     ]
    },
    {
     "name": "stdout",
     "output_type": "stream",
     "text": [
      "[CV]  n_estimators=100, min_samples_split=2, min_samples_leaf=10, max_features=auto, max_depth=25, total=   2.4s\n",
      "[CV] n_estimators=100, min_samples_split=2, min_samples_leaf=10, max_features=auto, max_depth=25 \n"
     ]
    },
    {
     "name": "stderr",
     "output_type": "stream",
     "text": [
      "C:\\ProgramData\\Anaconda3\\lib\\site-packages\\sklearn\\ensemble\\gradient_boosting.py:1450: DataConversionWarning: A column-vector y was passed when a 1d array was expected. Please change the shape of y to (n_samples, ), for example using ravel().\n",
      "  y = column_or_1d(y, warn=True)\n"
     ]
    },
    {
     "name": "stdout",
     "output_type": "stream",
     "text": [
      "[CV]  n_estimators=100, min_samples_split=2, min_samples_leaf=10, max_features=auto, max_depth=25, total=   2.4s\n",
      "[CV] n_estimators=100, min_samples_split=2, min_samples_leaf=10, max_features=auto, max_depth=25 \n"
     ]
    },
    {
     "name": "stderr",
     "output_type": "stream",
     "text": [
      "C:\\ProgramData\\Anaconda3\\lib\\site-packages\\sklearn\\ensemble\\gradient_boosting.py:1450: DataConversionWarning: A column-vector y was passed when a 1d array was expected. Please change the shape of y to (n_samples, ), for example using ravel().\n",
      "  y = column_or_1d(y, warn=True)\n"
     ]
    },
    {
     "name": "stdout",
     "output_type": "stream",
     "text": [
      "[CV]  n_estimators=100, min_samples_split=2, min_samples_leaf=10, max_features=auto, max_depth=25, total=   2.7s\n",
      "[CV] n_estimators=100, min_samples_split=2, min_samples_leaf=10, max_features=auto, max_depth=25 \n"
     ]
    },
    {
     "name": "stderr",
     "output_type": "stream",
     "text": [
      "C:\\ProgramData\\Anaconda3\\lib\\site-packages\\sklearn\\ensemble\\gradient_boosting.py:1450: DataConversionWarning: A column-vector y was passed when a 1d array was expected. Please change the shape of y to (n_samples, ), for example using ravel().\n",
      "  y = column_or_1d(y, warn=True)\n"
     ]
    },
    {
     "name": "stdout",
     "output_type": "stream",
     "text": [
      "[CV]  n_estimators=100, min_samples_split=2, min_samples_leaf=10, max_features=auto, max_depth=25, total=   2.3s\n",
      "[CV] n_estimators=100, min_samples_split=2, min_samples_leaf=10, max_features=auto, max_depth=25 \n"
     ]
    },
    {
     "name": "stderr",
     "output_type": "stream",
     "text": [
      "C:\\ProgramData\\Anaconda3\\lib\\site-packages\\sklearn\\ensemble\\gradient_boosting.py:1450: DataConversionWarning: A column-vector y was passed when a 1d array was expected. Please change the shape of y to (n_samples, ), for example using ravel().\n",
      "  y = column_or_1d(y, warn=True)\n"
     ]
    },
    {
     "name": "stdout",
     "output_type": "stream",
     "text": [
      "[CV]  n_estimators=100, min_samples_split=2, min_samples_leaf=10, max_features=auto, max_depth=25, total=   2.4s\n",
      "[CV] n_estimators=311, min_samples_split=3, min_samples_leaf=3, max_features=auto, max_depth=25 \n"
     ]
    },
    {
     "name": "stderr",
     "output_type": "stream",
     "text": [
      "C:\\ProgramData\\Anaconda3\\lib\\site-packages\\sklearn\\ensemble\\gradient_boosting.py:1450: DataConversionWarning: A column-vector y was passed when a 1d array was expected. Please change the shape of y to (n_samples, ), for example using ravel().\n",
      "  y = column_or_1d(y, warn=True)\n"
     ]
    },
    {
     "name": "stdout",
     "output_type": "stream",
     "text": [
      "[CV]  n_estimators=311, min_samples_split=3, min_samples_leaf=3, max_features=auto, max_depth=25, total=  11.3s\n",
      "[CV] n_estimators=311, min_samples_split=3, min_samples_leaf=3, max_features=auto, max_depth=25 \n"
     ]
    },
    {
     "name": "stderr",
     "output_type": "stream",
     "text": [
      "C:\\ProgramData\\Anaconda3\\lib\\site-packages\\sklearn\\ensemble\\gradient_boosting.py:1450: DataConversionWarning: A column-vector y was passed when a 1d array was expected. Please change the shape of y to (n_samples, ), for example using ravel().\n",
      "  y = column_or_1d(y, warn=True)\n"
     ]
    },
    {
     "name": "stdout",
     "output_type": "stream",
     "text": [
      "[CV]  n_estimators=311, min_samples_split=3, min_samples_leaf=3, max_features=auto, max_depth=25, total=  11.3s\n",
      "[CV] n_estimators=311, min_samples_split=3, min_samples_leaf=3, max_features=auto, max_depth=25 \n"
     ]
    },
    {
     "name": "stderr",
     "output_type": "stream",
     "text": [
      "C:\\ProgramData\\Anaconda3\\lib\\site-packages\\sklearn\\ensemble\\gradient_boosting.py:1450: DataConversionWarning: A column-vector y was passed when a 1d array was expected. Please change the shape of y to (n_samples, ), for example using ravel().\n",
      "  y = column_or_1d(y, warn=True)\n"
     ]
    },
    {
     "name": "stdout",
     "output_type": "stream",
     "text": [
      "[CV]  n_estimators=311, min_samples_split=3, min_samples_leaf=3, max_features=auto, max_depth=25, total=  11.1s\n",
      "[CV] n_estimators=311, min_samples_split=3, min_samples_leaf=3, max_features=auto, max_depth=25 \n"
     ]
    },
    {
     "name": "stderr",
     "output_type": "stream",
     "text": [
      "C:\\ProgramData\\Anaconda3\\lib\\site-packages\\sklearn\\ensemble\\gradient_boosting.py:1450: DataConversionWarning: A column-vector y was passed when a 1d array was expected. Please change the shape of y to (n_samples, ), for example using ravel().\n",
      "  y = column_or_1d(y, warn=True)\n"
     ]
    },
    {
     "name": "stdout",
     "output_type": "stream",
     "text": [
      "[CV]  n_estimators=311, min_samples_split=3, min_samples_leaf=3, max_features=auto, max_depth=25, total=  11.2s\n",
      "[CV] n_estimators=311, min_samples_split=3, min_samples_leaf=3, max_features=auto, max_depth=25 \n"
     ]
    },
    {
     "name": "stderr",
     "output_type": "stream",
     "text": [
      "C:\\ProgramData\\Anaconda3\\lib\\site-packages\\sklearn\\ensemble\\gradient_boosting.py:1450: DataConversionWarning: A column-vector y was passed when a 1d array was expected. Please change the shape of y to (n_samples, ), for example using ravel().\n",
      "  y = column_or_1d(y, warn=True)\n"
     ]
    },
    {
     "name": "stdout",
     "output_type": "stream",
     "text": [
      "[CV]  n_estimators=311, min_samples_split=3, min_samples_leaf=3, max_features=auto, max_depth=25, total=  11.1s\n",
      "[CV] n_estimators=944, min_samples_split=100, min_samples_leaf=4, max_features=sqrt, max_depth=25 \n"
     ]
    },
    {
     "name": "stderr",
     "output_type": "stream",
     "text": [
      "C:\\ProgramData\\Anaconda3\\lib\\site-packages\\sklearn\\ensemble\\gradient_boosting.py:1450: DataConversionWarning: A column-vector y was passed when a 1d array was expected. Please change the shape of y to (n_samples, ), for example using ravel().\n",
      "  y = column_or_1d(y, warn=True)\n"
     ]
    },
    {
     "name": "stdout",
     "output_type": "stream",
     "text": [
      "[CV]  n_estimators=944, min_samples_split=100, min_samples_leaf=4, max_features=sqrt, max_depth=25, total=   4.7s\n",
      "[CV] n_estimators=944, min_samples_split=100, min_samples_leaf=4, max_features=sqrt, max_depth=25 \n"
     ]
    },
    {
     "name": "stderr",
     "output_type": "stream",
     "text": [
      "C:\\ProgramData\\Anaconda3\\lib\\site-packages\\sklearn\\ensemble\\gradient_boosting.py:1450: DataConversionWarning: A column-vector y was passed when a 1d array was expected. Please change the shape of y to (n_samples, ), for example using ravel().\n",
      "  y = column_or_1d(y, warn=True)\n"
     ]
    },
    {
     "name": "stdout",
     "output_type": "stream",
     "text": [
      "[CV]  n_estimators=944, min_samples_split=100, min_samples_leaf=4, max_features=sqrt, max_depth=25, total=   4.8s\n",
      "[CV] n_estimators=944, min_samples_split=100, min_samples_leaf=4, max_features=sqrt, max_depth=25 \n"
     ]
    },
    {
     "name": "stderr",
     "output_type": "stream",
     "text": [
      "C:\\ProgramData\\Anaconda3\\lib\\site-packages\\sklearn\\ensemble\\gradient_boosting.py:1450: DataConversionWarning: A column-vector y was passed when a 1d array was expected. Please change the shape of y to (n_samples, ), for example using ravel().\n",
      "  y = column_or_1d(y, warn=True)\n"
     ]
    },
    {
     "name": "stdout",
     "output_type": "stream",
     "text": [
      "[CV]  n_estimators=944, min_samples_split=100, min_samples_leaf=4, max_features=sqrt, max_depth=25, total=   4.8s\n",
      "[CV] n_estimators=944, min_samples_split=100, min_samples_leaf=4, max_features=sqrt, max_depth=25 \n"
     ]
    },
    {
     "name": "stderr",
     "output_type": "stream",
     "text": [
      "C:\\ProgramData\\Anaconda3\\lib\\site-packages\\sklearn\\ensemble\\gradient_boosting.py:1450: DataConversionWarning: A column-vector y was passed when a 1d array was expected. Please change the shape of y to (n_samples, ), for example using ravel().\n",
      "  y = column_or_1d(y, warn=True)\n"
     ]
    },
    {
     "name": "stdout",
     "output_type": "stream",
     "text": [
      "[CV]  n_estimators=944, min_samples_split=100, min_samples_leaf=4, max_features=sqrt, max_depth=25, total=   4.8s\n",
      "[CV] n_estimators=944, min_samples_split=100, min_samples_leaf=4, max_features=sqrt, max_depth=25 \n"
     ]
    },
    {
     "name": "stderr",
     "output_type": "stream",
     "text": [
      "C:\\ProgramData\\Anaconda3\\lib\\site-packages\\sklearn\\ensemble\\gradient_boosting.py:1450: DataConversionWarning: A column-vector y was passed when a 1d array was expected. Please change the shape of y to (n_samples, ), for example using ravel().\n",
      "  y = column_or_1d(y, warn=True)\n"
     ]
    },
    {
     "name": "stdout",
     "output_type": "stream",
     "text": [
      "[CV]  n_estimators=944, min_samples_split=100, min_samples_leaf=4, max_features=sqrt, max_depth=25, total=   4.8s\n",
      "[CV] n_estimators=1155, min_samples_split=5, min_samples_leaf=10, max_features=log2, max_depth=25 \n"
     ]
    },
    {
     "name": "stderr",
     "output_type": "stream",
     "text": [
      "C:\\ProgramData\\Anaconda3\\lib\\site-packages\\sklearn\\ensemble\\gradient_boosting.py:1450: DataConversionWarning: A column-vector y was passed when a 1d array was expected. Please change the shape of y to (n_samples, ), for example using ravel().\n",
      "  y = column_or_1d(y, warn=True)\n"
     ]
    },
    {
     "name": "stdout",
     "output_type": "stream",
     "text": [
      "[CV]  n_estimators=1155, min_samples_split=5, min_samples_leaf=10, max_features=log2, max_depth=25, total=   6.1s\n",
      "[CV] n_estimators=1155, min_samples_split=5, min_samples_leaf=10, max_features=log2, max_depth=25 \n"
     ]
    },
    {
     "name": "stderr",
     "output_type": "stream",
     "text": [
      "C:\\ProgramData\\Anaconda3\\lib\\site-packages\\sklearn\\ensemble\\gradient_boosting.py:1450: DataConversionWarning: A column-vector y was passed when a 1d array was expected. Please change the shape of y to (n_samples, ), for example using ravel().\n",
      "  y = column_or_1d(y, warn=True)\n"
     ]
    },
    {
     "name": "stdout",
     "output_type": "stream",
     "text": [
      "[CV]  n_estimators=1155, min_samples_split=5, min_samples_leaf=10, max_features=log2, max_depth=25, total=   6.2s\n",
      "[CV] n_estimators=1155, min_samples_split=5, min_samples_leaf=10, max_features=log2, max_depth=25 \n"
     ]
    },
    {
     "name": "stderr",
     "output_type": "stream",
     "text": [
      "C:\\ProgramData\\Anaconda3\\lib\\site-packages\\sklearn\\ensemble\\gradient_boosting.py:1450: DataConversionWarning: A column-vector y was passed when a 1d array was expected. Please change the shape of y to (n_samples, ), for example using ravel().\n",
      "  y = column_or_1d(y, warn=True)\n"
     ]
    },
    {
     "name": "stdout",
     "output_type": "stream",
     "text": [
      "[CV]  n_estimators=1155, min_samples_split=5, min_samples_leaf=10, max_features=log2, max_depth=25, total=   6.3s\n",
      "[CV] n_estimators=1155, min_samples_split=5, min_samples_leaf=10, max_features=log2, max_depth=25 \n"
     ]
    },
    {
     "name": "stderr",
     "output_type": "stream",
     "text": [
      "C:\\ProgramData\\Anaconda3\\lib\\site-packages\\sklearn\\ensemble\\gradient_boosting.py:1450: DataConversionWarning: A column-vector y was passed when a 1d array was expected. Please change the shape of y to (n_samples, ), for example using ravel().\n",
      "  y = column_or_1d(y, warn=True)\n"
     ]
    },
    {
     "name": "stdout",
     "output_type": "stream",
     "text": [
      "[CV]  n_estimators=1155, min_samples_split=5, min_samples_leaf=10, max_features=log2, max_depth=25, total=   6.2s\n",
      "[CV] n_estimators=1155, min_samples_split=5, min_samples_leaf=10, max_features=log2, max_depth=25 \n"
     ]
    },
    {
     "name": "stderr",
     "output_type": "stream",
     "text": [
      "C:\\ProgramData\\Anaconda3\\lib\\site-packages\\sklearn\\ensemble\\gradient_boosting.py:1450: DataConversionWarning: A column-vector y was passed when a 1d array was expected. Please change the shape of y to (n_samples, ), for example using ravel().\n",
      "  y = column_or_1d(y, warn=True)\n"
     ]
    },
    {
     "name": "stdout",
     "output_type": "stream",
     "text": [
      "[CV]  n_estimators=1155, min_samples_split=5, min_samples_leaf=10, max_features=log2, max_depth=25, total=   6.3s\n",
      "[CV] n_estimators=1366, min_samples_split=10, min_samples_leaf=1, max_features=sqrt, max_depth=5 \n"
     ]
    },
    {
     "name": "stderr",
     "output_type": "stream",
     "text": [
      "C:\\ProgramData\\Anaconda3\\lib\\site-packages\\sklearn\\ensemble\\gradient_boosting.py:1450: DataConversionWarning: A column-vector y was passed when a 1d array was expected. Please change the shape of y to (n_samples, ), for example using ravel().\n",
      "  y = column_or_1d(y, warn=True)\n"
     ]
    },
    {
     "name": "stdout",
     "output_type": "stream",
     "text": [
      "[CV]  n_estimators=1366, min_samples_split=10, min_samples_leaf=1, max_features=sqrt, max_depth=5, total=   2.3s\n",
      "[CV] n_estimators=1366, min_samples_split=10, min_samples_leaf=1, max_features=sqrt, max_depth=5 \n"
     ]
    },
    {
     "name": "stderr",
     "output_type": "stream",
     "text": [
      "C:\\ProgramData\\Anaconda3\\lib\\site-packages\\sklearn\\ensemble\\gradient_boosting.py:1450: DataConversionWarning: A column-vector y was passed when a 1d array was expected. Please change the shape of y to (n_samples, ), for example using ravel().\n",
      "  y = column_or_1d(y, warn=True)\n"
     ]
    },
    {
     "name": "stdout",
     "output_type": "stream",
     "text": [
      "[CV]  n_estimators=1366, min_samples_split=10, min_samples_leaf=1, max_features=sqrt, max_depth=5, total=   2.3s\n",
      "[CV] n_estimators=1366, min_samples_split=10, min_samples_leaf=1, max_features=sqrt, max_depth=5 \n"
     ]
    },
    {
     "name": "stderr",
     "output_type": "stream",
     "text": [
      "C:\\ProgramData\\Anaconda3\\lib\\site-packages\\sklearn\\ensemble\\gradient_boosting.py:1450: DataConversionWarning: A column-vector y was passed when a 1d array was expected. Please change the shape of y to (n_samples, ), for example using ravel().\n",
      "  y = column_or_1d(y, warn=True)\n"
     ]
    },
    {
     "name": "stdout",
     "output_type": "stream",
     "text": [
      "[CV]  n_estimators=1366, min_samples_split=10, min_samples_leaf=1, max_features=sqrt, max_depth=5, total=   2.5s\n",
      "[CV] n_estimators=1366, min_samples_split=10, min_samples_leaf=1, max_features=sqrt, max_depth=5 \n"
     ]
    },
    {
     "name": "stderr",
     "output_type": "stream",
     "text": [
      "C:\\ProgramData\\Anaconda3\\lib\\site-packages\\sklearn\\ensemble\\gradient_boosting.py:1450: DataConversionWarning: A column-vector y was passed when a 1d array was expected. Please change the shape of y to (n_samples, ), for example using ravel().\n",
      "  y = column_or_1d(y, warn=True)\n"
     ]
    },
    {
     "name": "stdout",
     "output_type": "stream",
     "text": [
      "[CV]  n_estimators=1366, min_samples_split=10, min_samples_leaf=1, max_features=sqrt, max_depth=5, total=   2.3s\n",
      "[CV] n_estimators=1366, min_samples_split=10, min_samples_leaf=1, max_features=sqrt, max_depth=5 \n"
     ]
    },
    {
     "name": "stderr",
     "output_type": "stream",
     "text": [
      "C:\\ProgramData\\Anaconda3\\lib\\site-packages\\sklearn\\ensemble\\gradient_boosting.py:1450: DataConversionWarning: A column-vector y was passed when a 1d array was expected. Please change the shape of y to (n_samples, ), for example using ravel().\n",
      "  y = column_or_1d(y, warn=True)\n"
     ]
    },
    {
     "name": "stdout",
     "output_type": "stream",
     "text": [
      "[CV]  n_estimators=1366, min_samples_split=10, min_samples_leaf=1, max_features=sqrt, max_depth=5, total=   2.4s\n",
      "[CV] n_estimators=1366, min_samples_split=3, min_samples_leaf=4, max_features=sqrt, max_depth=20 \n"
     ]
    },
    {
     "name": "stderr",
     "output_type": "stream",
     "text": [
      "C:\\ProgramData\\Anaconda3\\lib\\site-packages\\sklearn\\ensemble\\gradient_boosting.py:1450: DataConversionWarning: A column-vector y was passed when a 1d array was expected. Please change the shape of y to (n_samples, ), for example using ravel().\n",
      "  y = column_or_1d(y, warn=True)\n"
     ]
    },
    {
     "name": "stdout",
     "output_type": "stream",
     "text": [
      "[CV]  n_estimators=1366, min_samples_split=3, min_samples_leaf=4, max_features=sqrt, max_depth=20, total=   6.6s\n",
      "[CV] n_estimators=1366, min_samples_split=3, min_samples_leaf=4, max_features=sqrt, max_depth=20 \n"
     ]
    },
    {
     "name": "stderr",
     "output_type": "stream",
     "text": [
      "C:\\ProgramData\\Anaconda3\\lib\\site-packages\\sklearn\\ensemble\\gradient_boosting.py:1450: DataConversionWarning: A column-vector y was passed when a 1d array was expected. Please change the shape of y to (n_samples, ), for example using ravel().\n",
      "  y = column_or_1d(y, warn=True)\n"
     ]
    },
    {
     "name": "stdout",
     "output_type": "stream",
     "text": [
      "[CV]  n_estimators=1366, min_samples_split=3, min_samples_leaf=4, max_features=sqrt, max_depth=20, total=   6.7s\n",
      "[CV] n_estimators=1366, min_samples_split=3, min_samples_leaf=4, max_features=sqrt, max_depth=20 \n"
     ]
    },
    {
     "name": "stderr",
     "output_type": "stream",
     "text": [
      "C:\\ProgramData\\Anaconda3\\lib\\site-packages\\sklearn\\ensemble\\gradient_boosting.py:1450: DataConversionWarning: A column-vector y was passed when a 1d array was expected. Please change the shape of y to (n_samples, ), for example using ravel().\n",
      "  y = column_or_1d(y, warn=True)\n"
     ]
    },
    {
     "name": "stdout",
     "output_type": "stream",
     "text": [
      "[CV]  n_estimators=1366, min_samples_split=3, min_samples_leaf=4, max_features=sqrt, max_depth=20, total=   6.9s\n",
      "[CV] n_estimators=1366, min_samples_split=3, min_samples_leaf=4, max_features=sqrt, max_depth=20 \n"
     ]
    },
    {
     "name": "stderr",
     "output_type": "stream",
     "text": [
      "C:\\ProgramData\\Anaconda3\\lib\\site-packages\\sklearn\\ensemble\\gradient_boosting.py:1450: DataConversionWarning: A column-vector y was passed when a 1d array was expected. Please change the shape of y to (n_samples, ), for example using ravel().\n",
      "  y = column_or_1d(y, warn=True)\n"
     ]
    },
    {
     "name": "stdout",
     "output_type": "stream",
     "text": [
      "[CV]  n_estimators=1366, min_samples_split=3, min_samples_leaf=4, max_features=sqrt, max_depth=20, total=   6.7s\n",
      "[CV] n_estimators=1366, min_samples_split=3, min_samples_leaf=4, max_features=sqrt, max_depth=20 \n"
     ]
    },
    {
     "name": "stderr",
     "output_type": "stream",
     "text": [
      "C:\\ProgramData\\Anaconda3\\lib\\site-packages\\sklearn\\ensemble\\gradient_boosting.py:1450: DataConversionWarning: A column-vector y was passed when a 1d array was expected. Please change the shape of y to (n_samples, ), for example using ravel().\n",
      "  y = column_or_1d(y, warn=True)\n"
     ]
    },
    {
     "name": "stdout",
     "output_type": "stream",
     "text": [
      "[CV]  n_estimators=1366, min_samples_split=3, min_samples_leaf=4, max_features=sqrt, max_depth=20, total=   6.8s\n",
      "[CV] n_estimators=1788, min_samples_split=10, min_samples_leaf=2, max_features=sqrt, max_depth=25 \n"
     ]
    },
    {
     "name": "stderr",
     "output_type": "stream",
     "text": [
      "C:\\ProgramData\\Anaconda3\\lib\\site-packages\\sklearn\\ensemble\\gradient_boosting.py:1450: DataConversionWarning: A column-vector y was passed when a 1d array was expected. Please change the shape of y to (n_samples, ), for example using ravel().\n",
      "  y = column_or_1d(y, warn=True)\n"
     ]
    },
    {
     "name": "stdout",
     "output_type": "stream",
     "text": [
      "[CV]  n_estimators=1788, min_samples_split=10, min_samples_leaf=2, max_features=sqrt, max_depth=25, total=   4.6s\n",
      "[CV] n_estimators=1788, min_samples_split=10, min_samples_leaf=2, max_features=sqrt, max_depth=25 \n"
     ]
    },
    {
     "name": "stderr",
     "output_type": "stream",
     "text": [
      "C:\\ProgramData\\Anaconda3\\lib\\site-packages\\sklearn\\ensemble\\gradient_boosting.py:1450: DataConversionWarning: A column-vector y was passed when a 1d array was expected. Please change the shape of y to (n_samples, ), for example using ravel().\n",
      "  y = column_or_1d(y, warn=True)\n"
     ]
    },
    {
     "name": "stdout",
     "output_type": "stream",
     "text": [
      "[CV]  n_estimators=1788, min_samples_split=10, min_samples_leaf=2, max_features=sqrt, max_depth=25, total=   4.8s\n",
      "[CV] n_estimators=1788, min_samples_split=10, min_samples_leaf=2, max_features=sqrt, max_depth=25 \n"
     ]
    },
    {
     "name": "stderr",
     "output_type": "stream",
     "text": [
      "C:\\ProgramData\\Anaconda3\\lib\\site-packages\\sklearn\\ensemble\\gradient_boosting.py:1450: DataConversionWarning: A column-vector y was passed when a 1d array was expected. Please change the shape of y to (n_samples, ), for example using ravel().\n",
      "  y = column_or_1d(y, warn=True)\n"
     ]
    },
    {
     "name": "stdout",
     "output_type": "stream",
     "text": [
      "[CV]  n_estimators=1788, min_samples_split=10, min_samples_leaf=2, max_features=sqrt, max_depth=25, total=   4.7s\n",
      "[CV] n_estimators=1788, min_samples_split=10, min_samples_leaf=2, max_features=sqrt, max_depth=25 \n"
     ]
    },
    {
     "name": "stderr",
     "output_type": "stream",
     "text": [
      "C:\\ProgramData\\Anaconda3\\lib\\site-packages\\sklearn\\ensemble\\gradient_boosting.py:1450: DataConversionWarning: A column-vector y was passed when a 1d array was expected. Please change the shape of y to (n_samples, ), for example using ravel().\n",
      "  y = column_or_1d(y, warn=True)\n"
     ]
    },
    {
     "name": "stdout",
     "output_type": "stream",
     "text": [
      "[CV]  n_estimators=1788, min_samples_split=10, min_samples_leaf=2, max_features=sqrt, max_depth=25, total=   4.6s\n",
      "[CV] n_estimators=1788, min_samples_split=10, min_samples_leaf=2, max_features=sqrt, max_depth=25 \n"
     ]
    },
    {
     "name": "stderr",
     "output_type": "stream",
     "text": [
      "C:\\ProgramData\\Anaconda3\\lib\\site-packages\\sklearn\\ensemble\\gradient_boosting.py:1450: DataConversionWarning: A column-vector y was passed when a 1d array was expected. Please change the shape of y to (n_samples, ), for example using ravel().\n",
      "  y = column_or_1d(y, warn=True)\n"
     ]
    },
    {
     "name": "stdout",
     "output_type": "stream",
     "text": [
      "[CV]  n_estimators=1788, min_samples_split=10, min_samples_leaf=2, max_features=sqrt, max_depth=25, total=   4.8s\n",
      "[CV] n_estimators=522, min_samples_split=100, min_samples_leaf=5, max_features=sqrt, max_depth=35 \n"
     ]
    },
    {
     "name": "stderr",
     "output_type": "stream",
     "text": [
      "C:\\ProgramData\\Anaconda3\\lib\\site-packages\\sklearn\\ensemble\\gradient_boosting.py:1450: DataConversionWarning: A column-vector y was passed when a 1d array was expected. Please change the shape of y to (n_samples, ), for example using ravel().\n",
      "  y = column_or_1d(y, warn=True)\n"
     ]
    },
    {
     "name": "stdout",
     "output_type": "stream",
     "text": [
      "[CV]  n_estimators=522, min_samples_split=100, min_samples_leaf=5, max_features=sqrt, max_depth=35, total=   2.6s\n",
      "[CV] n_estimators=522, min_samples_split=100, min_samples_leaf=5, max_features=sqrt, max_depth=35 \n"
     ]
    },
    {
     "name": "stderr",
     "output_type": "stream",
     "text": [
      "C:\\ProgramData\\Anaconda3\\lib\\site-packages\\sklearn\\ensemble\\gradient_boosting.py:1450: DataConversionWarning: A column-vector y was passed when a 1d array was expected. Please change the shape of y to (n_samples, ), for example using ravel().\n",
      "  y = column_or_1d(y, warn=True)\n"
     ]
    },
    {
     "name": "stdout",
     "output_type": "stream",
     "text": [
      "[CV]  n_estimators=522, min_samples_split=100, min_samples_leaf=5, max_features=sqrt, max_depth=35, total=   2.8s\n",
      "[CV] n_estimators=522, min_samples_split=100, min_samples_leaf=5, max_features=sqrt, max_depth=35 \n"
     ]
    },
    {
     "name": "stderr",
     "output_type": "stream",
     "text": [
      "C:\\ProgramData\\Anaconda3\\lib\\site-packages\\sklearn\\ensemble\\gradient_boosting.py:1450: DataConversionWarning: A column-vector y was passed when a 1d array was expected. Please change the shape of y to (n_samples, ), for example using ravel().\n",
      "  y = column_or_1d(y, warn=True)\n"
     ]
    },
    {
     "name": "stdout",
     "output_type": "stream",
     "text": [
      "[CV]  n_estimators=522, min_samples_split=100, min_samples_leaf=5, max_features=sqrt, max_depth=35, total=   2.6s\n",
      "[CV] n_estimators=522, min_samples_split=100, min_samples_leaf=5, max_features=sqrt, max_depth=35 \n"
     ]
    },
    {
     "name": "stderr",
     "output_type": "stream",
     "text": [
      "C:\\ProgramData\\Anaconda3\\lib\\site-packages\\sklearn\\ensemble\\gradient_boosting.py:1450: DataConversionWarning: A column-vector y was passed when a 1d array was expected. Please change the shape of y to (n_samples, ), for example using ravel().\n",
      "  y = column_or_1d(y, warn=True)\n"
     ]
    },
    {
     "name": "stdout",
     "output_type": "stream",
     "text": [
      "[CV]  n_estimators=522, min_samples_split=100, min_samples_leaf=5, max_features=sqrt, max_depth=35, total=   2.8s\n",
      "[CV] n_estimators=522, min_samples_split=100, min_samples_leaf=5, max_features=sqrt, max_depth=35 \n"
     ]
    },
    {
     "name": "stderr",
     "output_type": "stream",
     "text": [
      "C:\\ProgramData\\Anaconda3\\lib\\site-packages\\sklearn\\ensemble\\gradient_boosting.py:1450: DataConversionWarning: A column-vector y was passed when a 1d array was expected. Please change the shape of y to (n_samples, ), for example using ravel().\n",
      "  y = column_or_1d(y, warn=True)\n"
     ]
    },
    {
     "name": "stdout",
     "output_type": "stream",
     "text": [
      "[CV]  n_estimators=522, min_samples_split=100, min_samples_leaf=5, max_features=sqrt, max_depth=35, total=   2.6s\n"
     ]
    },
    {
     "name": "stderr",
     "output_type": "stream",
     "text": [
      "[Parallel(n_jobs=1)]: Done  50 out of  50 | elapsed:  3.5min finished\n",
      "C:\\ProgramData\\Anaconda3\\lib\\site-packages\\sklearn\\ensemble\\gradient_boosting.py:1450: DataConversionWarning: A column-vector y was passed when a 1d array was expected. Please change the shape of y to (n_samples, ), for example using ravel().\n",
      "  y = column_or_1d(y, warn=True)\n"
     ]
    },
    {
     "data": {
      "text/plain": [
       "RandomizedSearchCV(cv=5, error_score='raise-deprecating',\n",
       "                   estimator=GradientBoostingRegressor(alpha=0.9,\n",
       "                                                       criterion='friedman_mse',\n",
       "                                                       init=None,\n",
       "                                                       learning_rate=0.1,\n",
       "                                                       loss='ls', max_depth=3,\n",
       "                                                       max_features=None,\n",
       "                                                       max_leaf_nodes=None,\n",
       "                                                       min_impurity_decrease=0.0,\n",
       "                                                       min_impurity_split=None,\n",
       "                                                       min_samples_leaf=1,\n",
       "                                                       min_samples_split=2,\n",
       "                                                       min_weight_fraction_leaf=0.0,\n",
       "                                                       n_estimators=100,...\n",
       "                   param_distributions={'max_depth': [5, 10, 15, 20, 25, 30, 35,\n",
       "                                                      40],\n",
       "                                        'max_features': ['auto', 'sqrt',\n",
       "                                                         'log2'],\n",
       "                                        'min_samples_leaf': [1, 2, 3, 4, 5, 10],\n",
       "                                        'min_samples_split': [2, 3, 4, 5, 10,\n",
       "                                                              15, 100],\n",
       "                                        'n_estimators': [100, 311, 522, 733,\n",
       "                                                         944, 1155, 1366, 1577,\n",
       "                                                         1788, 2000]},\n",
       "                   pre_dispatch='2*n_jobs', random_state=42, refit=True,\n",
       "                   return_train_score=False, scoring='neg_mean_squared_error',\n",
       "                   verbose=2)"
      ]
     },
     "execution_count": 167,
     "metadata": {},
     "output_type": "execute_result"
    }
   ],
   "source": [
    "gbr.fit(X_train, y_train)"
   ]
  },
  {
   "cell_type": "code",
   "execution_count": 168,
   "metadata": {},
   "outputs": [
    {
     "data": {
      "text/plain": [
       "{'n_estimators': 100,\n",
       " 'min_samples_split': 4,\n",
       " 'min_samples_leaf': 1,\n",
       " 'max_features': 'log2',\n",
       " 'max_depth': 5}"
      ]
     },
     "execution_count": 168,
     "metadata": {},
     "output_type": "execute_result"
    }
   ],
   "source": [
    "gbr.best_params_"
   ]
  },
  {
   "cell_type": "code",
   "execution_count": 169,
   "metadata": {},
   "outputs": [
    {
     "data": {
      "text/plain": [
       "array([-0.72372099,  0.05909067, -0.5758031 , ..., -0.4990399 ,\n",
       "       -0.19374621, -0.21590543])"
      ]
     },
     "execution_count": 169,
     "metadata": {},
     "output_type": "execute_result"
    }
   ],
   "source": [
    "prediction = gbr.predict(X_test)\n",
    "prediction"
   ]
  },
  {
   "cell_type": "code",
   "execution_count": 170,
   "metadata": {},
   "outputs": [
    {
     "name": "stdout",
     "output_type": "stream",
     "text": [
      "-0.4813564237361616\n",
      "-0.5277032643995238\n",
      "RMSE on train data:  0.6937985469400766\n",
      "RMSE on test data:  0.726431871822488\n"
     ]
    }
   ],
   "source": [
    "print(gbr.score(X_train, y_train))\n",
    "print(gbr.score(X_test, y_test))\n",
    "predict_train = gbr.predict(X_train)\n",
    "predict_test  = gbr.predict(X_test)\n",
    "print('RMSE on train data: ', np.sqrt(metrics.mean_squared_error(y_train, predict_train)))\n",
    "print('RMSE on test data: ',  np.sqrt(metrics.mean_squared_error(y_test, predict_test)))"
   ]
  },
  {
   "cell_type": "code",
   "execution_count": 95,
   "metadata": {},
   "outputs": [
    {
     "data": {
      "image/png": "[encoded data removed]",
      "text/plain": [
       "<Figure size 576x576 with 1 Axes>"
      ]
     },
     "metadata": {
      "needs_background": "light"
     },
     "output_type": "display_data"
    }
   ],
   "source": [
    "plt.figure(figsize = (8,8))\n",
    "plt.scatter(y_test, prediction, alpha = 0.5)\n",
    "plt.xlabel(\"y_test\")\n",
    "plt.ylabel(\"y_pred\")\n",
    "plt.show()"
   ]
  },
  {
   "cell_type": "code",
   "execution_count": 171,
   "metadata": {},
   "outputs": [],
   "source": [
    "import pickle\n",
    "# open a file, where you ant to store the data\n",
    "file = open('gbr.pkl', 'wb')\n",
    "\n",
    "# dump information to that file\n",
    "pickle.dump(gbr, file)"
   ]
  },
  {
   "cell_type": "code",
   "execution_count": 172,
   "metadata": {},
   "outputs": [],
   "source": [
    "result = gbr.predict(df_test)"
   ]
  },
  {
   "cell_type": "code",
   "execution_count": 173,
   "metadata": {},
   "outputs": [
    {
     "data": {
      "text/plain": [
       "array([ 0.96290592, -0.18204252, -0.10573848, ..., -0.18831953,\n",
       "        0.5831654 ,  0.59901489])"
      ]
     },
     "execution_count": 173,
     "metadata": {},
     "output_type": "execute_result"
    }
   ],
   "source": [
    "result"
   ]
  },
  {
   "cell_type": "code",
   "execution_count": 174,
   "metadata": {},
   "outputs": [
    {
     "data": {
      "text/html": [
       "<div>\n",
       "<style scoped>\n",
       "    .dataframe tbody tr th:only-of-type {\n",
       "        vertical-align: middle;\n",
       "    }\n",
       "\n",
       "    .dataframe tbody tr th {\n",
       "        vertical-align: top;\n",
       "    }\n",
       "\n",
       "    .dataframe thead th {\n",
       "        text-align: right;\n",
       "    }\n",
       "</style>\n",
       "<table border=\"1\" class=\"dataframe\">\n",
       "  <thead>\n",
       "    <tr style=\"text-align: right;\">\n",
       "      <th></th>\n",
       "      <th>0</th>\n",
       "    </tr>\n",
       "  </thead>\n",
       "  <tbody>\n",
       "    <tr>\n",
       "      <td>0</td>\n",
       "      <td>0.962906</td>\n",
       "    </tr>\n",
       "    <tr>\n",
       "      <td>1</td>\n",
       "      <td>-0.182043</td>\n",
       "    </tr>\n",
       "    <tr>\n",
       "      <td>2</td>\n",
       "      <td>-0.105738</td>\n",
       "    </tr>\n",
       "    <tr>\n",
       "      <td>3</td>\n",
       "      <td>0.264096</td>\n",
       "    </tr>\n",
       "    <tr>\n",
       "      <td>4</td>\n",
       "      <td>0.343434</td>\n",
       "    </tr>\n",
       "  </tbody>\n",
       "</table>\n",
       "</div>"
      ],
      "text/plain": [
       "          0\n",
       "0  0.962906\n",
       "1 -0.182043\n",
       "2 -0.105738\n",
       "3  0.264096\n",
       "4  0.343434"
      ]
     },
     "execution_count": 174,
     "metadata": {},
     "output_type": "execute_result"
    }
   ],
   "source": [
    "results = pd.DataFrame(data=result)\n",
    "results.head()"
   ]
  },
  {
   "cell_type": "code",
   "execution_count": 175,
   "metadata": {},
   "outputs": [
    {
     "data": {
      "text/plain": [
       "array([[648.53558908],\n",
       "       [ 77.23986321],\n",
       "       [ 86.93129307],\n",
       "       ...,\n",
       "       [ 76.50099956],\n",
       "       [289.89526693],\n",
       "       [299.08901757]])"
      ]
     },
     "execution_count": 175,
     "metadata": {},
     "output_type": "execute_result"
    }
   ],
   "source": [
    "a_inverse_transformed = boxci.inverse_transform(results)\n",
    "a_inverse_transformed"
   ]
  },
  {
   "cell_type": "code",
   "execution_count": 176,
   "metadata": {},
   "outputs": [
    {
     "data": {
      "text/html": [
       "<div>\n",
       "<style scoped>\n",
       "    .dataframe tbody tr th:only-of-type {\n",
       "        vertical-align: middle;\n",
       "    }\n",
       "\n",
       "    .dataframe tbody tr th {\n",
       "        vertical-align: top;\n",
       "    }\n",
       "\n",
       "    .dataframe thead th {\n",
       "        text-align: right;\n",
       "    }\n",
       "</style>\n",
       "<table border=\"1\" class=\"dataframe\">\n",
       "  <thead>\n",
       "    <tr style=\"text-align: right;\">\n",
       "      <th></th>\n",
       "      <th>time_spent</th>\n",
       "    </tr>\n",
       "  </thead>\n",
       "  <tbody>\n",
       "    <tr>\n",
       "      <td>0</td>\n",
       "      <td>648.54</td>\n",
       "    </tr>\n",
       "    <tr>\n",
       "      <td>1</td>\n",
       "      <td>77.24</td>\n",
       "    </tr>\n",
       "    <tr>\n",
       "      <td>2</td>\n",
       "      <td>86.93</td>\n",
       "    </tr>\n",
       "    <tr>\n",
       "      <td>3</td>\n",
       "      <td>160.39</td>\n",
       "    </tr>\n",
       "    <tr>\n",
       "      <td>4</td>\n",
       "      <td>184.69</td>\n",
       "    </tr>\n",
       "  </tbody>\n",
       "</table>\n",
       "</div>"
      ],
      "text/plain": [
       "   time_spent\n",
       "0      648.54\n",
       "1       77.24\n",
       "2       86.93\n",
       "3      160.39\n",
       "4      184.69"
      ]
     },
     "execution_count": 176,
     "metadata": {},
     "output_type": "execute_result"
    }
   ],
   "source": [
    "res = pd.DataFrame(data=a_inverse_transformed, columns={'time_spent': '0'}).round(2)\n",
    "res.head()"
   ]
  },
  {
   "cell_type": "code",
   "execution_count": 177,
   "metadata": {},
   "outputs": [],
   "source": [
    "res.to_csv(\"Submission.csv\", index=False)"
   ]
  },
  {
   "cell_type": "code",
   "execution_count": null,
   "metadata": {},
   "outputs": [],
   "source": []
  }
 ],
 "metadata": {
  "kernelspec": {
   "display_name": "Python 3",
   "language": "python",
   "name": "python3"
  },
  "language_info": {
   "codemirror_mode": {
    "name": "ipython",
    "version": 3
   },
   "file_extension": ".py",
   "mimetype": "text/x-python",
   "name": "python",
   "nbconvert_exporter": "python",
   "pygments_lexer": "ipython3",
   "version": "3.7.4"
  }
 },
 "nbformat": 4,
 "nbformat_minor": 2
}
